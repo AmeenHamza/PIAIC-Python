{
 "cells": [
  {
   "cell_type": "markdown",
   "id": "ae4b2bce",
   "metadata": {},
   "source": [
    "# Function in Function"
   ]
  },
  {
   "cell_type": "code",
   "execution_count": 4,
   "id": "628f381f",
   "metadata": {},
   "outputs": [],
   "source": [
    "def parent(msg):\n",
    "    def child():\n",
    "        print(\"Welcome\")\n",
    "        print(msg)\n",
    "        print(\"Please come in \")\n",
    "    return child()"
   ]
  },
  {
   "cell_type": "code",
   "execution_count": 5,
   "id": "57183564",
   "metadata": {},
   "outputs": [
    {
     "name": "stdout",
     "output_type": "stream",
     "text": [
      "Welcome\n",
      "Hello everyone\n",
      "Please come in \n"
     ]
    }
   ],
   "source": [
    "parent(\"Hello everyone\")"
   ]
  },
  {
   "cell_type": "code",
   "execution_count": 6,
   "id": "4a92c365",
   "metadata": {},
   "outputs": [],
   "source": [
    "def parent(msg):\n",
    "    \n",
    "    return child()"
   ]
  },
  {
   "cell_type": "code",
   "execution_count": 8,
   "id": "380b4f97",
   "metadata": {},
   "outputs": [],
   "source": [
    "def child():\n",
    "    print(\"Welcome\")\n",
    "    print(abc)\n",
    "    print(\"Please come in\")\n",
    "    return child()"
   ]
  },
  {
   "cell_type": "code",
   "execution_count": 9,
   "id": "68f32305",
   "metadata": {},
   "outputs": [],
   "source": [
    "def city_name():\n",
    "    print(\"This is karachi\")"
   ]
  },
  {
   "cell_type": "code",
   "execution_count": 12,
   "id": "f8c7191c",
   "metadata": {},
   "outputs": [],
   "source": [
    "def hy():\n",
    "    print(\"This is the 12 class\")"
   ]
  },
  {
   "cell_type": "code",
   "execution_count": 13,
   "id": "2a0d4827",
   "metadata": {},
   "outputs": [],
   "source": [
    "def parent(func):\n",
    "    def child():\n",
    "        print(\"Welcome\")\n",
    "        func() # yahan per kisi bhi fuction ko call karsakte h\n",
    "        print(\"how are you\")\n",
    "    return child()    "
   ]
  },
  {
   "cell_type": "code",
   "execution_count": 14,
   "id": "c05cf32d",
   "metadata": {},
   "outputs": [
    {
     "name": "stdout",
     "output_type": "stream",
     "text": [
      "Welcome\n",
      "This is the 12 class\n",
      "how are you\n"
     ]
    }
   ],
   "source": [
    "parent(hy) # parameter mein kuch bhi function desakte h "
   ]
  },
  {
   "cell_type": "markdown",
   "id": "080efa48",
   "metadata": {},
   "source": [
    "# DECORATOR"
   ]
  },
  {
   "cell_type": "code",
   "execution_count": 18,
   "id": "141227ab",
   "metadata": {},
   "outputs": [],
   "source": [
    "def profile_fetcher(f):\n",
    "    name = \"Ameen\"\n",
    "    clas = \"Navy\"\n",
    "    profile = f(n=name , c=clas)\n",
    "    \n",
    "    print(profile)"
   ]
  },
  {
   "cell_type": "code",
   "execution_count": 19,
   "id": "43384d2d",
   "metadata": {},
   "outputs": [
    {
     "name": "stdout",
     "output_type": "stream",
     "text": [
      "{'n': 'Ameen', 'c': 'Navy'}\n"
     ]
    }
   ],
   "source": [
    "@profile_fetcher\n",
    "def builder(**details):\n",
    "    \n",
    "    profile = {}\n",
    "    for k,v in details.items():\n",
    "        profile[k] = v\n",
    "    return profile    "
   ]
  },
  {
   "cell_type": "code",
   "execution_count": 23,
   "id": "16f3e685",
   "metadata": {},
   "outputs": [],
   "source": [
    "def abstract(arg):\n",
    "    name1 = input(\"Enter name\")\n",
    "    clas1 = input(\":Enter clas\")\n",
    "    profile1 = arg(n1=name1,c1=clas1)\n",
    "    \n",
    "    print(profile1)"
   ]
  },
  {
   "cell_type": "code",
   "execution_count": 24,
   "id": "bb47466d",
   "metadata": {},
   "outputs": [
    {
     "name": "stdout",
     "output_type": "stream",
     "text": [
      "Enter nameAmeen\n",
      ":Enter clasnabe\n",
      "{'n1': 'Ameen', 'c1': 'nabe'}\n"
     ]
    }
   ],
   "source": [
    "@abstract\n",
    "def call(**calling):\n",
    "    \n",
    "    profile1 ={}\n",
    "    for k1,v1 in calling.items():\n",
    "        profile1[k1] = v1\n",
    "        \n",
    "    return profile1    "
   ]
  },
  {
   "cell_type": "markdown",
   "id": "5157a30a",
   "metadata": {},
   "source": [
    "# ITERATOR"
   ]
  },
  {
   "cell_type": "code",
   "execution_count": 28,
   "id": "17761512",
   "metadata": {},
   "outputs": [],
   "source": [
    "# For loop is an iterator\n",
    "a = [1,2,3,4,5,6]\n",
    "b = iter(a)"
   ]
  },
  {
   "cell_type": "code",
   "execution_count": 36,
   "id": "3128043b",
   "metadata": {},
   "outputs": [
    {
     "ename": "StopIteration",
     "evalue": "",
     "output_type": "error",
     "traceback": [
      "\u001b[1;31m---------------------------------------------------------------------------\u001b[0m",
      "\u001b[1;31mStopIteration\u001b[0m                             Traceback (most recent call last)",
      "Input \u001b[1;32mIn [36]\u001b[0m, in \u001b[0;36m<cell line: 1>\u001b[1;34m()\u001b[0m\n\u001b[1;32m----> 1\u001b[0m \u001b[38;5;28;43mnext\u001b[39;49m\u001b[43m(\u001b[49m\u001b[43mb\u001b[49m\u001b[43m)\u001b[49m\n",
      "\u001b[1;31mStopIteration\u001b[0m: "
     ]
    }
   ],
   "source": [
    "next(b)"
   ]
  },
  {
   "cell_type": "markdown",
   "id": "c6bac2cd",
   "metadata": {},
   "source": [
    "# GENERATOR"
   ]
  },
  {
   "cell_type": "raw",
   "id": "d39e70f2",
   "metadata": {},
   "source": [
    " We will create a iterator using generator technique"
   ]
  },
  {
   "cell_type": "code",
   "execution_count": 38,
   "id": "87c3920d",
   "metadata": {},
   "outputs": [
    {
     "name": "stdout",
     "output_type": "stream",
     "text": [
      "[1, 4, 9, 16, 25]\n"
     ]
    }
   ],
   "source": [
    "def square_number(nums):\n",
    "    result = []\n",
    "    \n",
    "    for i in nums:\n",
    "        result.append(i*i)\n",
    "    return result\n",
    "my_nums = square_number([1,2,3,4,5])\n",
    "print(my_nums)"
   ]
  },
  {
   "cell_type": "markdown",
   "id": "46a53d1b",
   "metadata": {},
   "source": [
    "# EXCEPTION HANDLING"
   ]
  },
  {
   "cell_type": "code",
   "execution_count": 1,
   "id": "42a78169",
   "metadata": {},
   "outputs": [
    {
     "name": "stdout",
     "output_type": "stream",
     "text": [
      "1\n",
      "0\n",
      "You can not divide a number by 0\n"
     ]
    }
   ],
   "source": [
    "# For error handling\n",
    "\n",
    "\n",
    "# here i handle a error\n",
    "try:\n",
    "    a = int(input())\n",
    "    b = int(input())\n",
    "    c = a/b\n",
    "except ZeroDivisionError:\n",
    "    print(\"You can not divide a number by 0\")\n",
    "except ValueError:\n",
    "    print(\"Please enter a integer\")\n",
    "else:\n",
    "    print(c)"
   ]
  },
  {
   "cell_type": "code",
   "execution_count": 47,
   "id": "18c56cfc",
   "metadata": {},
   "outputs": [
    {
     "name": "stdout",
     "output_type": "stream",
     "text": [
      "23\n",
      "df\n",
      "Pakri gae\n",
      "Koi chale na chale ye to chalega\n"
     ]
    }
   ],
   "source": [
    "try:\n",
    "    a = int(input())\n",
    "    b = int(input())\n",
    "    c = a/b\n",
    "except:\n",
    "    print(\"Pakri gae\")\n",
    "else:\n",
    "    print(c)\n",
    "finally:\n",
    "    print(\"Koi chale na chale ye to chalega\")"
   ]
  },
  {
   "cell_type": "code",
   "execution_count": 52,
   "id": "d6babc6d",
   "metadata": {},
   "outputs": [
    {
     "name": "stdout",
     "output_type": "stream",
     "text": [
      "12\n",
      "pakistan\n",
      "This is the error invalid literal for int() with base 10: 'pakistan'\n"
     ]
    }
   ],
   "source": [
    "try:\n",
    "    a = int(input())\n",
    "    b = int(input())\n",
    "    c = a/b\n",
    "except Exception as e: # Ye jo bhi error hoga bataega bhi or pakrega or bar bar error defined nhi karna parega\n",
    "    print(\"This is the error \"+str(e))\n",
    "else:\n",
    "    print(c)"
   ]
  },
  {
   "cell_type": "raw",
   "id": "210052c8",
   "metadata": {},
   "source": [
    "raise\n",
    "This keyword is use for make own exception"
   ]
  },
  {
   "cell_type": "code",
   "execution_count": 69,
   "id": "c549eced",
   "metadata": {},
   "outputs": [],
   "source": [
    "class StudentAgeExceptionError(Exception):\n",
    "    pass"
   ]
  },
  {
   "cell_type": "code",
   "execution_count": 74,
   "id": "a36f6d71",
   "metadata": {},
   "outputs": [],
   "source": [
    "class Student():\n",
    "    def __init__(self,name,age):\n",
    "        if age>16 or age<80:\n",
    "            raise Exception(\"To be a student you must be graeter than age 16 and less than 80\")\n",
    "        self.name = name\n",
    "        self.age = age\n",
    "            "
   ]
  },
  {
   "cell_type": "code",
   "execution_count": 75,
   "id": "1c9951a6",
   "metadata": {},
   "outputs": [
    {
     "name": "stdout",
     "output_type": "stream",
     "text": [
      "Enter your name :nasir\n",
      "Enter your age :10\n",
      "To be a student you must be graeter than age 16 and less than 80\n"
     ]
    }
   ],
   "source": [
    "name = input(\"Enter your name :\")\n",
    "age = int(input(\"Enter your age :\"))\n",
    "\n",
    "try:\n",
    "    st = Student(name,age)\n",
    "except Exception as e:\n",
    "    print(str(e))\n",
    "else:\n",
    "    print(st.name)\n",
    "    print(st.age)"
   ]
  },
  {
   "cell_type": "code",
   "execution_count": null,
   "id": "3e213c5e",
   "metadata": {},
   "outputs": [],
   "source": []
  }
 ],
 "metadata": {
  "kernelspec": {
   "display_name": "Python 3 (ipykernel)",
   "language": "python",
   "name": "python3"
  },
  "language_info": {
   "codemirror_mode": {
    "name": "ipython",
    "version": 3
   },
   "file_extension": ".py",
   "mimetype": "text/x-python",
   "name": "python",
   "nbconvert_exporter": "python",
   "pygments_lexer": "ipython3",
   "version": "3.9.12"
  }
 },
 "nbformat": 4,
 "nbformat_minor": 5
}
