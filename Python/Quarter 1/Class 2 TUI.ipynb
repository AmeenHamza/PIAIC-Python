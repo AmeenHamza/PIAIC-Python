{
 "cells": [
  {
   "cell_type": "markdown",
   "id": "e392fedc",
   "metadata": {},
   "source": [
    "# Taking User Input"
   ]
  },
  {
   "cell_type": "code",
   "execution_count": 1,
   "id": "5376e33e",
   "metadata": {},
   "outputs": [
    {
     "name": "stdout",
     "output_type": "stream",
     "text": [
      "Tell me your good name sir!Ahmed\n"
     ]
    }
   ],
   "source": [
    "name = input(\"Tell me your good name sir!\")"
   ]
  },
  {
   "cell_type": "code",
   "execution_count": 4,
   "id": "82c971aa",
   "metadata": {},
   "outputs": [
    {
     "name": "stdout",
     "output_type": "stream",
     "text": [
      "Tell me your age19\n"
     ]
    }
   ],
   "source": [
    "age = input('Tell me your age')"
   ]
  },
  {
   "cell_type": "markdown",
   "id": "4e8c0e9b",
   "metadata": {},
   "source": [
    "# Age"
   ]
  },
  {
   "cell_type": "code",
   "execution_count": 6,
   "id": "a2ffa7a6",
   "metadata": {},
   "outputs": [
    {
     "name": "stdout",
     "output_type": "stream",
     "text": [
      "Tell me your age21,24,22\n"
     ]
    },
    {
     "data": {
      "text/plain": [
       "'21,24,22'"
      ]
     },
     "execution_count": 6,
     "metadata": {},
     "output_type": "execute_result"
    }
   ],
   "source": [
    "input('Tell me your age')"
   ]
  },
  {
   "cell_type": "code",
   "execution_count": 8,
   "id": "103e31bb",
   "metadata": {},
   "outputs": [
    {
     "name": "stdout",
     "output_type": "stream",
     "text": [
      "Your age21,19,24\n"
     ]
    }
   ],
   "source": [
    "Asad, Usman, Umar = input('Your age').split(',')"
   ]
  },
  {
   "cell_type": "code",
   "execution_count": 9,
   "id": "fc10afdb",
   "metadata": {},
   "outputs": [
    {
     "name": "stdout",
     "output_type": "stream",
     "text": [
      "21 19 24\n"
     ]
    }
   ],
   "source": [
    "print(Asad,Usman,Umar)"
   ]
  },
  {
   "cell_type": "code",
   "execution_count": 13,
   "id": "d88f8b91",
   "metadata": {},
   "outputs": [
    {
     "name": "stdout",
     "output_type": "stream",
     "text": [
      "Enter your age 84,83\n"
     ]
    }
   ],
   "source": [
    "asad,usman = input('Enter your age ').split(',')\n"
   ]
  },
  {
   "cell_type": "code",
   "execution_count": 11,
   "id": "c32039f9",
   "metadata": {},
   "outputs": [
    {
     "data": {
      "text/plain": [
       "'34'"
      ]
     },
     "execution_count": 11,
     "metadata": {},
     "output_type": "execute_result"
    }
   ],
   "source": [
    "asad"
   ]
  },
  {
   "cell_type": "code",
   "execution_count": 12,
   "id": "b8a407e1",
   "metadata": {},
   "outputs": [
    {
     "data": {
      "text/plain": [
       "'56'"
      ]
     },
     "execution_count": 12,
     "metadata": {},
     "output_type": "execute_result"
    }
   ],
   "source": [
    "usman"
   ]
  },
  {
   "cell_type": "markdown",
   "id": "7204e400",
   "metadata": {},
   "source": [
    "# New Work"
   ]
  },
  {
   "cell_type": "code",
   "execution_count": 14,
   "id": "252cbafb",
   "metadata": {},
   "outputs": [
    {
     "name": "stdout",
     "output_type": "stream",
     "text": [
      "<class 'int'>\n"
     ]
    }
   ],
   "source": [
    "age = 100\n",
    "print(type(age))"
   ]
  },
  {
   "cell_type": "code",
   "execution_count": 17,
   "id": "879a08a4",
   "metadata": {},
   "outputs": [
    {
     "name": "stdout",
     "output_type": "stream",
     "text": [
      "<class 'str'>\n"
     ]
    }
   ],
   "source": [
    "str(100)\n",
    "print(type(str(100)))"
   ]
  },
  {
   "cell_type": "markdown",
   "id": "d8f05ee1",
   "metadata": {},
   "source": [
    "# String"
   ]
  },
  {
   "cell_type": "code",
   "execution_count": 18,
   "id": "209811bb",
   "metadata": {},
   "outputs": [],
   "source": [
    "country = 'Pakistan'"
   ]
  },
  {
   "cell_type": "code",
   "execution_count": 20,
   "id": "75598c60",
   "metadata": {},
   "outputs": [
    {
     "data": {
      "text/plain": [
       "'pakistan'"
      ]
     },
     "execution_count": 20,
     "metadata": {},
     "output_type": "execute_result"
    }
   ],
   "source": [
    "country.lower()"
   ]
  },
  {
   "cell_type": "code",
   "execution_count": 29,
   "id": "1c2bdfd0",
   "metadata": {},
   "outputs": [
    {
     "data": {
      "text/plain": [
       "'Pakistan'"
      ]
     },
     "execution_count": 29,
     "metadata": {},
     "output_type": "execute_result"
    }
   ],
   "source": [
    "country.capitalize()"
   ]
  },
  {
   "cell_type": "code",
   "execution_count": 22,
   "id": "0aa72812",
   "metadata": {},
   "outputs": [
    {
     "data": {
      "text/plain": [
       "'PAKISTAN'"
      ]
     },
     "execution_count": 22,
     "metadata": {},
     "output_type": "execute_result"
    }
   ],
   "source": [
    "country.upper()"
   ]
  },
  {
   "cell_type": "code",
   "execution_count": 32,
   "id": "797783eb",
   "metadata": {},
   "outputs": [
    {
     "data": {
      "text/plain": [
       "1"
      ]
     },
     "execution_count": 32,
     "metadata": {},
     "output_type": "execute_result"
    }
   ],
   "source": [
    "sentence = 'My , name is oooo '\n",
    "sentence.count(' o')"
   ]
  },
  {
   "cell_type": "code",
   "execution_count": 34,
   "id": "add74d7e",
   "metadata": {},
   "outputs": [
    {
     "data": {
      "text/plain": [
       "True"
      ]
     },
     "execution_count": 34,
     "metadata": {},
     "output_type": "execute_result"
    }
   ],
   "source": [
    "sentence.endswith(\" \")"
   ]
  },
  {
   "cell_type": "code",
   "execution_count": 37,
   "id": "296afa66",
   "metadata": {},
   "outputs": [
    {
     "data": {
      "text/plain": [
       "False"
      ]
     },
     "execution_count": 37,
     "metadata": {},
     "output_type": "execute_result"
    }
   ],
   "source": [
    "sentence.startswith('m')"
   ]
  },
  {
   "cell_type": "code",
   "execution_count": 44,
   "id": "2a41a981",
   "metadata": {},
   "outputs": [
    {
     "data": {
      "text/plain": [
       "13"
      ]
     },
     "execution_count": 44,
     "metadata": {},
     "output_type": "execute_result"
    }
   ],
   "source": [
    "sentence.find('o')"
   ]
  },
  {
   "cell_type": "code",
   "execution_count": 53,
   "id": "db9a439d",
   "metadata": {},
   "outputs": [
    {
     "data": {
      "text/plain": [
       "14"
      ]
     },
     "execution_count": 53,
     "metadata": {},
     "output_type": "execute_result"
    }
   ],
   "source": [
    "sentence.find('a',10)"
   ]
  },
  {
   "cell_type": "code",
   "execution_count": 54,
   "id": "bf65c906",
   "metadata": {},
   "outputs": [
    {
     "data": {
      "text/plain": [
       "True"
      ]
     },
     "execution_count": 54,
     "metadata": {},
     "output_type": "execute_result"
    }
   ],
   "source": [
    "'a' in sentence"
   ]
  },
  {
   "cell_type": "markdown",
   "id": "6fa63992",
   "metadata": {},
   "source": [
    "# INDEX"
   ]
  },
  {
   "cell_type": "code",
   "execution_count": 60,
   "id": "6b4b6588",
   "metadata": {},
   "outputs": [],
   "source": [
    "#return index - mein aaega\n",
    "text = \"Hello my friends\"\n",
    "#       0123456789101112"
   ]
  },
  {
   "cell_type": "code",
   "execution_count": 40,
   "id": "cb7dd4bf",
   "metadata": {},
   "outputs": [
    {
     "data": {
      "text/plain": [
       "'e'"
      ]
     },
     "execution_count": 40,
     "metadata": {},
     "output_type": "execute_result"
    }
   ],
   "source": [
    "#Indexing\n",
    "text[-4]"
   ]
  },
  {
   "cell_type": "code",
   "execution_count": 41,
   "id": "01ea7a00",
   "metadata": {},
   "outputs": [
    {
     "data": {
      "text/plain": [
       "'m'"
      ]
     },
     "execution_count": 41,
     "metadata": {},
     "output_type": "execute_result"
    }
   ],
   "source": [
    "text[6]"
   ]
  },
  {
   "cell_type": "code",
   "execution_count": 55,
   "id": "66f425b1",
   "metadata": {},
   "outputs": [
    {
     "data": {
      "text/plain": [
       "6"
      ]
     },
     "execution_count": 55,
     "metadata": {},
     "output_type": "execute_result"
    }
   ],
   "source": [
    "text.index('m')"
   ]
  },
  {
   "cell_type": "code",
   "execution_count": 56,
   "id": "35e0f12c",
   "metadata": {},
   "outputs": [
    {
     "data": {
      "text/plain": [
       "-1"
      ]
     },
     "execution_count": 56,
     "metadata": {},
     "output_type": "execute_result"
    }
   ],
   "source": [
    "text.find('ee',1)"
   ]
  },
  {
   "cell_type": "code",
   "execution_count": 63,
   "id": "469d88ce",
   "metadata": {},
   "outputs": [
    {
     "data": {
      "text/plain": [
       "115"
      ]
     },
     "execution_count": 63,
     "metadata": {},
     "output_type": "execute_result"
    }
   ],
   "source": [
    "#Binary locations\n",
    "ord('s')"
   ]
  },
  {
   "cell_type": "code",
   "execution_count": 64,
   "id": "e75f0f0a",
   "metadata": {},
   "outputs": [
    {
     "data": {
      "text/plain": [
       "'N'"
      ]
     },
     "execution_count": 64,
     "metadata": {},
     "output_type": "execute_result"
    }
   ],
   "source": [
    "#Skey location\n",
    "chr(78)"
   ]
  },
  {
   "cell_type": "markdown",
   "id": "68f4e1b3",
   "metadata": {},
   "source": [
    "# Concatenation"
   ]
  },
  {
   "cell_type": "code",
   "execution_count": 68,
   "id": "6ab4b124",
   "metadata": {},
   "outputs": [
    {
     "data": {
      "text/plain": [
       "'Ameen Hamza 25'"
      ]
     },
     "execution_count": 68,
     "metadata": {},
     "output_type": "execute_result"
    }
   ],
   "source": [
    "first_name = 'Ameen'\n",
    "last_name = \"Hamza\"\n",
    "first_name+\" \" + last_name+\" \" + str(25)"
   ]
  },
  {
   "cell_type": "code",
   "execution_count": 70,
   "id": "af0f434c",
   "metadata": {},
   "outputs": [
    {
     "name": "stdout",
     "output_type": "stream",
     "text": [
      "Enter your nameUsman\n",
      "Enter your age23\n",
      "User name is Usman and age is 23\n"
     ]
    }
   ],
   "source": [
    "user_name = input(\"Enter your name\")\n",
    "user_age = input(\"Enter your age\")\n",
    "\n",
    "print(\"User name is \"+user_name+\" and age is \" + user_age)"
   ]
  },
  {
   "cell_type": "markdown",
   "id": "a94af3d3",
   "metadata": {},
   "source": [
    "# Formating"
   ]
  },
  {
   "cell_type": "code",
   "execution_count": null,
   "id": "4416bdd0",
   "metadata": {},
   "outputs": [],
   "source": [
    "#{} is called placeholder"
   ]
  },
  {
   "cell_type": "code",
   "execution_count": null,
   "id": "1e936567",
   "metadata": {},
   "outputs": [],
   "source": [
    "print(\"User name is \"+user_name+\" and age is \" + user_age)"
   ]
  },
  {
   "cell_type": "code",
   "execution_count": 71,
   "id": "6206ab63",
   "metadata": {},
   "outputs": [
    {
     "data": {
      "text/plain": [
       "'User name is Usman and age is 23'"
      ]
     },
     "execution_count": 71,
     "metadata": {},
     "output_type": "execute_result"
    }
   ],
   "source": [
    "\"User name is {} and age is {}\".format(user_name,user_age)"
   ]
  },
  {
   "cell_type": "code",
   "execution_count": 74,
   "id": "7eb48e75",
   "metadata": {},
   "outputs": [
    {
     "name": "stdout",
     "output_type": "stream",
     "text": [
      "\n",
      "   ID Card\n",
      "name = Ameen\n",
      "father = Abid\n",
      "course = Ai\n",
      "Sir syed university\n",
      "contact : 038593938\n",
      "\n",
      "\n",
      "\n"
     ]
    }
   ],
   "source": [
    "print('''\n",
    "   ID Card\n",
    "name = Ameen\n",
    "father = Abid\n",
    "course = Ai\n",
    "Sir syed university\n",
    "contact : 038593938\n",
    "\n",
    "\n",
    "''')"
   ]
  },
  {
   "cell_type": "code",
   "execution_count": null,
   "id": "f5d1ee49",
   "metadata": {},
   "outputs": [],
   "source": []
  }
 ],
 "metadata": {
  "kernelspec": {
   "display_name": "Python 3 (ipykernel)",
   "language": "python",
   "name": "python3"
  },
  "language_info": {
   "codemirror_mode": {
    "name": "ipython",
    "version": 3
   },
   "file_extension": ".py",
   "mimetype": "text/x-python",
   "name": "python",
   "nbconvert_exporter": "python",
   "pygments_lexer": "ipython3",
   "version": "3.9.12"
  }
 },
 "nbformat": 4,
 "nbformat_minor": 5
}
