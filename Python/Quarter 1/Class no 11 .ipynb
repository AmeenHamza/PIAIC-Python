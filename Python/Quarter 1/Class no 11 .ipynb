{
 "cells": [
  {
   "cell_type": "code",
   "execution_count": 1,
   "id": "497870aa",
   "metadata": {},
   "outputs": [],
   "source": [
    " # date - 1\\october\\2022\n"
   ]
  },
  {
   "cell_type": "markdown",
   "id": "2886af5f",
   "metadata": {},
   "source": [
    "# Multilevel Inheritence"
   ]
  },
  {
   "cell_type": "code",
   "execution_count": null,
   "id": "3f867c82",
   "metadata": {},
   "outputs": [],
   "source": [
    "# Method order resolution order\n",
    "# MRO left wali class ka init chalega"
   ]
  },
  {
   "cell_type": "code",
   "execution_count": 6,
   "id": "95bfeeea",
   "metadata": {},
   "outputs": [
    {
     "name": "stdout",
     "output_type": "stream",
     "text": [
      "A is init\n",
      "Feature 1 A is working\n",
      "Feature 2 A is working\n",
      "B is init\n",
      "Feature 1 B is working\n",
      "Feature 2 B is working\n"
     ]
    }
   ],
   "source": [
    "class A:\n",
    "    def __init__(self):\n",
    "        print(\"A is init\")\n",
    "    \n",
    "    def feature1(self):\n",
    "        print(\"Feature 1 A is working\")\n",
    "        \n",
    "    def feature2(self):\n",
    "        print(\"Feature 2 A is working\")\n",
    "        \n",
    "a = A()\n",
    "a.feature1()\n",
    "a.feature2()\n",
    "\n",
    "class B:        \n",
    "    def __init__(self):\n",
    "        print(\"B is init\")\n",
    "    \n",
    "    def feature1(self):\n",
    "        print(\"Feature 1 B is working\")\n",
    "        \n",
    "    def feature2(self):\n",
    "        print(\"Feature 2 B is working\")\n",
    "        \n",
    "        \n",
    "b = B()\n",
    "b.feature1()\n",
    "b.feature2()\n",
    "\n",
    "        "
   ]
  },
  {
   "cell_type": "code",
   "execution_count": 7,
   "id": "be8e7ad5",
   "metadata": {},
   "outputs": [
    {
     "name": "stdout",
     "output_type": "stream",
     "text": [
      "C is working\n"
     ]
    }
   ],
   "source": [
    "class C(A,B):\n",
    "    def __init__(self):\n",
    "        print(\"C is working\")\n",
    "    \n",
    "        \n",
    "c = C()        "
   ]
  },
  {
   "cell_type": "code",
   "execution_count": 8,
   "id": "5baa8206",
   "metadata": {},
   "outputs": [],
   "source": [
    "class A:\n",
    "    def feature1(self):\n",
    "        print(\"Feature of A is working\")\n",
    "    def feature2(self):\n",
    "        print(\"Feature 2 of A is working\")"
   ]
  },
  {
   "cell_type": "code",
   "execution_count": 9,
   "id": "6daabbc6",
   "metadata": {},
   "outputs": [
    {
     "name": "stdout",
     "output_type": "stream",
     "text": [
      "Feature of A is working\n",
      "Feature 2 of A is working\n",
      "Feature of B is working\n",
      "Feature 4 is working\n"
     ]
    }
   ],
   "source": [
    "class B(A):\n",
    "    def feature3(self):\n",
    "        print(\"Feature of B is working\")\n",
    "    def feature4(self):\n",
    "        print(\"Feature 4 is working\")\n",
    "        \n",
    "b1 = B()\n",
    "b1.feature1()\n",
    "b1.feature2()\n",
    "b1.feature3()\n",
    "b1.feature4()\n",
    "\n",
    "# This is single level inheritence"
   ]
  },
  {
   "cell_type": "code",
   "execution_count": 11,
   "id": "0c81e1d1",
   "metadata": {},
   "outputs": [
    {
     "name": "stdout",
     "output_type": "stream",
     "text": [
      "Feature of A is working\n",
      "Feature 2 of A is working\n",
      "Feature of B is working\n",
      "Feature 4 is working\n",
      "Feature of C is working\n",
      "Feature 6 is working\n"
     ]
    }
   ],
   "source": [
    "# Now we discuss the multilevel inheritence\n",
    "class C(B):\n",
    "    \n",
    "    def feature5(self):\n",
    "        print(\"Feature of C is working\")\n",
    "    def feature6(self):\n",
    "        print(\"Feature 6 is working\")\n",
    "        \n",
    "c1 = C()\n",
    "c1.feature1()\n",
    "c1.feature2()\n",
    "c1.feature3()\n",
    "c1.feature4()\n",
    "c1.feature5()\n",
    "c1.feature6()\n",
    "\n",
    "# This is the multivel inheritence step by step"
   ]
  },
  {
   "cell_type": "code",
   "execution_count": 14,
   "id": "322202fc",
   "metadata": {},
   "outputs": [
    {
     "name": "stdout",
     "output_type": "stream",
     "text": [
      "Feature of A is working\n",
      "Feature 2 of A is working\n"
     ]
    }
   ],
   "source": [
    "# Multivel inheritence in short method\n",
    "class A:\n",
    "     def feature1(self):\n",
    "        print(\"Feature of A is working\")\n",
    "     def feature2(self):\n",
    "        print(\"Feature 2 of A is working\")\n",
    "        \n",
    "a = A()\n",
    "a.feature1()\n",
    "a.feature2()  # Run for each class is not important\n"
   ]
  },
  {
   "cell_type": "code",
   "execution_count": 15,
   "id": "f2cfd27d",
   "metadata": {},
   "outputs": [],
   "source": [
    "class B:\n",
    "    def feature3(self):\n",
    "        print(\"Feature of B is working\")\n",
    "    def feature4(self):\n",
    "        print(\"Feature 4 is working\")\n",
    "    \n",
    "    "
   ]
  },
  {
   "cell_type": "code",
   "execution_count": 16,
   "id": "65cd053c",
   "metadata": {},
   "outputs": [
    {
     "name": "stdout",
     "output_type": "stream",
     "text": [
      "Feature of A is working\n",
      "Feature 2 of A is working\n",
      "Feature of B is working\n",
      "Feature 4 is working\n",
      "FUture of C is working\n"
     ]
    }
   ],
   "source": [
    "class C(A,B):\n",
    "    def feature5(self):\n",
    "        print(\"FUture of C is working\")\n",
    "        \n",
    "c = C()\n",
    "c.feature1()\n",
    "c.feature2()\n",
    "c.feature3()\n",
    "c.feature4()\n",
    "c.feature5()\n"
   ]
  },
  {
   "cell_type": "raw",
   "id": "3efefaf5",
   "metadata": {},
   "source": [
    "Construction in inheritence and method resolution order"
   ]
  },
  {
   "cell_type": "code",
   "execution_count": 17,
   "id": "44ad3724",
   "metadata": {},
   "outputs": [
    {
     "name": "stdout",
     "output_type": "stream",
     "text": [
      "Init of A is working\n",
      "Init of A is working\n"
     ]
    }
   ],
   "source": [
    "class A:\n",
    "    def __init__(self):\n",
    "        print(\"Init of A is working\")\n",
    "    def feature1(self):\n",
    "        print(\"Feature 1 is working\")\n",
    "    def feature2(self):\n",
    "        print(\"Feature 2 is working\")\n",
    "        \n",
    "class B(A):\n",
    "    \n",
    "    def feature3(self):\n",
    "        print(\"Feature 3 is working\")\n",
    "        \n",
    "    def feature4(self):\n",
    "        print(\"Feature 4 is working\")\n",
    "        \n",
    "a = A() # Agar ham khali class ka object banakar chalainge to khali class ka init chalega\n",
    "b = B() # B ka init nhi banahua h to a ka hi chalega because b ne a ko inherit kara hua h"
   ]
  },
  {
   "cell_type": "code",
   "execution_count": 19,
   "id": "b4d571ff",
   "metadata": {},
   "outputs": [
    {
     "name": "stdout",
     "output_type": "stream",
     "text": [
      "Init of A is working\n",
      "Init of B is working\n",
      "Init of A is working\n"
     ]
    }
   ],
   "source": [
    "class A:\n",
    "    def __init__(self):\n",
    "        print(\"Init of A is working\")\n",
    "    def feature1(self):\n",
    "        print(\"Feature 1 is working\")\n",
    "    def feature2(self):\n",
    "        print(\"Feature 2 is working\")\n",
    "        \n",
    "class B(A):\n",
    "    def __init__(self):\n",
    "        print(\"Init of B is working\")\n",
    "        super().__init__() # Ye super function dubara a k init ko chalaiga\n",
    "    \n",
    "    def feature3(self):\n",
    "        print(\"Feature 3 is working\")\n",
    "        \n",
    "    def feature4(self):\n",
    "        print(\"Feature 4 is working\")\n",
    "        \n",
    "a1 = A()\n",
    "b1 = B()"
   ]
  },
  {
   "cell_type": "markdown",
   "id": "4d3fdc55",
   "metadata": {},
   "source": [
    "# MULTIPLE INHERITENCE"
   ]
  },
  {
   "cell_type": "code",
   "execution_count": 20,
   "id": "dc173acc",
   "metadata": {},
   "outputs": [],
   "source": [
    "class A:\n",
    "    def __init__(self):\n",
    "        print(\"Init of A is working\")\n",
    "    def feature1(self):\n",
    "        print(\"Feature 1 is working\")\n",
    "    def feature2(self):\n",
    "        print(\"Feature 2 is working\")\n",
    "    def show(self):\n",
    "        print(\"I am showing class A\")"
   ]
  },
  {
   "cell_type": "code",
   "execution_count": 21,
   "id": "06a054d6",
   "metadata": {},
   "outputs": [],
   "source": [
    "class B():\n",
    "    def __init__(self):\n",
    "        print(\"Init of B is working\")\n",
    "        super().__init__() # Ye super function dubara a k init ko chalaiga\n",
    "    \n",
    "    def feature3(self):\n",
    "        print(\"Feature 3 is working\")\n",
    "        \n",
    "    def feature4(self):\n",
    "        print(\"Feature 4 is working\")\n",
    "    def show(self):\n",
    "        print(\"I am showing class B\")"
   ]
  },
  {
   "cell_type": "code",
   "execution_count": 22,
   "id": "d618c41d",
   "metadata": {},
   "outputs": [
    {
     "name": "stdout",
     "output_type": "stream",
     "text": [
      "in init of C\n",
      "Init of A is working\n"
     ]
    }
   ],
   "source": [
    "class C(A,B):\n",
    "    def __init__(self):\n",
    "        print(\"in init of C\")\n",
    "        super().__init__()\n",
    "        \n",
    "c = C()        "
   ]
  },
  {
   "cell_type": "code",
   "execution_count": 23,
   "id": "202a8be3",
   "metadata": {},
   "outputs": [
    {
     "name": "stdout",
     "output_type": "stream",
     "text": [
      "I am showing class A\n"
     ]
    }
   ],
   "source": [
    "c.show()"
   ]
  },
  {
   "cell_type": "code",
   "execution_count": 24,
   "id": "973562a4",
   "metadata": {},
   "outputs": [
    {
     "name": "stdout",
     "output_type": "stream",
     "text": [
      "init of C\n",
      "in init of B\n",
      "I am showing class B\n",
      "Feature2 B is working\n"
     ]
    }
   ],
   "source": [
    "# How to call a method of my marzi\n",
    "class A:    \n",
    "    def __init__(self):\n",
    "        print(\"In init of A\")\n",
    "   \n",
    "    def feature1(self):\n",
    "        print(\"Feature1 is working\")\n",
    "        \n",
    "    def feature2(self):\n",
    "        print(\"Feature2 is A working\")\n",
    "    def show(self):\n",
    "        print(\"I am showing class A\")\n",
    "class B():\n",
    "    def __init__(self):\n",
    "        print(\"in init of B\")\n",
    "       \n",
    "    \n",
    "    def feature2(self):\n",
    "        print(\"Feature2 B is working\")\n",
    "        \n",
    "    def feature4(self):\n",
    "        print(\"Feature4 is working\")\n",
    "\n",
    "    def show(self):\n",
    "        print(\"I am showing class B\")       \n",
    "        \n",
    "class C(B,A):\n",
    "    def __init__(self):\n",
    "        print(\"init of C\")\n",
    "        super().__init__()\n",
    "        super().show() # This is according to Method resolution order (MRO)\n",
    "        \n",
    "    def feature2(self):\n",
    "        print(\"I m in C\")\n",
    "    \n",
    "    def feat(self):\n",
    "       \n",
    "        super().feature2()\n",
    "        \n",
    "c  = C()\n",
    "c.feat()"
   ]
  },
  {
   "cell_type": "markdown",
   "id": "946d412e",
   "metadata": {},
   "source": [
    "# POLYMORPHISM"
   ]
  },
  {
   "cell_type": "markdown",
   "id": "753de38e",
   "metadata": {},
   "source": [
    "# DUCK TYPING"
   ]
  },
  {
   "cell_type": "code",
   "execution_count": 26,
   "id": "bb650a2d",
   "metadata": {},
   "outputs": [
    {
     "name": "stdout",
     "output_type": "stream",
     "text": [
      "compiling\n",
      "Running\n",
      "Grammer checking\n",
      "Spell checking\n",
      "compiling\n",
      "Running\n"
     ]
    }
   ],
   "source": [
    "class pycharm:\n",
    "    def execute(self):\n",
    "        print(\"compiling\")\n",
    "        print(\"Running\")\n",
    "        \n",
    "py = pycharm()\n",
    "\n",
    "#####################\n",
    "class vscode:\n",
    "    def execute(self):\n",
    "        print(\"Grammer checking\")\n",
    "        print(\"Spell checking\")\n",
    "        print(\"compiling\")\n",
    "        print(\"Running\")\n",
    "        \n",
    "vs = vscode()\n",
    "\n",
    "##########################\n",
    "\n",
    "class laptop:\n",
    "    def code(self,ide):\n",
    "        ide.execute()\n",
    "        \n",
    "lp = laptop()\n",
    "lp.code(py)\n",
    "lp.code(vs)\n"
   ]
  },
  {
   "cell_type": "markdown",
   "id": "7c487487",
   "metadata": {},
   "source": [
    "# OPERATOR OVERLOADING"
   ]
  },
  {
   "cell_type": "code",
   "execution_count": 27,
   "id": "5f4d9d10",
   "metadata": {},
   "outputs": [
    {
     "name": "stdout",
     "output_type": "stream",
     "text": [
      "30\n",
      "30\n"
     ]
    }
   ],
   "source": [
    "a = 10\n",
    "b = 20\n",
    "\n",
    "print(a + b)\n",
    "\n",
    "\n",
    "print(int.__add__(a,b)) # This is the backend function"
   ]
  },
  {
   "cell_type": "code",
   "execution_count": 28,
   "id": "c07974b9",
   "metadata": {},
   "outputs": [
    {
     "data": {
      "text/plain": [
       "['__abs__',\n",
       " '__add__',\n",
       " '__and__',\n",
       " '__bool__',\n",
       " '__ceil__',\n",
       " '__class__',\n",
       " '__delattr__',\n",
       " '__dir__',\n",
       " '__divmod__',\n",
       " '__doc__',\n",
       " '__eq__',\n",
       " '__float__',\n",
       " '__floor__',\n",
       " '__floordiv__',\n",
       " '__format__',\n",
       " '__ge__',\n",
       " '__getattribute__',\n",
       " '__getnewargs__',\n",
       " '__gt__',\n",
       " '__hash__',\n",
       " '__index__',\n",
       " '__init__',\n",
       " '__init_subclass__',\n",
       " '__int__',\n",
       " '__invert__',\n",
       " '__le__',\n",
       " '__lshift__',\n",
       " '__lt__',\n",
       " '__mod__',\n",
       " '__mul__',\n",
       " '__ne__',\n",
       " '__neg__',\n",
       " '__new__',\n",
       " '__or__',\n",
       " '__pos__',\n",
       " '__pow__',\n",
       " '__radd__',\n",
       " '__rand__',\n",
       " '__rdivmod__',\n",
       " '__reduce__',\n",
       " '__reduce_ex__',\n",
       " '__repr__',\n",
       " '__rfloordiv__',\n",
       " '__rlshift__',\n",
       " '__rmod__',\n",
       " '__rmul__',\n",
       " '__ror__',\n",
       " '__round__',\n",
       " '__rpow__',\n",
       " '__rrshift__',\n",
       " '__rshift__',\n",
       " '__rsub__',\n",
       " '__rtruediv__',\n",
       " '__rxor__',\n",
       " '__setattr__',\n",
       " '__sizeof__',\n",
       " '__str__',\n",
       " '__sub__',\n",
       " '__subclasshook__',\n",
       " '__truediv__',\n",
       " '__trunc__',\n",
       " '__xor__',\n",
       " 'as_integer_ratio',\n",
       " 'bit_length',\n",
       " 'conjugate',\n",
       " 'denominator',\n",
       " 'from_bytes',\n",
       " 'imag',\n",
       " 'numerator',\n",
       " 'real',\n",
       " 'to_bytes']"
      ]
     },
     "execution_count": 28,
     "metadata": {},
     "output_type": "execute_result"
    }
   ],
   "source": [
    "dir(a) # This show the backend functin"
   ]
  },
  {
   "cell_type": "code",
   "execution_count": 1,
   "id": "27508565",
   "metadata": {},
   "outputs": [],
   "source": [
    "# Call class with object or class name\n",
    "class teacher:\n",
    "    def teach(self):\n",
    "        print(\"Teacher is teaching\")\n",
    "        \n",
    "t = teacher()\n"
   ]
  },
  {
   "cell_type": "code",
   "execution_count": 2,
   "id": "773d1953",
   "metadata": {},
   "outputs": [
    {
     "name": "stdout",
     "output_type": "stream",
     "text": [
      "Teacher is teaching\n"
     ]
    }
   ],
   "source": [
    "t.teach() # Calling with object"
   ]
  },
  {
   "cell_type": "code",
   "execution_count": 5,
   "id": "063aeb3a",
   "metadata": {},
   "outputs": [
    {
     "name": "stdout",
     "output_type": "stream",
     "text": [
      "Teacher is teaching\n"
     ]
    }
   ],
   "source": [
    "teacher.teach(t) # Calling with class but self ka argument dena parega object wala \n",
    "# Wohi baat paregi object to banana parega"
   ]
  },
  {
   "cell_type": "code",
   "execution_count": 29,
   "id": "bddb50df",
   "metadata": {},
   "outputs": [
    {
     "data": {
      "text/plain": [
       "5"
      ]
     },
     "execution_count": 29,
     "metadata": {},
     "output_type": "execute_result"
    }
   ],
   "source": [
    "def add(a,b):\n",
    "    return a +b\n",
    "add(2,3)"
   ]
  },
  {
   "cell_type": "markdown",
   "id": "1d25dfce",
   "metadata": {},
   "source": [
    "### CREATING OWN BACKEND LIKE FUNCTION"
   ]
  },
  {
   "cell_type": "code",
   "execution_count": 6,
   "id": "949d30af",
   "metadata": {},
   "outputs": [],
   "source": [
    "class Student:\n",
    "    def __init__(self,m1,m2):\n",
    "        self.m1 = m1\n",
    "        self.m2 = m2\n",
    "        \n",
    "s1 = Student(45,90)\n",
    "s2 = Student(30,12)"
   ]
  },
  {
   "cell_type": "code",
   "execution_count": 7,
   "id": "82b2293c",
   "metadata": {},
   "outputs": [
    {
     "ename": "TypeError",
     "evalue": "unsupported operand type(s) for +: 'Student' and 'Student'",
     "output_type": "error",
     "traceback": [
      "\u001b[1;31m---------------------------------------------------------------------------\u001b[0m",
      "\u001b[1;31mTypeError\u001b[0m                                 Traceback (most recent call last)",
      "Input \u001b[1;32mIn [7]\u001b[0m, in \u001b[0;36m<cell line: 2>\u001b[1;34m()\u001b[0m\n\u001b[0;32m      1\u001b[0m \u001b[38;5;66;03m# No we try to add objects of student class\u001b[39;00m\n\u001b[1;32m----> 2\u001b[0m \u001b[43ms1\u001b[49m\u001b[43m \u001b[49m\u001b[38;5;241;43m+\u001b[39;49m\u001b[43ms2\u001b[49m\n",
      "\u001b[1;31mTypeError\u001b[0m: unsupported operand type(s) for +: 'Student' and 'Student'"
     ]
    }
   ],
   "source": [
    "# No we try to add objects of student class\n",
    "s1 +s2"
   ]
  },
  {
   "cell_type": "code",
   "execution_count": 6,
   "id": "98b65340",
   "metadata": {},
   "outputs": [],
   "source": [
    "# For this purpose create a function which add objects of class\n",
    "class Student:\n",
    "    def __init__(self,m1,m2):\n",
    "        self.m1 = m1\n",
    "        self.m2 = m2\n",
    "\n",
    "    def __add__(self,other):\n",
    "        m1 = self.m1 + other.m1\n",
    "        m2 = self.m2 + other.m2\n",
    "        st = Student(m1,m2)\n",
    "        return st\n",
    "    \n",
    "    def __str__(self):\n",
    "        return f\"{self.m1} {self.m2}\"\n",
    "    \n",
    "    def __gt__(self,other):\n",
    "        sum1 = self.m1 + self.m2\n",
    "        sum2 = other.m1 + other.m2\n",
    "        if (sum1>sum2):\n",
    "            return True\n",
    "        else:\n",
    "            return False\n",
    "        \n",
    "        \n",
    "        "
   ]
  },
  {
   "cell_type": "code",
   "execution_count": 8,
   "id": "d19739e1",
   "metadata": {},
   "outputs": [
    {
     "name": "stdout",
     "output_type": "stream",
     "text": [
      "87 113\n",
      "20 23\n"
     ]
    }
   ],
   "source": [
    "s1 = Student(20,23)\n",
    "s2 = Student(67,90)\n",
    "\n",
    "s4 = s1+s2\n",
    "print(s4)\n",
    "print(s1)"
   ]
  },
  {
   "cell_type": "markdown",
   "id": "86624010",
   "metadata": {},
   "source": [
    "# ABSTRACTION"
   ]
  },
  {
   "cell_type": "code",
   "execution_count": 13,
   "id": "d51f52c3",
   "metadata": {},
   "outputs": [],
   "source": [
    "# Normal class through simple method\n",
    "class Computer:\n",
    "    def run(self):\n",
    "        print(\"Running\")"
   ]
  },
  {
   "cell_type": "code",
   "execution_count": 14,
   "id": "2e7c0fee",
   "metadata": {},
   "outputs": [],
   "source": [
    "class Computer:\n",
    "    def run(self):\n",
    "        pass"
   ]
  },
  {
   "cell_type": "code",
   "execution_count": 15,
   "id": "8ad3c6b3",
   "metadata": {},
   "outputs": [],
   "source": [
    "com = Computer()"
   ]
  },
  {
   "cell_type": "code",
   "execution_count": 16,
   "id": "0b0344c7",
   "metadata": {},
   "outputs": [],
   "source": [
    "com.run()"
   ]
  },
  {
   "cell_type": "code",
   "execution_count": 18,
   "id": "1df43e44",
   "metadata": {},
   "outputs": [],
   "source": [
    "from abc import ABC , abstractmethod"
   ]
  },
  {
   "cell_type": "code",
   "execution_count": 19,
   "id": "eff90b49",
   "metadata": {},
   "outputs": [
    {
     "ename": "TypeError",
     "evalue": "Can't instantiate abstract class Computer with abstract methods greet, run",
     "output_type": "error",
     "traceback": [
      "\u001b[1;31m---------------------------------------------------------------------------\u001b[0m",
      "\u001b[1;31mTypeError\u001b[0m                                 Traceback (most recent call last)",
      "Input \u001b[1;32mIn [19]\u001b[0m, in \u001b[0;36m<cell line: 12>\u001b[1;34m()\u001b[0m\n\u001b[0;32m      8\u001b[0m     \u001b[38;5;129m@abstractmethod\u001b[39m\n\u001b[0;32m      9\u001b[0m     \u001b[38;5;28;01mdef\u001b[39;00m \u001b[38;5;21mgreet\u001b[39m(\u001b[38;5;28mself\u001b[39m):\n\u001b[0;32m     10\u001b[0m         \u001b[38;5;28;01mpass\u001b[39;00m\n\u001b[1;32m---> 12\u001b[0m com \u001b[38;5;241m=\u001b[39m \u001b[43mComputer\u001b[49m\u001b[43m(\u001b[49m\u001b[43m)\u001b[49m\n",
      "\u001b[1;31mTypeError\u001b[0m: Can't instantiate abstract class Computer with abstract methods greet, run"
     ]
    }
   ],
   "source": [
    "# Now we discuss abstraction method\n",
    "class Computer(ABC):\n",
    "    \n",
    "    @abstractmethod\n",
    "    def run(self):\n",
    "        pass\n",
    "    \n",
    "    @abstractmethod\n",
    "    def greet(self):\n",
    "        pass\n",
    "    \n",
    "com = Computer()    \n",
    "    \n",
    "    "
   ]
  },
  {
   "cell_type": "code",
   "execution_count": 20,
   "id": "9550795f",
   "metadata": {},
   "outputs": [
    {
     "name": "stdout",
     "output_type": "stream",
     "text": [
      "THe mileage is 35km/h\n",
      "THe mileage is 25km/h\n",
      "THe mileage is 65km/h\n",
      "THe mileage is 95km/h\n"
     ]
    }
   ],
   "source": [
    "from abc import ABC , abstractmethod\n",
    "\n",
    "class Car(ABC):\n",
    "    @abstractmethod\n",
    "    def mileage(self):\n",
    "        pass\n",
    "    \n",
    "class Tesla(Car):\n",
    "    def mileage(self):\n",
    "        print(\"THe mileage is 35km/h\")\n",
    "        \n",
    "        \n",
    "class Suzuki(Car):\n",
    "    def mileage(self):\n",
    "        print(\"THe mileage is 25km/h\")\n",
    "    \n",
    "    \n",
    "class Audi(Car):\n",
    "    def mileage(self):\n",
    "        print(\"THe mileage is 65km/h\")\n",
    "    \n",
    "    \n",
    "class Kia(Car):\n",
    "    def mileage(self):\n",
    "        print(\"THe mileage is 95km/h\")\n",
    "    \n",
    "    \n",
    "ob = Tesla()\n",
    "ob.mileage()\n",
    "\n",
    "t = Suzuki()\n",
    "t.mileage()\n",
    "\n",
    "e = Audi()\n",
    "e.mileage()\n",
    "\n",
    "k = Kia()\n",
    "k.mileage()"
   ]
  },
  {
   "cell_type": "code",
   "execution_count": 21,
   "id": "af4a07eb",
   "metadata": {},
   "outputs": [],
   "source": [
    "# Means ye ki ek hi naam k boht sare method ek sath chalane ho to Main method ko abstract method banado"
   ]
  },
  {
   "cell_type": "code",
   "execution_count": 22,
   "id": "9e0e8220",
   "metadata": {},
   "outputs": [],
   "source": [
    "# Static or class methods ......................................"
   ]
  },
  {
   "cell_type": "code",
   "execution_count": 23,
   "id": "98a7afc1",
   "metadata": {},
   "outputs": [],
   "source": [
    "# Inner classes .............................."
   ]
  },
  {
   "cell_type": "code",
   "execution_count": null,
   "id": "da36a568",
   "metadata": {},
   "outputs": [],
   "source": []
  }
 ],
 "metadata": {
  "kernelspec": {
   "display_name": "Python 3 (ipykernel)",
   "language": "python",
   "name": "python3"
  },
  "language_info": {
   "codemirror_mode": {
    "name": "ipython",
    "version": 3
   },
   "file_extension": ".py",
   "mimetype": "text/x-python",
   "name": "python",
   "nbconvert_exporter": "python",
   "pygments_lexer": "ipython3",
   "version": "3.9.12"
  }
 },
 "nbformat": 4,
 "nbformat_minor": 5
}
