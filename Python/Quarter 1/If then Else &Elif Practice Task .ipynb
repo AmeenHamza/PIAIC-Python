{
 "cells": [
  {
   "cell_type": "raw",
   "metadata": {},
   "source": [
    "1) A company decided to give bonus of 5% to employee if his/her year of service is more than 5 years.\n",
    "Ask user for their salary and year of service and print the net bonus amount."
   ]
  },
  {
   "cell_type": "code",
   "execution_count": 1,
   "metadata": {},
   "outputs": [
    {
     "name": "stdout",
     "output_type": "stream",
     "text": [
      "please enter your salary :50000\n",
      "Enter the years of service :5\n",
      "The net bonus is :2500.0\n"
     ]
    }
   ],
   "source": [
    "#Type your code here\n",
    "salary = int(input('please enter your salary :'))\n",
    "service_year = int(input(\"Enter the years of service :\"))\n",
    "if(service_year<=2017):\n",
    "    bonus = (salary*5)/100\n",
    "else:\n",
    "    print(\"Only five years experience man can apply\")\n",
    "print(\"The net bonus is :\"+str(bonus))    "
   ]
  },
  {
   "cell_type": "markdown",
   "metadata": {},
   "source": [
    "2) Write a program to check whether a person is eligible for voting or not. (accept age from user)"
   ]
  },
  {
   "cell_type": "code",
   "execution_count": 4,
   "metadata": {},
   "outputs": [
    {
     "name": "stdout",
     "output_type": "stream",
     "text": [
      "please enter your age to check wheather that you are eligible for voting or not :13\n",
      "You are not eligible for voting\n"
     ]
    }
   ],
   "source": [
    "#Type your code here\n",
    "age  = int(input(\"please enter your age to check wheather that you are eligible for voting or not :\"))\n",
    "if(age>=18):\n",
    "    print(\"You are eligible for voting\")\n",
    "else:\n",
    "    print(\"You are not eligible for voting\")"
   ]
  },
  {
   "cell_type": "markdown",
   "metadata": {},
   "source": [
    "\n",
    "3) Write a program to check whether a number entered by user is even or odd."
   ]
  },
  {
   "cell_type": "code",
   "execution_count": 9,
   "metadata": {},
   "outputs": [
    {
     "name": "stdout",
     "output_type": "stream",
     "text": [
      "Enter number :56\n",
      "The given number is even\n"
     ]
    }
   ],
   "source": [
    "#Type your code here\n",
    "num = int(input(\"Enter number :\"))\n",
    "if(num%2==0):\n",
    "    print(\"The given number is even\")\n",
    "else:\n",
    "    print(\"The given number is odd\")\n",
    "\n"
   ]
  },
  {
   "cell_type": "markdown",
   "metadata": {},
   "source": [
    "4) Write a program to check whether a number is divisible by 7 or not.\n",
    "Show Answer"
   ]
  },
  {
   "cell_type": "code",
   "execution_count": 11,
   "metadata": {},
   "outputs": [
    {
     "name": "stdout",
     "output_type": "stream",
     "text": [
      "Enter number :27\n",
      "The given number is not divisible by 7 \n"
     ]
    }
   ],
   "source": [
    "#Type your code here\n",
    "num = int(input(\"Enter number :\"))\n",
    "if(num%7==0):\n",
    "    print(\"The given number is divisible by 7\")\n",
    "else:\n",
    "    print(\"The given number is not divisible by 7 \")\n"
   ]
  },
  {
   "cell_type": "raw",
   "metadata": {},
   "source": [
    "5) Write a program to display \n",
    "\"Hello\" if a number entered by user is a multiple of five , otherwise print \"Bye\"."
   ]
  },
  {
   "cell_type": "code",
   "execution_count": 20,
   "metadata": {},
   "outputs": [
    {
     "name": "stdout",
     "output_type": "stream",
     "text": [
      "Enter a number :45\n",
      "True\n"
     ]
    }
   ],
   "source": [
    "#Type your code here\n",
    "# First method\n",
    "n = int(input(\"Enter a number :\"))\n",
    "while(n>0):\n",
    "    n = n-5\n",
    "if(n==0):\n",
    "    print(\"Hello\")\n",
    "else:\n",
    "    print('Bye')\n",
    "    \n",
    "# second method\n",
    "num = int(input(\"Enter number :\"))\n",
    "if(num%5==0):\n",
    "    print(\"Hello\")\n",
    "else:\n",
    "    print(\"bye\")\n"
   ]
  },
  {
   "cell_type": "raw",
   "metadata": {},
   "source": [
    "6) Write a program to calculate the electricity bill (accept number of unit from user) according to the following criteria :\n",
    "     Unit                                                     Price  \n",
    "uptp 100 units                                             no charge\n",
    "Next 200 units                                              Rs 5 per unit\n",
    "After 200 units                                             Rs 10 per unit\n",
    "(For example if input unit is 350 than total bill amount is Rs.3500\n",
    "(For example if input unit is 97 than total bill amount is Rs.0\n",
    "(For example if input unit is 150 than total bill amount is Rs.750"
   ]
  },
  {
   "cell_type": "code",
   "execution_count": 8,
   "metadata": {},
   "outputs": [
    {
     "name": "stdout",
     "output_type": "stream",
     "text": [
      "Enter the unit of electricity bill :120\n",
      "The bill of your house of this month is 100\n"
     ]
    }
   ],
   "source": [
    "#Type your code here\n",
    "unit = int(input(\"Enter the unit of electricity bill :\"))\n",
    "bill = 5\n",
    "amount =0\n",
    "if(unit<=100):\n",
    "    rs = 0\n",
    "elif(unit>100 and unit<=200):\n",
    "    amount = unit-100\n",
    "    rs = amount*5\n",
    "elif(unit>200):\n",
    "    amount = unit-100\n",
    "    rs = amount*10\n",
    "else:\n",
    "    print(\"Tum bill bharte ho\")\n",
    "print(\"The bill of your house of this month is \"+str(rs))"
   ]
  },
  {
   "cell_type": "raw",
   "metadata": {},
   "source": [
    "7) Write a program to display the last digit of a number.\n"
   ]
  },
  {
   "cell_type": "code",
   "execution_count": 24,
   "metadata": {},
   "outputs": [
    {
     "name": "stdout",
     "output_type": "stream",
     "text": [
      "Enter number :1234\n",
      "The last digit is :4\n"
     ]
    }
   ],
   "source": [
    "#Type your code here\n",
    "num = int(input(\"Enter number :\"))\n",
    "ld = num%10\n",
    "print(\"The last digit is :\"+str(ld))"
   ]
  },
  {
   "cell_type": "raw",
   "metadata": {},
   "source": [
    "\n",
    "Q8. Write a program to check whether the last digit of a number( entered by user ) is \n",
    "divisible by 3 or not."
   ]
  },
  {
   "cell_type": "code",
   "execution_count": 27,
   "metadata": {},
   "outputs": [
    {
     "name": "stdout",
     "output_type": "stream",
     "text": [
      "Enter number :345\n",
      "The last digit is :5\n",
      "The given number is not divisible by 3\n"
     ]
    }
   ],
   "source": [
    "#Type your code here\n",
    "num = int(input(\"Enter number :\"))\n",
    "ld = num%10\n",
    "print(\"The last digit is :\"+str(ld))\n",
    "if(ld%3==0):\n",
    "    print(\"The given number is divisible by 3\")\n",
    "else:\n",
    "    print(\"The given number is not divisible by 3\")"
   ]
  },
  {
   "cell_type": "raw",
   "metadata": {},
   "source": [
    "9) Take values of length and breadth of a rectangle from user and check if it is square or not."
   ]
  },
  {
   "cell_type": "code",
   "execution_count": 29,
   "metadata": {},
   "outputs": [
    {
     "name": "stdout",
     "output_type": "stream",
     "text": [
      "Enter lenght to check the given lenght is of rectangular or square :45\n",
      "Enter breadth to check the given lenght is of rectangular or square :34\n",
      "The given lenght and breath is of rectangular\n"
     ]
    }
   ],
   "source": [
    "#Type your code here \n",
    "lenght = int(input(\"Enter lenght to check the given lenght is of rectangular or square :\"))\n",
    "breadth = int(input(\"Enter breadth to check the given lenght is of rectangular or square :\"))\n",
    "if(lenght==breadth):\n",
    "    print(\"The given lenght and breath is of square\")\n",
    "else:\n",
    "     print(\"The given lenght and breath is of rectangular\")"
   ]
  },
  {
   "cell_type": "raw",
   "metadata": {},
   "source": [
    "10) Take two int values from user and print greatest among them."
   ]
  },
  {
   "cell_type": "code",
   "execution_count": 31,
   "metadata": {},
   "outputs": [
    {
     "name": "stdout",
     "output_type": "stream",
     "text": [
      "Enter number 1 :6\n",
      "Enter number 2 :3\n",
      "6\n"
     ]
    }
   ],
   "source": [
    "# Type your code here\n",
    "num1 = int(input(\"Enter number 1 :\"))\n",
    "num2 = int(input(\"Enter number 2 :\"))\n",
    "if(num1>num2):\n",
    "    larger = num1\n",
    "else:\n",
    "    larger = num2\n",
    "print(larger)    "
   ]
  },
  {
   "cell_type": "raw",
   "metadata": {},
   "source": [
    "11) A shop will give discount of 10% if the cost of purchased quantity is more than 1000.\n",
    "Ask user for quantity\n",
    "Suppose, one unit will cost 100.\n",
    "Judge and print total cost for user."
   ]
  },
  {
   "cell_type": "code",
   "execution_count": 6,
   "metadata": {},
   "outputs": [
    {
     "name": "stdout",
     "output_type": "stream",
     "text": [
      "Enter the quantity :12\n",
      "1200 After discount 1080.0\n"
     ]
    }
   ],
   "source": [
    "#Type your code here\n",
    "quantity = num1 = int(input(\"Enter the quantity :\"))\n",
    "coast = quantity*100\n",
    "if(coast>1000):\n",
    "    di = coast/10\n",
    "    dis = coast-di\n",
    "    print(coast,\"After discount\",dis)\n",
    "else:\n",
    "    print(\"sorry no discount\")"
   ]
  },
  {
   "cell_type": "raw",
   "metadata": {},
   "source": [
    "12) A school has following rules for grading system:\n",
    "\n",
    "a. Below 25 - F\n",
    "\n",
    "b. 25 to 45 - E\n",
    "\n",
    "c. 45 to 50 - D\n",
    "\n",
    "d. 50 to 60 - C\n",
    "\n",
    "e. 60 to 80 - B\n",
    "\n",
    "f. Above 80 - A\n",
    "\n",
    "Ask user to enter marks and print the corresponding grade."
   ]
  },
  {
   "cell_type": "code",
   "execution_count": 6,
   "metadata": {},
   "outputs": [
    {
     "name": "stdout",
     "output_type": "stream",
     "text": [
      "Enter the percentage :25\n",
      "Your paper is sharting\n",
      "Your grade is  F\n"
     ]
    }
   ],
   "source": [
    "#Type your code here\n",
    "per = int(input(\"Enter the percentage :\"))\n",
    "if (per>80):\n",
    "    grade = \"A\"\n",
    "elif (per>60 and per<=80):\n",
    "    grade = \"B\"\n",
    "elif (per>50 and per<=60):\n",
    "    grade = \"C\"\n",
    "elif (per>45 and per<=50):\n",
    "    grade = \"D\"\n",
    "elif (per>25 and per<=45):\n",
    "    grade = \"E\"\n",
    "elif (per<25):\n",
    "    grade = \"F\"\n",
    "else:\n",
    "    print(\"Your paper is sharting\")\n"
   ]
  },
  {
   "cell_type": "raw",
   "metadata": {},
   "source": [
    "13) Take input of age of 3 people by user and determine oldest and youngest among them."
   ]
  },
  {
   "cell_type": "code",
   "execution_count": 3,
   "metadata": {},
   "outputs": [
    {
     "name": "stdout",
     "output_type": "stream",
     "text": [
      "Enter your age :34\n",
      "Enter your age :54\n",
      "Enter your age :11\n",
      "you are not a young \n",
      "you are not a young (First one)\n",
      "you are not a young (Second one)\n"
     ]
    }
   ],
   "source": [
    "#Type your code here\n",
    "age = int(input(\"Enter your age :\"))\n",
    "age1 = int(input(\"Enter your age :\"))\n",
    "age2 = int(input(\"Enter your age :\"))\n",
    "if (age>=18 and age<30  ):\n",
    "    ag=\"youngest\"\n",
    "else:\n",
    "    ag = \"you are not a young \" \n",
    "pass\n",
    "if(age1>=18 and age1<30):\n",
    "        ag1 = \"Youngest\"\n",
    "else:\n",
    "    ag1 = \"you are not a young (First one)\"       \n",
    "pass\n",
    "if(age2>=18 and age2<30):\n",
    "            ag2 = \"Youngest\"\n",
    "else:\n",
    "    ag2 = \"you are not a young (Second one)\"\n",
    "pass    \n",
    "print(ag)\n",
    "print(ag1)\n",
    "print(ag2)"
   ]
  },
  {
   "cell_type": "raw",
   "metadata": {},
   "source": [
    "14)A student will not be allowed to sit in exam if his/her attendence is less than 75%.\n",
    "\n",
    "Take following input from user\n",
    "\n",
    "Number of classes held\n",
    "\n",
    "Number of classes attended.\n",
    "\n",
    "And print\n",
    "\n",
    "percentage of class attended\n",
    "\n",
    "Is student is allowed to sit in exam or not.\n"
   ]
  },
  {
   "cell_type": "code",
   "execution_count": 1,
   "metadata": {},
   "outputs": [
    {
     "name": "stdout",
     "output_type": "stream",
     "text": [
      "Enter the total classees :30\n",
      "Enter the class that you attend :15\n",
      "You are Not allowed to sit in exam\n"
     ]
    }
   ],
   "source": [
    "#Type your code here\n",
    "classheld = int(input(\"Enter the total classees :\"))\n",
    "classattend = int(input(\"Enter the class that you attend :\"))\n",
    "per = (classattend/classheld)*100\n",
    "if per<75:\n",
    "    sit = \"Not allowed\"\n",
    "else:\n",
    "    sit = \"Allowed\"\n",
    "print(\"You are \"+sit+\" to sit in exam\")    "
   ]
  },
  {
   "cell_type": "raw",
   "metadata": {},
   "source": [
    "15) Modify the above question to allow student to sit if he/she has medical cause. Ask user if he/she has medical cause or not ( 'Y' or 'N' ) and print accordingly."
   ]
  },
  {
   "cell_type": "code",
   "execution_count": 6,
   "metadata": {},
   "outputs": [
    {
     "name": "stdout",
     "output_type": "stream",
     "text": [
      "Enter the total classes :36\n",
      "Enter the class that you attend :35\n",
      "you have any medical cause (Y or N)n\n",
      "You are Allowed to sit in exam\n"
     ]
    }
   ],
   "source": [
    "#Type your code hereclassheld = int(input(\"Enter the total classees :\"))\n",
    "classheld = int(input(\"Enter the total classes :\"))\n",
    "classattend = int(input(\"Enter the class that you attend :\"))\n",
    "per = (classattend/classheld)*100\n",
    "medical = input(\"you have any medical cause (Y or N)\").upper()\n",
    "if per<75 and medical==\"N\":\n",
    "    sit = \"Not allowed\"\n",
    "elif medical==\"Y\":\n",
    "    sit = \"Allowed\"\n",
    "else:\n",
    "    sit = \"Allowed\"\n",
    "print(\"You are \"+sit+\" to sit in exam\") "
   ]
  },
  {
   "cell_type": "raw",
   "metadata": {},
   "source": [
    "16) Write a program to check if a year is leap year or not.\n",
    "\n",
    "If a year is divisible by 4 then it is leap year but if the year is century year like 2000, 1900, 2100 then it must be divisible by 400."
   ]
  },
  {
   "cell_type": "code",
   "execution_count": 11,
   "metadata": {},
   "outputs": [
    {
     "name": "stdout",
     "output_type": "stream",
     "text": [
      "Enter the year :2000\n",
      "The year 2000 is Yes leap year\n"
     ]
    }
   ],
   "source": [
    "#Type your code here\n",
    "year = int(input(\"Enter the year :\"))\n",
    "if year%100==0:\n",
    "    leap = year%400\n",
    "    if leap==0:\n",
    "        lp = \"Yes\"\n",
    "elif year%4==0:\n",
    "    lp = \"Yes\"\n",
    "else:\n",
    "    lp = \"No\"\n",
    "print(f\"The year {year} is {lp} leap year\")    "
   ]
  },
  {
   "cell_type": "raw",
   "metadata": {},
   "source": [
    "17) Ask user to enter age, gender ( M or F ), marital status ( Y or N ) and then using following rules print their place of service.\n",
    "\n",
    "if employee is female, then she will work only in urban areas.\n",
    "\n",
    "if employee is a male and age is in between 20 to 40 then he may work in anywhere\n",
    "\n",
    "if employee is male and age is in between 40 t0 60 then he will work in urban areas only.\n",
    "\n",
    "And any other input of age should print \"ERROR\""
   ]
  },
  {
   "cell_type": "code",
   "execution_count": 22,
   "metadata": {},
   "outputs": [],
   "source": [
    "#Type your code here"
   ]
  },
  {
   "cell_type": "code",
   "execution_count": null,
   "metadata": {},
   "outputs": [],
   "source": []
  }
 ],
 "metadata": {
  "kernelspec": {
   "display_name": "Python 3 (ipykernel)",
   "language": "python",
   "name": "python3"
  },
  "language_info": {
   "codemirror_mode": {
    "name": "ipython",
    "version": 3
   },
   "file_extension": ".py",
   "mimetype": "text/x-python",
   "name": "python",
   "nbconvert_exporter": "python",
   "pygments_lexer": "ipython3",
   "version": "3.9.12"
  }
 },
 "nbformat": 4,
 "nbformat_minor": 2
}
