{
 "cells": [
  {
   "cell_type": "markdown",
   "id": "00d9616c",
   "metadata": {},
   "source": [
    "# Inheritance"
   ]
  },
  {
   "cell_type": "raw",
   "id": "1b8bf429",
   "metadata": {},
   "source": [
    "Multi inheritance\n",
    "Single \n",
    "Multilevel"
   ]
  },
  {
   "cell_type": "code",
   "execution_count": 62,
   "id": "4eedc626",
   "metadata": {},
   "outputs": [],
   "source": [
    "class Car(): # This is the simple class\n",
    "    wheels = 4\n",
    "    def __init__(self,brand,model,transmission,engine): # This is the initializer Which generates new value again and again\n",
    "        self.brand = brand\n",
    "        self.model = model\n",
    "        self.transmission = transmission\n",
    "        self.engine = engine\n",
    "        \n",
    "    def start(self):\n",
    "        print(f\"{self.brand},{self.model},{self.transmission},{self.engine} is running\")\n",
    "        \n",
    "    def stop(self):\n",
    "        print(f\"{self.brand},{self.model},{self.transmission},{self.engine} is stopped\")\n",
    "        \n",
    "    def fueltank(self):\n",
    "        print(f\"{self.brand},{self.model},{self.transmission},{self.engine} filing fuel tank\")"
   ]
  },
  {
   "cell_type": "code",
   "execution_count": 63,
   "id": "c49b18c4",
   "metadata": {},
   "outputs": [],
   "source": [
    "# Here i creating a object of upper class\n",
    "\n",
    "car1 = Car(\"Hyundai\",\"Proton\",\"Auto\",\"2500cc\") # Object is successfully created"
   ]
  },
  {
   "cell_type": "code",
   "execution_count": 64,
   "id": "6412d8cb",
   "metadata": {},
   "outputs": [
    {
     "data": {
      "text/plain": [
       "'Hyundai'"
      ]
     },
     "execution_count": 64,
     "metadata": {},
     "output_type": "execute_result"
    }
   ],
   "source": [
    "car1.brand"
   ]
  },
  {
   "cell_type": "code",
   "execution_count": 65,
   "id": "731b705a",
   "metadata": {},
   "outputs": [
    {
     "data": {
      "text/plain": [
       "'Auto'"
      ]
     },
     "execution_count": 65,
     "metadata": {},
     "output_type": "execute_result"
    }
   ],
   "source": [
    "car1.transmission"
   ]
  },
  {
   "cell_type": "code",
   "execution_count": 66,
   "id": "d0008605",
   "metadata": {},
   "outputs": [
    {
     "data": {
      "text/plain": [
       "'Proton'"
      ]
     },
     "execution_count": 66,
     "metadata": {},
     "output_type": "execute_result"
    }
   ],
   "source": [
    "car1.model"
   ]
  },
  {
   "cell_type": "code",
   "execution_count": 67,
   "id": "6dec34c1",
   "metadata": {},
   "outputs": [
    {
     "data": {
      "text/plain": [
       "'2500cc'"
      ]
     },
     "execution_count": 67,
     "metadata": {},
     "output_type": "execute_result"
    }
   ],
   "source": [
    "car1.engine"
   ]
  },
  {
   "cell_type": "code",
   "execution_count": 68,
   "id": "62eda287",
   "metadata": {},
   "outputs": [
    {
     "name": "stdout",
     "output_type": "stream",
     "text": [
      "Hyundai,Proton,Auto,2500cc is running\n"
     ]
    }
   ],
   "source": [
    "car1.start() # For Function Calling insert a round bracket in the end of function name "
   ]
  },
  {
   "cell_type": "code",
   "execution_count": 69,
   "id": "facc93b2",
   "metadata": {},
   "outputs": [
    {
     "name": "stdout",
     "output_type": "stream",
     "text": [
      "Hyundai,Proton,Auto,2500cc is stopped\n"
     ]
    }
   ],
   "source": [
    "car1.stop()"
   ]
  },
  {
   "cell_type": "code",
   "execution_count": 70,
   "id": "9cd3ad12",
   "metadata": {},
   "outputs": [
    {
     "name": "stdout",
     "output_type": "stream",
     "text": [
      "Hyundai,Proton,Auto,2500cc filing fuel tank\n"
     ]
    }
   ],
   "source": [
    "car1.fueltank()"
   ]
  },
  {
   "cell_type": "code",
   "execution_count": 71,
   "id": "6184504c",
   "metadata": {},
   "outputs": [],
   "source": [
    "# Here i start Inheritence\n",
    "class sportsCar(Car):\n",
    "    def __init__(self,brand,model,transmission,engine,Topspeed,seats):\n",
    "        \n",
    "        super().__init__(brand,model,transmission,engine) # YE car ki class ki cheezain uske pass bhejdega\n",
    "        \n",
    "        self.Topspeed = Topspeed\n",
    "        self.seats = seats\n",
    "        \n",
    "    def currentspeed(self):\n",
    "        print(f\"Car is running at high speed at{self.Topspeed} with {self.seats} seats\")"
   ]
  },
  {
   "cell_type": "code",
   "execution_count": 72,
   "id": "9d329f88",
   "metadata": {},
   "outputs": [],
   "source": [
    "# Here i create a Inheritance class object\n",
    "sport = sportsCar(\"Hyundai\",\"Proton\",\"Auto\",\"2500cc\",\"1500km/h\",2)"
   ]
  },
  {
   "cell_type": "code",
   "execution_count": 73,
   "id": "e1a5dd43",
   "metadata": {},
   "outputs": [
    {
     "name": "stdout",
     "output_type": "stream",
     "text": [
      "Car is running at high speed at1500km/h with 2 seats\n"
     ]
    }
   ],
   "source": [
    "sport.currentspeed()"
   ]
  },
  {
   "cell_type": "code",
   "execution_count": 74,
   "id": "53e3d4b5",
   "metadata": {},
   "outputs": [
    {
     "data": {
      "text/plain": [
       "'1500km/h'"
      ]
     },
     "execution_count": 74,
     "metadata": {},
     "output_type": "execute_result"
    }
   ],
   "source": [
    "sport.Topspeed"
   ]
  },
  {
   "cell_type": "code",
   "execution_count": 75,
   "id": "925ec00d",
   "metadata": {},
   "outputs": [
    {
     "name": "stdout",
     "output_type": "stream",
     "text": [
      "Hyundai,Proton,Auto,2500cc is stopped\n"
     ]
    }
   ],
   "source": [
    "sport.stop() # ham inheritence ki hui class ka function bhi call karsakte h \n",
    "# Kyunke hm ne wo class inherit karli h \n",
    "# Lekin us function mein sirf wohi cheezain aainge jo pehle thi update class ki cheezain nhi aainge"
   ]
  },
  {
   "cell_type": "code",
   "execution_count": 76,
   "id": "96aff82e",
   "metadata": {},
   "outputs": [
    {
     "name": "stdout",
     "output_type": "stream",
     "text": [
      "Hyundai,Proton,Auto,2500cc is running\n"
     ]
    }
   ],
   "source": [
    "sport.start()"
   ]
  },
  {
   "cell_type": "code",
   "execution_count": 77,
   "id": "b70ec998",
   "metadata": {},
   "outputs": [
    {
     "name": "stdout",
     "output_type": "stream",
     "text": [
      "Hyundai,Proton,Auto,2500cc filing fuel tank\n"
     ]
    }
   ],
   "source": [
    "sport.fueltank()"
   ]
  },
  {
   "cell_type": "markdown",
   "id": "71b4765e",
   "metadata": {},
   "source": [
    "# POLYMORPHISM"
   ]
  },
  {
   "cell_type": "code",
   "execution_count": 78,
   "id": "19d9b738",
   "metadata": {},
   "outputs": [],
   "source": [
    " # 2 method same name k but different parameters usko polymorphism kehte h Or method overloading\n",
    " # Lekin python doesn not support method overloading"
   ]
  },
  {
   "cell_type": "code",
   "execution_count": 79,
   "id": "18d5a70f",
   "metadata": {},
   "outputs": [],
   "source": [
    "def hy():\n",
    "    print(\"Kese ho\")\n",
    "    \n",
    "def hy(somevalue):\n",
    "    print(somevalue)\n",
    "    "
   ]
  },
  {
   "cell_type": "code",
   "execution_count": 80,
   "id": "0ccec515",
   "metadata": {},
   "outputs": [
    {
     "name": "stdout",
     "output_type": "stream",
     "text": [
      "Ameen\n"
     ]
    }
   ],
   "source": [
    "hy(\"Ameen\")"
   ]
  },
  {
   "cell_type": "markdown",
   "id": "ff77d86b",
   "metadata": {},
   "source": [
    "  # How to set default value in class "
   ]
  },
  {
   "cell_type": "code",
   "execution_count": 81,
   "id": "147234ce",
   "metadata": {},
   "outputs": [],
   "source": [
    "class ElectricCar(Car):\n",
    "    def __init__(self,brand,model,transmission,engine,battery):\n",
    "        self.battery = battery\n",
    "        \n",
    "        super().__init__(brand,model,transmission,engine)\n",
    "    \n",
    "    def chargebattery(self):\n",
    "        print(\"Battery charged\")\n",
    "        \n",
    "    def fueltank(self):\n",
    "        print(\"Electric car has no fuel tank\") # Because Inherit class car mein ye method pehle se tha to electric car mein \n",
    "        # to fuel tank nhi hota to method hata to isi lye ye method banaya h ye override hokar no fuel tank print karega"
   ]
  },
  {
   "cell_type": "code",
   "execution_count": 82,
   "id": "3eea825d",
   "metadata": {},
   "outputs": [],
   "source": [
    "# Here i create a object \n",
    "ecar = ElectricCar(\"Hyundai\",\"Proton\",\"Auto\",\"2500cc\",\"Exide\")"
   ]
  },
  {
   "cell_type": "code",
   "execution_count": 84,
   "id": "db50e824",
   "metadata": {},
   "outputs": [
    {
     "data": {
      "text/plain": [
       "4"
      ]
     },
     "execution_count": 84,
     "metadata": {},
     "output_type": "execute_result"
    }
   ],
   "source": [
    "ecar.wheels # IS ki value default set ki hui car ki class mein to har jaga yehi aagi"
   ]
  },
  {
   "cell_type": "code",
   "execution_count": null,
   "id": "4fc7ffde",
   "metadata": {},
   "outputs": [],
   "source": []
  }
 ],
 "metadata": {
  "kernelspec": {
   "display_name": "Python 3 (ipykernel)",
   "language": "python",
   "name": "python3"
  },
  "language_info": {
   "codemirror_mode": {
    "name": "ipython",
    "version": 3
   },
   "file_extension": ".py",
   "mimetype": "text/x-python",
   "name": "python",
   "nbconvert_exporter": "python",
   "pygments_lexer": "ipython3",
   "version": "3.9.12"
  }
 },
 "nbformat": 4,
 "nbformat_minor": 5
}
