{
 "cells": [
  {
   "cell_type": "code",
   "execution_count": null,
   "id": "2264e722",
   "metadata": {},
   "outputs": [],
   "source": [
    "# For connecting database"
   ]
  },
  {
   "cell_type": "code",
   "execution_count": 6,
   "id": "0467ccec",
   "metadata": {},
   "outputs": [
    {
     "name": "stdout",
     "output_type": "stream",
     "text": [
      "Collecting psycopg2\n",
      "  Downloading psycopg2-2.9.4-cp39-cp39-win_amd64.whl (1.2 MB)\n",
      "Installing collected packages: psycopg2\n",
      "Successfully installed psycopg2-2.9.4\n"
     ]
    }
   ],
   "source": [
    "!pip install psycopg2"
   ]
  },
  {
   "cell_type": "code",
   "execution_count": 2,
   "id": "9494becf",
   "metadata": {},
   "outputs": [],
   "source": [
    "import psycopg2\n",
    "import psycopg2.extras"
   ]
  },
  {
   "cell_type": "code",
   "execution_count": 12,
   "id": "0d9acd6d",
   "metadata": {},
   "outputs": [],
   "source": [
    "host_name = \"localhost\"\n",
    "data_base = \"postgres\"\n",
    "user_name = 'postgres'\n",
    "pwd = \"mydatabase\"\n",
    "port_id = 5432"
   ]
  },
  {
   "cell_type": "code",
   "execution_count": 17,
   "id": "fb8ef28b",
   "metadata": {},
   "outputs": [],
   "source": [
    "# Here we make a connection with database\n",
    "# For leaving from error\n",
    "   ################ FOr connection #################\n",
    "try:\n",
    "    conn = psycopg2.connect(host=host_name\n",
    "                       ,dbname=data_base\n",
    "                       ,user=user_name\n",
    "                       ,password=pwd\n",
    "                       ,port=port_id)\n",
    "    \n",
    "    ############ Here i create a cursor ###################\n",
    "    cur = conn.cursor()\n",
    "    \n",
    "    ########### Here i create a database table ##########\n",
    "    create_script = '''\n",
    "                        CREATE TABLE IF NOT EXISTS employee(\n",
    "                        id      INT PRIMARY KEY\n",
    "                        ,name    VARCHAR(40) NOT NULL\n",
    "                        ,salary  INT\n",
    "                        ,dept_id  VARCHAR(30) NOT NULL\n",
    "                        )\n",
    "                    '''\n",
    "    \n",
    "   \n",
    "except Exception as e:\n",
    "    print(\"Exception \"+str(e))\n",
    "    \n",
    "finally:\n",
    "    if cur is not None:\n",
    "        cur.close()\n",
    "    if conn is not None:\n",
    "         conn.close()"
   ]
  },
  {
   "cell_type": "code",
   "execution_count": null,
   "id": "d7126f58",
   "metadata": {},
   "outputs": [],
   "source": []
  }
 ],
 "metadata": {
  "kernelspec": {
   "display_name": "Python 3 (ipykernel)",
   "language": "python",
   "name": "python3"
  },
  "language_info": {
   "codemirror_mode": {
    "name": "ipython",
    "version": 3
   },
   "file_extension": ".py",
   "mimetype": "text/x-python",
   "name": "python",
   "nbconvert_exporter": "python",
   "pygments_lexer": "ipython3",
   "version": "3.9.12"
  }
 },
 "nbformat": 4,
 "nbformat_minor": 5
}
