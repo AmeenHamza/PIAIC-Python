{
 "cells": [
  {
   "cell_type": "markdown",
   "id": "b5ec9d3e",
   "metadata": {},
   "source": [
    "### Task1:\n",
    "You need to code a program that prints numbers from 1 to 20 except multiple of 2 & 3.\n",
    "\n",
    "Hint: use \"modulo\" operator and \"and/or\" operators"
   ]
  },
  {
   "cell_type": "code",
   "execution_count": 2,
   "id": "a94f69b5",
   "metadata": {},
   "outputs": [
    {
     "name": "stdout",
     "output_type": "stream",
     "text": [
      "1\n",
      "5\n",
      "7\n",
      "11\n",
      "13\n",
      "17\n",
      "19\n"
     ]
    }
   ],
   "source": [
    "# Your code goes here\n",
    "for i in range(1,21):\n",
    "    if i%2==0 or i%3==0:\n",
    "        continue\n",
    "    print(i)    "
   ]
  },
  {
   "cell_type": "markdown",
   "id": "b123a205",
   "metadata": {},
   "source": [
    "### Task2:\n",
    "Write a program that keep on accepting number from the user until user enters Zero. Display the sum and average of all the numbers.\n",
    "\n",
    "Hint: Use while loop with flag. "
   ]
  },
  {
   "cell_type": "code",
   "execution_count": 1,
   "id": "29296c1c",
   "metadata": {},
   "outputs": [
    {
     "name": "stdout",
     "output_type": "stream",
     "text": [
      "Enter the number :30\n",
      "Enter the number :20\n",
      "Enter the number :0\n",
      "The sum is 50 and the average is 25.0\n",
      "The number of elements which user enter is  2\n"
     ]
    }
   ],
   "source": [
    "# Your code goes here\n",
    "flag = 0\n",
    "count = 0\n",
    "while True:\n",
    "    user = int(input(\"Enter the number and press 0 to exit :\"))\n",
    "    if user==0:\n",
    "        break\n",
    "    flag = flag +user\n",
    "    count+=1\n",
    "    avg = flag/count\n",
    "print(f\"The sum is {flag} and the average is {avg}\")    \n",
    "print(\"The number of elements which user enter is \",count)"
   ]
  },
  {
   "cell_type": "markdown",
   "id": "9ea5024e",
   "metadata": {},
   "source": [
    "### Task3:\n",
    "Accept 10 numbers from the user and display their average.\n",
    "\n",
    "Hint: Use loop for accepting numbers or use split to take input in one go"
   ]
  },
  {
   "cell_type": "code",
   "execution_count": 4,
   "id": "5bebbbe8",
   "metadata": {},
   "outputs": [
    {
     "name": "stdout",
     "output_type": "stream",
     "text": [
      "Enter 10 comma seperated numbers :1,2,3,4,5,6,7,8,9,12\n",
      "The sum is 57 and the average is 5.7\n"
     ]
    }
   ],
   "source": [
    "# Your code goes here\n",
    "# The split function is work only in string vlue\n",
    "user =input(\"Enter 10 comma seperated numbers :\").split(\",\")\n",
    "su =0\n",
    "for num in user:\n",
    "    su +=int(num)\n",
    "print(f\"The sum is {su} and the average is {su/10}\")    "
   ]
  },
  {
   "cell_type": "markdown",
   "id": "e17466dd",
   "metadata": {},
   "source": [
    "### Task4:\n",
    "Write a program to display sum of odd numbers and even numbers that fall between 12 and 37(including both numbers)\n"
   ]
  },
  {
   "cell_type": "code",
   "execution_count": 21,
   "id": "d5715b5c",
   "metadata": {},
   "outputs": [
    {
     "name": "stdout",
     "output_type": "stream",
     "text": [
      "The list of odd numbers is [13, 15, 17, 19, 21, 23, 25, 27, 29, 31, 33, 35, 37] and\n",
      " The list of even numbers is [12, 14, 16, 18, 20, 22, 24, 26, 28, 30, 32, 34, 36]\n",
      "The sum of odd number is 325 and the sum of even numbers is 312\n"
     ]
    }
   ],
   "source": [
    "# Your code goes here\n",
    "odd = []\n",
    "even = []\n",
    "for i in range(12,38):\n",
    "    if i%2==0:\n",
    "        even.append(i)\n",
    "    else:\n",
    "        odd.append(i)\n",
    "print(f\"The list of odd numbers is {odd} and\\n The list of even numbers is {even}\")        \n",
    "print(f\"The sum of odd number is {sum(odd)} and the sum of even numbers is {sum(even)}\")        "
   ]
  },
  {
   "cell_type": "code",
   "execution_count": 5,
   "id": "6f50442f",
   "metadata": {},
   "outputs": [
    {
     "name": "stdout",
     "output_type": "stream",
     "text": [
      "The sum of all even numbers is 312 and the average is 24.0\n",
      "The sum of all odd numbers is 325 and the average is 25.0\n"
     ]
    }
   ],
   "source": [
    "# Second method for task number 4\n",
    "od_sum = 0\n",
    "ev_sum = 0\n",
    "ev_count = 0\n",
    "od_count = 0\n",
    "for i in range(12,38):\n",
    "    if i%2==0:\n",
    "        ev_sum+= i\n",
    "        ev_count+=1\n",
    "    else:\n",
    "        od_sum+= i\n",
    "        od_count+=1\n",
    "print(f\"The sum of all even numbers is {ev_sum} and the average is {ev_sum/ev_count}\")\n",
    "print(f\"The sum of all odd numbers is {od_sum} and the average is {od_sum/od_count}\")\n",
    "\n"
   ]
  },
  {
   "cell_type": "markdown",
   "id": "4c64217d",
   "metadata": {},
   "source": [
    "### Task5:\n",
    "Write a program to print table of a number accepted from user.\n"
   ]
  },
  {
   "cell_type": "raw",
   "id": "0bf864bf",
   "metadata": {},
   "source": [
    "\n",
    "Output: \n",
    "7 * 1 = 7\n",
    "7 * 2 = 14\n",
    "7 * 3 = 21\n",
    "7 * 4 = 28\n",
    "7 * 5 = 35\n",
    "7 * 6 = 42\n",
    "7 * 7 = 49\n",
    "7 * 8 = 56\n",
    "7 * 9 = 63\n",
    "7 * 10 = 70\n",
    "           "
   ]
  },
  {
   "cell_type": "code",
   "execution_count": 22,
   "id": "3305bb3d",
   "metadata": {},
   "outputs": [
    {
     "name": "stdout",
     "output_type": "stream",
     "text": [
      "Enter the number for table :7\n",
      "7 x 1 = 7\n",
      "7 x 2 = 14\n",
      "7 x 3 = 21\n",
      "7 x 4 = 28\n",
      "7 x 5 = 35\n",
      "7 x 6 = 42\n",
      "7 x 7 = 49\n",
      "7 x 8 = 56\n",
      "7 x 9 = 63\n",
      "7 x 10 = 70\n"
     ]
    }
   ],
   "source": [
    "# Your code goes here\n",
    "user = int(input(\"Enter the number for table :\"))\n",
    "for i in range(1,11):\n",
    "    print(f\"{user} x {i} = {user*i}\")"
   ]
  },
  {
   "cell_type": "markdown",
   "id": "fc08df86",
   "metadata": {},
   "source": [
    "### Task6:\n",
    "Write a program to display product of the digits of a number accepted from the user.\n",
    "\n",
    "If user inputs:123 Outputs 6\n",
    "\n",
    "If user inputs: 567 Outputs 210"
   ]
  },
  {
   "cell_type": "code",
   "execution_count": 51,
   "id": "e793d4c9",
   "metadata": {},
   "outputs": [
    {
     "name": "stdout",
     "output_type": "stream",
     "text": [
      "Enter any number :123\n",
      "\n",
      "Product of all digits in 123 : 6\n"
     ]
    }
   ],
   "source": [
    "# Your code goes here\n",
    "num = int(input(\"Enter any number :\"))\n",
    "temp = num\n",
    "product = 1;\n",
    "\n",
    "while(temp != 0):\n",
    "\n",
    "    product = product * (temp % 10);\n",
    "\n",
    "    # Remove last digit from temp.\n",
    "    temp = int(temp / 10)\n",
    "\n",
    "print(\"\\nProduct of all digits in\", num, \":\", product)"
   ]
  },
  {
   "cell_type": "code",
   "execution_count": 9,
   "id": "e03fec33",
   "metadata": {},
   "outputs": [
    {
     "name": "stdout",
     "output_type": "stream",
     "text": [
      "Enter a number :567\n",
      "210\n"
     ]
    }
   ],
   "source": [
    "# Second method of question no 5 \n",
    "num = input(\"Enter a number :\")\n",
    "if len(num)>0:\n",
    "    pro =1\n",
    "    for nums in num: # This takes numbers one by one\n",
    "        pro*=int(nums)\n",
    "    print(pro)\n",
    "else:\n",
    "    print(\"Enter at least 1 number\")"
   ]
  },
  {
   "cell_type": "code",
   "execution_count": 55,
   "id": "cec21743",
   "metadata": {},
   "outputs": [
    {
     "name": "stdout",
     "output_type": "stream",
     "text": [
      "2\n"
     ]
    }
   ],
   "source": [
    "a=123//10\n",
    "b=a%10\n",
    "print(b)"
   ]
  },
  {
   "cell_type": "markdown",
   "id": "f041397e",
   "metadata": {},
   "source": [
    "### Task7: \n",
    "Write a program to print first 10 even numbers in reverse order."
   ]
  },
  {
   "cell_type": "code",
   "execution_count": 71,
   "id": "b639f15e",
   "metadata": {},
   "outputs": [
    {
     "name": "stdout",
     "output_type": "stream",
     "text": [
      "This is the problem with for loop while reversing -1,-2,-3\n",
      "20\n",
      "18\n",
      "16\n",
      "14\n",
      "12\n",
      "10\n",
      "8\n",
      "6\n",
      "4\n",
      "2\n"
     ]
    }
   ],
   "source": [
    "# Your code goes here\n",
    "print(\"This is the problem with for loop while reversing -1,-2,-3\")\n",
    "for i in range(20,1,-2):\n",
    "     print(i)\n",
    "    "
   ]
  },
  {
   "cell_type": "markdown",
   "id": "37b679bb",
   "metadata": {},
   "source": [
    "### Task8:\n",
    "Write a program to find the sum of the digits of a number accepted from user\n",
    "\n",
    "If user inputs:123 Outputs 6\n",
    "\n",
    "If user inputs: 567 Outputs 18"
   ]
  },
  {
   "cell_type": "code",
   "execution_count": 73,
   "id": "adef66ce",
   "metadata": {},
   "outputs": [
    {
     "name": "stdout",
     "output_type": "stream",
     "text": [
      "Enter any number :567\n",
      "\n",
      "The sum of all digits in 567 : 18\n"
     ]
    }
   ],
   "source": [
    "# Your code goes here\n",
    "num = int(input(\"Enter any number :\"))\n",
    "temp = num\n",
    "su = 0;\n",
    "\n",
    "while(temp != 0):\n",
    "\n",
    "    su = su + (temp % 10);\n",
    "\n",
    "    # Remove last digit from temp.\n",
    "    temp = int(temp / 10)\n",
    "\n",
    "print(\"\\nThe sum of all digits in\", num, \":\", su)"
   ]
  },
  {
   "cell_type": "markdown",
   "id": "8b87f377",
   "metadata": {},
   "source": [
    "### Task9:\n",
    "Write a program that accepts a sentence and calculate the number of letters and digits.\n",
    "\n",
    "Suppose the following input is supplied to the program:\n",
    "\n",
    "hello world! 123\n",
    "\n",
    "Then, the output should be:\n",
    "\n",
    "LETTERS 10\n",
    "\n",
    "DIGITS 3\n"
   ]
  },
  {
   "cell_type": "code",
   "execution_count": 13,
   "id": "73835ab3",
   "metadata": {},
   "outputs": [
    {
     "name": "stdout",
     "output_type": "stream",
     "text": [
      "Enter your text :ameen 123\n",
      "The letters is 5 and the digits is 3\n"
     ]
    }
   ],
   "source": [
    "# Your code goes here\n",
    "import string\n",
    "text = input(\"Enter your text :\")\n",
    "# Is digit jitne bhi text aaega usko count karega\n",
    "l_count = 0\n",
    "d_count = 0\n",
    "for let in text:\n",
    "    if let.isdigit():\n",
    "        d_count+=1\n",
    "    elif let.isalpha():\n",
    "        l_count+=1\n",
    "    elif let==\" \":\n",
    "        continue\n",
    "    elif let in string.punctuation:\n",
    "        continue\n",
    "        \n",
    "print(f\"The letters is {l_count} and the digits is {d_count}\")\n"
   ]
  },
  {
   "cell_type": "code",
   "execution_count": 10,
   "id": "ed3405f7",
   "metadata": {},
   "outputs": [
    {
     "data": {
      "text/plain": [
       "'!\"#$%&\\'()*+,-./:;<=>?@[\\\\]^_`{|}~'"
      ]
     },
     "execution_count": 10,
     "metadata": {},
     "output_type": "execute_result"
    }
   ],
   "source": [
    "# The below function is print taqreeban punctuation\n",
    "import string\n",
    "string.punctuation"
   ]
  },
  {
   "cell_type": "markdown",
   "id": "a25b412b",
   "metadata": {},
   "source": [
    "### Task10: \n",
    "You need to trace and make a list of all such numbers from1000 to 3000 in which all the digits are even numbers."
   ]
  },
  {
   "cell_type": "code",
   "execution_count": 19,
   "id": "a3c27a5e",
   "metadata": {},
   "outputs": [
    {
     "name": "stdout",
     "output_type": "stream",
     "text": [
      "[2000, 2002, 2004, 2006, 2008, 2020, 2022, 2024, 2026, 2028, 2040, 2042, 2044, 2046, 2048, 2060, 2062, 2064, 2066, 2068, 2080, 2082, 2084, 2086, 2088, 2200, 2202, 2204, 2206, 2208, 2220, 2222, 2224, 2226, 2228, 2240, 2242, 2244, 2246, 2248, 2260, 2262, 2264, 2266, 2268, 2280, 2282, 2284, 2286, 2288, 2400, 2402, 2404, 2406, 2408, 2420, 2422, 2424, 2426, 2428, 2440, 2442, 2444, 2446, 2448, 2460, 2462, 2464, 2466, 2468, 2480, 2482, 2484, 2486, 2488, 2600, 2602, 2604, 2606, 2608, 2620, 2622, 2624, 2626, 2628, 2640, 2642, 2644, 2646, 2648, 2660, 2662, 2664, 2666, 2668, 2680, 2682, 2684, 2686, 2688, 2800, 2802, 2804, 2806, 2808, 2820, 2822, 2824, 2826, 2828, 2840, 2842, 2844, 2846, 2848, 2860, 2862, 2864, 2866, 2868, 2880, 2882, 2884, 2886, 2888]\n"
     ]
    }
   ],
   "source": [
    "# Your code goes here\n",
    "e = []\n",
    "for num in range(1000,3001):\n",
    "    num = str(num)\n",
    "    if( (int(num[0])%2==0) and (int(num[1])%2==0) and (int(num[2])%2==0) and (int(num[3])%2==0)):\n",
    "        e.append(int(num))\n",
    "    else:\n",
    "        continue\n",
    "print(e)"
   ]
  },
  {
   "cell_type": "code",
   "execution_count": 26,
   "id": "935eb241",
   "metadata": {},
   "outputs": [
    {
     "name": "stdout",
     "output_type": "stream",
     "text": [
      "{'0', '8', '4', '6', '2'}\n"
     ]
    },
    {
     "data": {
      "text/plain": [
       "[2000,\n",
       " 2002,\n",
       " 2004,\n",
       " 2006,\n",
       " 2008,\n",
       " 2020,\n",
       " 2022,\n",
       " 2024,\n",
       " 2026,\n",
       " 2028,\n",
       " 2040,\n",
       " 2042,\n",
       " 2044,\n",
       " 2046,\n",
       " 2048,\n",
       " 2060,\n",
       " 2062,\n",
       " 2064,\n",
       " 2066,\n",
       " 2068,\n",
       " 2080,\n",
       " 2082,\n",
       " 2084,\n",
       " 2086,\n",
       " 2088,\n",
       " 2200,\n",
       " 2202,\n",
       " 2204,\n",
       " 2206,\n",
       " 2208,\n",
       " 2220,\n",
       " 2222,\n",
       " 2224,\n",
       " 2226,\n",
       " 2228,\n",
       " 2240,\n",
       " 2242,\n",
       " 2244,\n",
       " 2246,\n",
       " 2248,\n",
       " 2260,\n",
       " 2262,\n",
       " 2264,\n",
       " 2266,\n",
       " 2268,\n",
       " 2280,\n",
       " 2282,\n",
       " 2284,\n",
       " 2286,\n",
       " 2288,\n",
       " 2400,\n",
       " 2402,\n",
       " 2404,\n",
       " 2406,\n",
       " 2408,\n",
       " 2420,\n",
       " 2422,\n",
       " 2424,\n",
       " 2426,\n",
       " 2428,\n",
       " 2440,\n",
       " 2442,\n",
       " 2444,\n",
       " 2446,\n",
       " 2448,\n",
       " 2460,\n",
       " 2462,\n",
       " 2464,\n",
       " 2466,\n",
       " 2468,\n",
       " 2480,\n",
       " 2482,\n",
       " 2484,\n",
       " 2486,\n",
       " 2488,\n",
       " 2600,\n",
       " 2602,\n",
       " 2604,\n",
       " 2606,\n",
       " 2608,\n",
       " 2620,\n",
       " 2622,\n",
       " 2624,\n",
       " 2626,\n",
       " 2628,\n",
       " 2640,\n",
       " 2642,\n",
       " 2644,\n",
       " 2646,\n",
       " 2648,\n",
       " 2660,\n",
       " 2662,\n",
       " 2664,\n",
       " 2666,\n",
       " 2668,\n",
       " 2680,\n",
       " 2682,\n",
       " 2684,\n",
       " 2686,\n",
       " 2688,\n",
       " 2800,\n",
       " 2802,\n",
       " 2804,\n",
       " 2806,\n",
       " 2808,\n",
       " 2820,\n",
       " 2822,\n",
       " 2824,\n",
       " 2826,\n",
       " 2828,\n",
       " 2840,\n",
       " 2842,\n",
       " 2844,\n",
       " 2846,\n",
       " 2848,\n",
       " 2860,\n",
       " 2862,\n",
       " 2864,\n",
       " 2866,\n",
       " 2868,\n",
       " 2880,\n",
       " 2882,\n",
       " 2884,\n",
       " 2886,\n",
       " 2888]"
      ]
     },
     "execution_count": 26,
     "metadata": {},
     "output_type": "execute_result"
    }
   ],
   "source": [
    "# BY list comprehension\n",
    "allowed = set(\"02468\")\n",
    "print(allowed)\n",
    "[i for i in range(1000,3001) if set(str(i)) <=allowed]"
   ]
  },
  {
   "cell_type": "markdown",
   "id": "ddc08744",
   "metadata": {},
   "source": [
    "### Task11: \n",
    "You need to write a program that counts the number of vowels in a given sentence as input from console. \n",
    "\n",
    "Suppose the following input is supplied to the program:\n",
    "\n",
    "Hello world! Practice makes perfect\n",
    "\n",
    "Then, the output should be:\n",
    "\n",
    "a appeared 2 times\n",
    "\n",
    "e appeared 5 times\n",
    "\n",
    "i appeared  1 time\n",
    "\n",
    "o appeared 2 times\n",
    "\n",
    "u appeared 0 time\n"
   ]
  },
  {
   "cell_type": "code",
   "execution_count": 24,
   "id": "0ed960fd",
   "metadata": {},
   "outputs": [
    {
     "name": "stdout",
     "output_type": "stream",
     "text": [
      "Enter your text :Hello world! Practice makes perfect\n",
      "The a is 2 time \n",
      "The i is 1 time \n",
      "The u is 0 time \n",
      "The e is 5 time \n",
      "The o is 2 time\n"
     ]
    }
   ],
   "source": [
    "# Your code goes here\n",
    "text = input(\"Enter your text :\").lower()\n",
    "i_count = 0\n",
    "o_count = 0\n",
    "u_count = 0\n",
    "e_count = 0\n",
    "a_count = 0\n",
    "\n",
    "for i in text:\n",
    "    if i==\"i\":\n",
    "        i_count+=1\n",
    "    elif i==\"o\":\n",
    "        o_count+=1\n",
    "    elif i==\"u\":\n",
    "        u_count+=1\n",
    "    elif i==\"a\":\n",
    "        a_count+=1\n",
    "    elif i==\"e\":\n",
    "        e_count+=1\n",
    "    elif i==\" \":\n",
    "        continue\n",
    "print(f\"The a is {a_count} time \\nThe i is {i_count} time \\nThe u is {u_count} time \\nThe e is {e_count} time \\nThe o is {o_count} time\")\n",
    "        "
   ]
  },
  {
   "cell_type": "markdown",
   "id": "45a0c3c4",
   "metadata": {},
   "source": [
    "### Task12:\n",
    "You need to write a program that takes sequence of lines as input and prints the lines after making all characters in the sentence capitalized.\n",
    "\n",
    "Suppose the following input is supplied to the program:\n",
    "\n",
    "Hello world\n",
    "\n",
    "Practice makes perfect\n",
    "\n",
    "Then, the output should be:\n",
    "\n",
    "HELLO WORLD\n",
    "PRACTICE MAKES PERFECT"
   ]
  },
  {
   "cell_type": "code",
   "execution_count": 14,
   "id": "029fc3d6",
   "metadata": {},
   "outputs": [
    {
     "name": "stdout",
     "output_type": "stream",
     "text": [
      "hello guys\n",
      "kese ho\n",
      "aap bhi\n",
      "\n",
      "0HELLO GUYS\n",
      "KESE HO\n",
      "AAP BHI\n",
      "\n"
     ]
    }
   ],
   "source": [
    "# Your code goes here\n",
    "sentence = \"\" # This is for declaring a sentence\n",
    "while True:\n",
    "    line = input()\n",
    "    if line:\n",
    "        sentence = sentence + line +\"\\n\"\n",
    "    else:\n",
    "        break\n",
    "print(sentence.upper())        "
   ]
  },
  {
   "cell_type": "markdown",
   "id": "a374068f",
   "metadata": {},
   "source": [
    "### Task13:\n",
    "You need to write a code that takes a comma separated sequence of words as input and prints the words in a comma-separated sequence after sorting them alphabetically.\n",
    "\n",
    "Suppose the following input is supplied to the program:\n",
    "\n",
    "without,hello,bag,world\n",
    "\n",
    "Then, the output should be:\n",
    "\n",
    "bag,hello,without,world"
   ]
  },
  {
   "cell_type": "code",
   "execution_count": 21,
   "id": "488509b9",
   "metadata": {},
   "outputs": [
    {
     "name": "stdout",
     "output_type": "stream",
     "text": [
      "Enter some comma seperated text :ft,sd,kj,nm,vb\n",
      "['ft', 'kj', 'nm', 'sd', 'vb']"
     ]
    }
   ],
   "source": [
    "# Your code goes here\n",
    "word = input(\"Enter some comma seperated text :\").split(\",\")\n",
    "word.sort()\n",
    "\n",
    "for words in word:\n",
    "    pass\n",
    "    \n",
    "print(word, sep=',',end='')"
   ]
  },
  {
   "cell_type": "markdown",
   "id": "0d9422e7",
   "metadata": {},
   "source": [
    "### Task14:\n",
    "You need code a program that calculates and prints the value according to the given formula:\n",
    "P = Square root of [(2 * A * B)/C]\n",
    "\n",
    "Following are the fixed values of A and B:\n",
    "\n",
    "A is 50. B is 30.\n",
    "\n",
    "The values of the literal C should be taken as console input to your program in a comma-separated sequence.\n",
    "\n",
    "Example:\n",
    "Let us assume the following comma separated input sequence is given to the program:\n",
    "100,150,180\n",
    "\n",
    "The output of the program should be:\n",
    "18,22,24"
   ]
  },
  {
   "cell_type": "code",
   "execution_count": 2,
   "id": "1b6731be",
   "metadata": {},
   "outputs": [
    {
     "name": "stdout",
     "output_type": "stream",
     "text": [
      "input value of c1,2,3\n",
      "[54, 38, 31]\n"
     ]
    }
   ],
   "source": [
    "# Your code goes here\n",
    "import math\n",
    "A = 50\n",
    "B = 30\n",
    "p_val = []\n",
    "C= input(\"input value of c\").split(\",\")\n",
    "for c in C:\n",
    "    P= (((2*A*B)/int(c))**.5)\n",
    "    p_val.append(math.floor(P))\n",
    "print(p_val)    "
   ]
  },
  {
   "cell_type": "markdown",
   "id": "87f9f13d",
   "metadata": {},
   "source": [
    "### Task15:\n",
    "You need to write a ocde in python that finds all such numbers which are divisible by 7 but are not a multiple of 5,\n",
    "between 2000 and 3200 (both included).\n",
    "\n",
    "Print the obtained numbers in a comma-separated sequence on a single line\n",
    "\n",
    "Hint: modulo operator, and/or operator, for loop /while loop"
   ]
  },
  {
   "cell_type": "code",
   "execution_count": 30,
   "id": "ba3d9d96",
   "metadata": {},
   "outputs": [
    {
     "name": "stdout",
     "output_type": "stream",
     "text": [
      "2002 ,2009 ,2016 ,2023 ,2037 ,2044 ,2051 ,2058 ,2072 ,2079 ,2086 ,2093 ,2107 ,2114 ,2121 ,2128 ,2142 ,2149 ,2156 ,2163 ,2177 ,2184 ,2191 ,2198 ,2212 ,2219 ,2226 ,2233 ,2247 ,2254 ,2261 ,2268 ,2282 ,2289 ,2296 ,2303 ,2317 ,2324 ,2331 ,2338 ,2352 ,2359 ,2366 ,2373 ,2387 ,2394 ,2401 ,2408 ,2422 ,2429 ,2436 ,2443 ,2457 ,2464 ,2471 ,2478 ,2492 ,2499 ,2506 ,2513 ,2527 ,2534 ,2541 ,2548 ,2562 ,2569 ,2576 ,2583 ,2597 ,2604 ,2611 ,2618 ,2632 ,2639 ,2646 ,2653 ,2667 ,2674 ,2681 ,2688 ,2702 ,2709 ,2716 ,2723 ,2737 ,2744 ,2751 ,2758 ,2772 ,2779 ,2786 ,2793 ,2807 ,2814 ,2821 ,2828 ,2842 ,2849 ,2856 ,2863 ,2877 ,2884 ,2891 ,2898 ,2912 ,2919 ,2926 ,2933 ,2947 ,2954 ,2961 ,2968 ,2982 ,2989 ,2996 ,3003 ,3017 ,3024 ,3031 ,3038 ,3052 ,3059 ,3066 ,3073 ,3087 ,3094 ,3101 ,3108 ,3122 ,3129 ,3136 ,3143 ,3157 ,3164 ,3171 ,3178 ,3192 ,3199 ,"
     ]
    }
   ],
   "source": [
    "# Your code goes here\n",
    "for i in range(2000,3200):\n",
    "    if i%7==0 and i%5!=0:\n",
    "        print(i,\",\", end=\"\")"
   ]
  },
  {
   "cell_type": "markdown",
   "id": "f75c81d1",
   "metadata": {},
   "source": [
    "### Task16:\n",
    "With a given integral number n, write a program to generate a dictionary that contains (i, i*i) such that is an integral number between 1 and n (both included). and then the program should print the dictionary.\n",
    "\n",
    "Suppose the following input is supplied to the program:\n",
    "\n",
    "8\n",
    "\n",
    "Then, the output should be:\n",
    "\n",
    "{1: 1, 2: 4, 3: 9, 4: 16, 5: 25, 6: 36, 7: 49, 8: 64}"
   ]
  },
  {
   "cell_type": "code",
   "execution_count": 9,
   "id": "451bacfc",
   "metadata": {},
   "outputs": [
    {
     "name": "stdout",
     "output_type": "stream",
     "text": [
      "Enter the number :4\n",
      "{1: 1, 2: 4, 3: 9, 4: 16}\n"
     ]
    }
   ],
   "source": [
    "# Your code goes here\n",
    "num = int(input(\"Enter the number :\"))\n",
    "dic = {}\n",
    "for a in range(1,num+1):\n",
    "    dic[a] = a**2 # This is for squaring\n",
    "    \n",
    "\n",
    "print(dic)"
   ]
  },
  {
   "cell_type": "code",
   "execution_count": 19,
   "id": "d88c2527",
   "metadata": {},
   "outputs": [
    {
     "name": "stdout",
     "output_type": "stream",
     "text": [
      "Enter the number :6\n",
      "{1: 1, 2: 4, 3: 9, 4: 16, 5: 25, 6: 36}\n"
     ]
    }
   ],
   "source": [
    "# Your code goes here\n",
    "n = int(input(\"Enter the number :\"))\n",
    "adic = {}\n",
    "for i in range(1,n+1):\n",
    "    adic[i] = i*i\n",
    "print(adic)    "
   ]
  },
  {
   "cell_type": "markdown",
   "id": "bd2b39a0",
   "metadata": {},
   "source": [
    "### Task17:\n",
    "You need to write a code which accepts a sequence of comma separated 4 digit binary numbers as its input and then check whether they are divisible by 5 or not. \n",
    "\n",
    "The numbers that are divisible by 5 are to be printed in a comma separated sequence.\n",
    "\n",
    "Example:\n",
    "\n",
    "0100,0011,1010,1001\n",
    "\n",
    "Then the output should be:\n",
    "1010\n",
    "\n",
    "Reference: \n",
    "1) https://www.datacamp.com/.../python-data-type-conversion\n",
    "\n",
    "2) https://stackoverflow.com/questions/21765779/converting-binary-to-decimal-integer-output?fbclid=IwAR3DD_oiq5pn99IjyxSJgojvB5W6M4JqQtv4EUl_IF_DtmuRXlP-DswcKAA"
   ]
  },
  {
   "cell_type": "code",
   "execution_count": 24,
   "id": "aab14430",
   "metadata": {},
   "outputs": [
    {
     "name": "stdout",
     "output_type": "stream",
     "text": [
      "Input 4-digit binaries here :0101,1011,1110,0010\n",
      "0101,"
     ]
    }
   ],
   "source": [
    "binaries = input(\"Input 4-digit binaries here :\").split(\",\")\n",
    "for i in binaries:\n",
    "    decimal = int(i,2)\n",
    "    if decimal%5==0:\n",
    "        print(i,end=\",\")"
   ]
  },
  {
   "cell_type": "code",
   "execution_count": 25,
   "id": "002b7ca7",
   "metadata": {},
   "outputs": [
    {
     "data": {
      "text/plain": [
       "True"
      ]
     },
     "execution_count": 25,
     "metadata": {},
     "output_type": "execute_result"
    }
   ],
   "source": [
    "1110%5==0"
   ]
  },
  {
   "cell_type": "code",
   "execution_count": 26,
   "id": "36c56558",
   "metadata": {},
   "outputs": [
    {
     "name": "stdout",
     "output_type": "stream",
     "text": [
      "Input 4-digit n here :120\n",
      "1111000\n"
     ]
    }
   ],
   "source": [
    "# Converting a decimal into a binary number\n",
    "n = int(input(\"Input a decimal number :\"))\n",
    "print(\"{0:b}\".format(n))\n"
   ]
  },
  {
   "cell_type": "code",
   "execution_count": 3,
   "id": "a0e4e327",
   "metadata": {},
   "outputs": [
    {
     "name": "stdout",
     "output_type": "stream",
     "text": [
      "Input a binary number :11110\n",
      "30\n"
     ]
    }
   ],
   "source": [
    "# Converting binary into decimal\n",
    "n = input(\"Input a binary number :\")\n",
    "decimal = int(n,2)\n",
    "print(decimal)"
   ]
  },
  {
   "cell_type": "code",
   "execution_count": null,
   "id": "3c10d616",
   "metadata": {},
   "outputs": [],
   "source": []
  }
 ],
 "metadata": {
  "kernelspec": {
   "display_name": "Python 3 (ipykernel)",
   "language": "python",
   "name": "python3"
  },
  "language_info": {
   "codemirror_mode": {
    "name": "ipython",
    "version": 3
   },
   "file_extension": ".py",
   "mimetype": "text/x-python",
   "name": "python",
   "nbconvert_exporter": "python",
   "pygments_lexer": "ipython3",
   "version": "3.9.12"
  }
 },
 "nbformat": 4,
 "nbformat_minor": 5
}
