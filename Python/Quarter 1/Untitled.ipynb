{
 "cells": [
  {
   "cell_type": "markdown",
   "id": "409f1249",
   "metadata": {},
   "source": [
    "# phython dictionary\n"
   ]
  },
  {
   "cell_type": "markdown",
   "id": "d10ca47a",
   "metadata": {},
   "source": [
    "# lecture no 2"
   ]
  },
  {
   "cell_type": "code",
   "execution_count": 1,
   "id": "373c85bb",
   "metadata": {},
   "outputs": [
    {
     "name": "stdout",
     "output_type": "stream",
     "text": [
      "Aaqib bhai\n"
     ]
    }
   ],
   "source": [
    "print('Aaqib bhai')"
   ]
  },
  {
   "cell_type": "code",
   "execution_count": 11,
   "id": "a9107db6",
   "metadata": {},
   "outputs": [],
   "source": [
    "age = 10\n",
    "age = age + 10"
   ]
  },
  {
   "cell_type": "code",
   "execution_count": 12,
   "id": "031b38ce",
   "metadata": {},
   "outputs": [
    {
     "name": "stdout",
     "output_type": "stream",
     "text": [
      "python*123*True*4.6\n"
     ]
    }
   ],
   "source": [
    "print('python',123,True,4.6,sep=\"*\")"
   ]
  },
  {
   "cell_type": "code",
   "execution_count": 15,
   "id": "a01729fc",
   "metadata": {},
   "outputs": [
    {
     "name": "stdout",
     "output_type": "stream",
     "text": [
      "kese ho 1234 2.434 True "
     ]
    }
   ],
   "source": [
    "print('kese ho',end=' ')\n",
    "print(1234,end=' ')\n",
    "print(2.434,end=' ')\n",
    "print(True,end=' ')\n"
   ]
  },
  {
   "cell_type": "code",
   "execution_count": 16,
   "id": "c420ab85",
   "metadata": {},
   "outputs": [
    {
     "name": "stdout",
     "output_type": "stream",
     "text": [
      "\n"
     ]
    }
   ],
   "source": [
    "print()"
   ]
  },
  {
   "cell_type": "code",
   "execution_count": 24,
   "id": "0004d22c",
   "metadata": {},
   "outputs": [],
   "source": [
    "friends_name = \"Mr.Ahmed\"\n",
    "friends_age = 30\n",
    "profession = \"Lawer\"\n",
    "qualification = \"Bachelor in law \"\n",
    "graduation_year = 2005\n",
    "firm_name = \"The himalia accociates\"\n",
    "firm_city = 'karachi'\n",
    "joining_year = 2015\n",
    "height_in_feets = 5.10\n",
    "weight_in_gram = 70600\n",
    "Monthly_income_pkr =200000\n",
    "\n",
    "\n",
    "\n"
   ]
  },
  {
   "cell_type": "code",
   "execution_count": 22,
   "id": "cb648339",
   "metadata": {},
   "outputs": [
    {
     "data": {
      "text/plain": [
       "17"
      ]
     },
     "execution_count": 22,
     "metadata": {},
     "output_type": "execute_result"
    }
   ],
   "source": [
    "current_year = 2022\n",
    "current_year-graduation_year "
   ]
  },
  {
   "cell_type": "code",
   "execution_count": 26,
   "id": "21d20e71",
   "metadata": {},
   "outputs": [
    {
     "name": "stdout",
     "output_type": "stream",
     "text": [
      "<class 'int'>\n",
      "70\n"
     ]
    }
   ],
   "source": [
    "print(type(weight_in_gram))\n",
    "weight_kg = weight_in_gram//1000\n",
    "print(weight_kg)"
   ]
  },
  {
   "cell_type": "code",
   "execution_count": 27,
   "id": "8b3f3625",
   "metadata": {},
   "outputs": [
    {
     "data": {
      "text/plain": [
       "1992"
      ]
     },
     "execution_count": 27,
     "metadata": {},
     "output_type": "execute_result"
    }
   ],
   "source": [
    "current_year - friends_age"
   ]
  },
  {
   "cell_type": "code",
   "execution_count": 29,
   "id": "97624d23",
   "metadata": {},
   "outputs": [
    {
     "name": "stdout",
     "output_type": "stream",
     "text": [
      "False\n"
     ]
    }
   ],
   "source": [
    "print(100%6==0)"
   ]
  },
  {
   "cell_type": "code",
   "execution_count": null,
   "id": "1bfe7943",
   "metadata": {},
   "outputs": [],
   "source": []
  }
 ],
 "metadata": {
  "kernelspec": {
   "display_name": "Python 3 (ipykernel)",
   "language": "python",
   "name": "python3"
  },
  "language_info": {
   "codemirror_mode": {
    "name": "ipython",
    "version": 3
   },
   "file_extension": ".py",
   "mimetype": "text/x-python",
   "name": "python",
   "nbconvert_exporter": "python",
   "pygments_lexer": "ipython3",
   "version": "3.9.12"
  }
 },
 "nbformat": 4,
 "nbformat_minor": 5
}
