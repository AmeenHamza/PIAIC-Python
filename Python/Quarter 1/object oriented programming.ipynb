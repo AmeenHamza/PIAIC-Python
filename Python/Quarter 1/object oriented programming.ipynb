{
 "cells": [
  {
   "cell_type": "markdown",
   "id": "b353b379",
   "metadata": {},
   "source": [
    "## Two main things in oops\n",
    "## characteristics of object\n",
    "## koi bhi cheez jo pehli dafa banti h wo class h\n",
    "## And the copy of this class is (object)\n",
    "## Agar ham class k neeche values hardcode kardenge to baar baar wohi values aainge\n",
    "## Function def __init__ is the function jo har step k baad update hoga\n",
    "\n"
   ]
  },
  {
   "cell_type": "code",
   "execution_count": 2,
   "id": "3eaa460e",
   "metadata": {},
   "outputs": [],
   "source": [
    "# Create class\n",
    "class Students():\n",
    "    pass"
   ]
  },
  {
   "cell_type": "code",
   "execution_count": 3,
   "id": "86f65b50",
   "metadata": {},
   "outputs": [],
   "source": [
    "# Object creating\n",
    "student1 = Students()"
   ]
  },
  {
   "cell_type": "code",
   "execution_count": 4,
   "id": "0990b4ee",
   "metadata": {},
   "outputs": [],
   "source": [
    "class Students():\n",
    "    # This are attributes\n",
    "    name = \"Ameen\"\n",
    "    gender = \"Male\"\n",
    "    age = \"23\"\n",
    "    course = \"AI\"\n",
    "    roll = \"123\"\n",
    "    institute = \"SSUET\""
   ]
  },
  {
   "cell_type": "code",
   "execution_count": 5,
   "id": "39841506",
   "metadata": {},
   "outputs": [],
   "source": [
    "student1 = Students()\n"
   ]
  },
  {
   "cell_type": "code",
   "execution_count": 6,
   "id": "98c0d87d",
   "metadata": {},
   "outputs": [
    {
     "data": {
      "text/plain": [
       "'Ameen'"
      ]
     },
     "execution_count": 6,
     "metadata": {},
     "output_type": "execute_result"
    }
   ],
   "source": [
    "student1.name"
   ]
  },
  {
   "cell_type": "code",
   "execution_count": 7,
   "id": "912c8775",
   "metadata": {},
   "outputs": [
    {
     "data": {
      "text/plain": [
       "'123'"
      ]
     },
     "execution_count": 7,
     "metadata": {},
     "output_type": "execute_result"
    }
   ],
   "source": [
    "student1.roll"
   ]
  },
  {
   "cell_type": "code",
   "execution_count": 8,
   "id": "71444d83",
   "metadata": {},
   "outputs": [],
   "source": [
    "# For new vlaue again and again\n"
   ]
  },
  {
   "cell_type": "code",
   "execution_count": 78,
   "id": "58a8503d",
   "metadata": {},
   "outputs": [],
   "source": [
    "# self is the identifier in which all the values stored self k ilawa koi bhi naam hosakta h\n",
    "class car():\n",
    "    color = \"White\"\n",
    "    power = 1.8\n",
    "    \n",
    "    def __init__(self,name,model):\n",
    "    # Instance attributes k object k bagair acccess nhi hote   \n",
    "    # Attributes/Characteristics/variables\n",
    "        self.name = name\n",
    "        self.model = model\n",
    "        # BEhaviours / characteristics / methods  \n",
    "    def appearexam(self,attend,feedpaid):\n",
    "        if attend>=80:\n",
    "            if feedpaid:\n",
    "                print(f\"{self.name} is sitting in exam.\")\n",
    "            else:\n",
    "                print(f\"{self.name} is not sitting in exam.\")\n",
    "                \n",
    "        else:\n",
    "            print(f\"{self.name} is not sitting in exam.\")\n",
    "    def profile(self):\n",
    "        print(f'''\n",
    "                   Buyer Card\n",
    "                ------------------   \n",
    "                Name : {self.name}\n",
    "                Model : {self.model}\n",
    "                Color : {self.color}\n",
    "                Power : {self.power}\n",
    "        \n",
    "        ''')"
   ]
  },
  {
   "cell_type": "code",
   "execution_count": 79,
   "id": "25409811",
   "metadata": {},
   "outputs": [],
   "source": [
    "buyer1 = car(\"Toyota corolla\",\"Gli\")"
   ]
  },
  {
   "cell_type": "code",
   "execution_count": 80,
   "id": "0090a86d",
   "metadata": {},
   "outputs": [
    {
     "name": "stdout",
     "output_type": "stream",
     "text": [
      "The name of car is: Toyota corolla\n",
      "The model of car is: Gli\n",
      "The color is: White\n",
      "The power of car is: 1.8\n"
     ]
    }
   ],
   "source": [
    "print(f\"The name of car is: {buyer1.name}\")\n",
    "print(f\"The model of car is: {buyer1.model}\")\n",
    "print(f\"The color is: {buyer1.color}\")\n",
    "print(f\"The power of car is: {buyer1.power}\")\n",
    "\n"
   ]
  },
  {
   "cell_type": "code",
   "execution_count": 81,
   "id": "72832181",
   "metadata": {},
   "outputs": [],
   "source": [
    "buyer = car(\"Civic\",\"Oriel\")"
   ]
  },
  {
   "cell_type": "code",
   "execution_count": 82,
   "id": "db5751fc",
   "metadata": {},
   "outputs": [
    {
     "data": {
      "text/plain": [
       "'Oriel'"
      ]
     },
     "execution_count": 82,
     "metadata": {},
     "output_type": "execute_result"
    }
   ],
   "source": [
    "buyer.model"
   ]
  },
  {
   "cell_type": "code",
   "execution_count": 83,
   "id": "b4ea27a3",
   "metadata": {},
   "outputs": [
    {
     "name": "stdout",
     "output_type": "stream",
     "text": [
      "\n",
      "                   Buyer Card\n",
      "                ------------------   \n",
      "                Name : Civic\n",
      "                Model : Oriel\n",
      "                Color : White\n",
      "                Power : 1.8\n",
      "        \n",
      "        \n"
     ]
    }
   ],
   "source": [
    "buyer.profile()"
   ]
  },
  {
   "cell_type": "code",
   "execution_count": 84,
   "id": "7768903d",
   "metadata": {},
   "outputs": [
    {
     "ename": "TypeError",
     "evalue": "appearexam() missing 2 required positional arguments: 'attend' and 'feedpaid'",
     "output_type": "error",
     "traceback": [
      "\u001b[1;31m---------------------------------------------------------------------------\u001b[0m",
      "\u001b[1;31mTypeError\u001b[0m                                 Traceback (most recent call last)",
      "Input \u001b[1;32mIn [84]\u001b[0m, in \u001b[0;36m<cell line: 1>\u001b[1;34m()\u001b[0m\n\u001b[1;32m----> 1\u001b[0m \u001b[43mbuyer\u001b[49m\u001b[38;5;241;43m.\u001b[39;49m\u001b[43mappearexam\u001b[49m\u001b[43m(\u001b[49m\u001b[43m)\u001b[49m\n",
      "\u001b[1;31mTypeError\u001b[0m: appearexam() missing 2 required positional arguments: 'attend' and 'feedpaid'"
     ]
    }
   ],
   "source": [
    "buyer.appearexam()"
   ]
  },
  {
   "cell_type": "code",
   "execution_count": 85,
   "id": "adcf143c",
   "metadata": {},
   "outputs": [
    {
     "ename": "TypeError",
     "evalue": "appearexam() missing 1 required positional argument: 'feedpaid'",
     "output_type": "error",
     "traceback": [
      "\u001b[1;31m---------------------------------------------------------------------------\u001b[0m",
      "\u001b[1;31mTypeError\u001b[0m                                 Traceback (most recent call last)",
      "Input \u001b[1;32mIn [85]\u001b[0m, in \u001b[0;36m<cell line: 1>\u001b[1;34m()\u001b[0m\n\u001b[1;32m----> 1\u001b[0m \u001b[43mbuyer\u001b[49m\u001b[38;5;241;43m.\u001b[39;49m\u001b[43mappearexam\u001b[49m\u001b[43m(\u001b[49m\u001b[38;5;241;43m80\u001b[39;49m\u001b[43m)\u001b[49m\n",
      "\u001b[1;31mTypeError\u001b[0m: appearexam() missing 1 required positional argument: 'feedpaid'"
     ]
    }
   ],
   "source": [
    "buyer.appearexam(80)"
   ]
  },
  {
   "cell_type": "code",
   "execution_count": 86,
   "id": "ebcc329c",
   "metadata": {},
   "outputs": [
    {
     "name": "stdout",
     "output_type": "stream",
     "text": [
      "Civic is not sitting in exam.\n"
     ]
    }
   ],
   "source": [
    "buyer.appearexam(80,False)"
   ]
  },
  {
   "cell_type": "code",
   "execution_count": 87,
   "id": "fb68b660",
   "metadata": {},
   "outputs": [
    {
     "name": "stdout",
     "output_type": "stream",
     "text": [
      "Civic is not sitting in exam.\n"
     ]
    }
   ],
   "source": [
    "buyer.appearexam(75,True)"
   ]
  },
  {
   "cell_type": "code",
   "execution_count": 88,
   "id": "3df83828",
   "metadata": {},
   "outputs": [
    {
     "name": "stdout",
     "output_type": "stream",
     "text": [
      "Civic is sitting in exam.\n"
     ]
    }
   ],
   "source": [
    "buyer.appearexam(81,True)"
   ]
  },
  {
   "cell_type": "code",
   "execution_count": 89,
   "id": "f8f49710",
   "metadata": {},
   "outputs": [
    {
     "name": "stdout",
     "output_type": "stream",
     "text": [
      "\n",
      "                   Buyer Card\n",
      "                ------------------   \n",
      "                Name : Civic\n",
      "                Model : Oriel\n",
      "                Color : White\n",
      "                Power : 1.8\n",
      "        \n",
      "        \n"
     ]
    }
   ],
   "source": [
    "buyer.profile()"
   ]
  },
  {
   "cell_type": "markdown",
   "id": "c22dcaf8",
   "metadata": {},
   "source": [
    "# GEtter and Setter\n",
    "# Or\n",
    "# Incapsulation"
   ]
  },
  {
   "cell_type": "code",
   "execution_count": 98,
   "id": "926768b8",
   "metadata": {},
   "outputs": [],
   "source": [
    "class update():\n",
    "    def __init__(self,name):\n",
    "        self.name = name\n",
    "    def getname(self):\n",
    "        print(f\"The student name is {self.name}\")\n",
    "    def setname(self,newname):\n",
    "        self.name = newname"
   ]
  },
  {
   "cell_type": "code",
   "execution_count": 99,
   "id": "85c68e25",
   "metadata": {},
   "outputs": [],
   "source": [
    "upq= update(\"Ameen\")"
   ]
  },
  {
   "cell_type": "code",
   "execution_count": 100,
   "id": "abba7174",
   "metadata": {},
   "outputs": [
    {
     "data": {
      "text/plain": [
       "'Ameen'"
      ]
     },
     "execution_count": 100,
     "metadata": {},
     "output_type": "execute_result"
    }
   ],
   "source": [
    "upq.name"
   ]
  },
  {
   "cell_type": "code",
   "execution_count": 101,
   "id": "1a032681",
   "metadata": {},
   "outputs": [
    {
     "name": "stdout",
     "output_type": "stream",
     "text": [
      "The student name is Ameen\n"
     ]
    }
   ],
   "source": [
    "upq.getname() # yahan name call kara"
   ]
  },
  {
   "cell_type": "code",
   "execution_count": 102,
   "id": "f5cb06b8",
   "metadata": {},
   "outputs": [],
   "source": [
    "upq.setname(\"Hamza\") # Yahan set kara"
   ]
  },
  {
   "cell_type": "code",
   "execution_count": 103,
   "id": "16da6e4b",
   "metadata": {},
   "outputs": [
    {
     "name": "stdout",
     "output_type": "stream",
     "text": [
      "The student name is Hamza\n"
     ]
    }
   ],
   "source": [
    "upq.getname()"
   ]
  },
  {
   "cell_type": "code",
   "execution_count": 2,
   "id": "1cdc7bc8",
   "metadata": {},
   "outputs": [],
   "source": [
    "class line():\n",
    "    def __init__(self,x1,y1,x2,y2):\n",
    "        self.point_a = (x1,y1)\n",
    "        self.point_b = (x2,y2)\n",
    "        \n",
    "    def lenght(self):\n",
    "        distance = ((self.point_b[0]-self.point_a[0])**2 + (self.point_b[1]-self.point_a[1])**2)**0.5\n",
    "        return distance\n",
    "    def slope(self):\n",
    "        m = self.point_b[1]-self.point_a[1]/self.point_b[0]-self.point_a[0]\n",
    "        return m\n",
    "    def linesRelation(self,m1,m2):\n",
    "        if m1==m2:\n",
    "            print(\"Lines are parallel\")\n",
    "        elif m1!=m2:\n",
    "            print(\"Lines are not parallel\")\n",
    "        else:\n",
    "            print(\"Kuch naya kar\")"
   ]
  },
  {
   "cell_type": "code",
   "execution_count": 3,
   "id": "df8d17d4",
   "metadata": {},
   "outputs": [],
   "source": [
    "lines = line(2,5,1,7)\n"
   ]
  },
  {
   "cell_type": "code",
   "execution_count": 4,
   "id": "0c5a88f2",
   "metadata": {},
   "outputs": [
    {
     "data": {
      "text/plain": [
       "2.23606797749979"
      ]
     },
     "execution_count": 4,
     "metadata": {},
     "output_type": "execute_result"
    }
   ],
   "source": [
    "lines.lenght()"
   ]
  },
  {
   "cell_type": "code",
   "execution_count": 6,
   "id": "f4868405",
   "metadata": {},
   "outputs": [
    {
     "data": {
      "text/plain": [
       "0.0"
      ]
     },
     "execution_count": 6,
     "metadata": {},
     "output_type": "execute_result"
    }
   ],
   "source": [
    "lines.slope()"
   ]
  },
  {
   "cell_type": "code",
   "execution_count": 7,
   "id": "0392773b",
   "metadata": {},
   "outputs": [
    {
     "name": "stdout",
     "output_type": "stream",
     "text": [
      "Lines are parallel\n"
     ]
    }
   ],
   "source": [
    "lines.linesRelation(2.43,2.43)"
   ]
  },
  {
   "cell_type": "code",
   "execution_count": 8,
   "id": "578b8d8a",
   "metadata": {},
   "outputs": [],
   "source": [
    "line1 = line(2,4,9,1)"
   ]
  },
  {
   "cell_type": "code",
   "execution_count": 9,
   "id": "4e7820dc",
   "metadata": {},
   "outputs": [
    {
     "data": {
      "text/plain": [
       "7.615773105863909"
      ]
     },
     "execution_count": 9,
     "metadata": {},
     "output_type": "execute_result"
    }
   ],
   "source": [
    "line1.lenght()"
   ]
  },
  {
   "cell_type": "code",
   "execution_count": 10,
   "id": "a9d9f919",
   "metadata": {},
   "outputs": [
    {
     "data": {
      "text/plain": [
       "-1.4444444444444444"
      ]
     },
     "execution_count": 10,
     "metadata": {},
     "output_type": "execute_result"
    }
   ],
   "source": [
    "line1.slope()"
   ]
  },
  {
   "cell_type": "code",
   "execution_count": 11,
   "id": "947ee598",
   "metadata": {},
   "outputs": [
    {
     "ename": "TypeError",
     "evalue": "linesRelation() missing 2 required positional arguments: 'm1' and 'm2'",
     "output_type": "error",
     "traceback": [
      "\u001b[1;31m---------------------------------------------------------------------------\u001b[0m",
      "\u001b[1;31mTypeError\u001b[0m                                 Traceback (most recent call last)",
      "Input \u001b[1;32mIn [11]\u001b[0m, in \u001b[0;36m<cell line: 1>\u001b[1;34m()\u001b[0m\n\u001b[1;32m----> 1\u001b[0m \u001b[43mline1\u001b[49m\u001b[38;5;241;43m.\u001b[39;49m\u001b[43mlinesRelation\u001b[49m\u001b[43m(\u001b[49m\u001b[43m)\u001b[49m\n",
      "\u001b[1;31mTypeError\u001b[0m: linesRelation() missing 2 required positional arguments: 'm1' and 'm2'"
     ]
    }
   ],
   "source": [
    "line1.linesRelation()"
   ]
  },
  {
   "cell_type": "code",
   "execution_count": 12,
   "id": "6d9d6a2b",
   "metadata": {},
   "outputs": [
    {
     "name": "stdout",
     "output_type": "stream",
     "text": [
      "Lines are not parallel\n"
     ]
    }
   ],
   "source": [
    "line1.linesRelation(lines.slope(),line1.slope())"
   ]
  },
  {
   "cell_type": "code",
   "execution_count": null,
   "id": "541d0a80",
   "metadata": {},
   "outputs": [],
   "source": [
    "# For inheritence is a relationship is required"
   ]
  },
  {
   "cell_type": "markdown",
   "id": "9af84ef0",
   "metadata": {},
   "source": [
    "# Inheritance"
   ]
  },
  {
   "cell_type": "raw",
   "id": "9466c2f0",
   "metadata": {},
   "source": [
    "present class ki modifier class but jo hosake jese human class or tree class ye nhi hosakta"
   ]
  },
  {
   "cell_type": "code",
   "execution_count": 61,
   "id": "4a6c3368",
   "metadata": {},
   "outputs": [],
   "source": [
    "class mobilephone():\n",
    "    def __init__(self,make,simslot,battery):\n",
    "        self.make = make # - Instance variable\n",
    "        self.simslot = simslot\n",
    "        self.battery = battery\n",
    "    def makecall(self):\n",
    "        print(f\"{self.make} is calling\")\n",
    "    def recievecall(self):\n",
    "        print(f\"{self.make} is recieving call\")\n",
    "    def Game(self):\n",
    "        print(\"Snack game is playing\")\n",
    "        "
   ]
  },
  {
   "cell_type": "code",
   "execution_count": 62,
   "id": "f5f6c91f",
   "metadata": {},
   "outputs": [],
   "source": [
    "class smartphone(mobilephone):\n",
    "    def __init__(self,make,simslot,battery,ram,rom,processor,camera):\n",
    "        super().__init__(make,simslot,battery) # This method is used for inheritence \n",
    "        self.ram = ram                         # agar purane class mein se kuch call karna h to uske lye \n",
    "        self.rom = rom                         # agar ham iska use nhi karainge to old class se koi function kaam nhi karega\n",
    "        self.processor = processor\n",
    "        self.camera = camera\n",
    "    def whichnm(self,nm):\n",
    "        self.nm = nm\n",
    "    def Game(self): # YE functon chalega \n",
    "        print(\"Snack is running\")\n",
    "    "
   ]
  },
  {
   "cell_type": "code",
   "execution_count": 63,
   "id": "409af2fc",
   "metadata": {},
   "outputs": [],
   "source": [
    "new = mobilephone(\"Apple\",\"dual\",4400)"
   ]
  },
  {
   "cell_type": "code",
   "execution_count": 64,
   "id": "54de719c",
   "metadata": {},
   "outputs": [
    {
     "data": {
      "text/plain": [
       "'Apple'"
      ]
     },
     "execution_count": 64,
     "metadata": {},
     "output_type": "execute_result"
    }
   ],
   "source": [
    "new.make"
   ]
  },
  {
   "cell_type": "code",
   "execution_count": 65,
   "id": "949a7978",
   "metadata": {},
   "outputs": [],
   "source": [
    "new1 = smartphone(\"Nokia\",\"dual\",\"3302\",\"4gb\",\"1TB\",\"Snapdragon\",\"108MP\")"
   ]
  },
  {
   "cell_type": "code",
   "execution_count": 66,
   "id": "97b860ba",
   "metadata": {},
   "outputs": [
    {
     "data": {
      "text/plain": [
       "'108MP'"
      ]
     },
     "execution_count": 66,
     "metadata": {},
     "output_type": "execute_result"
    }
   ],
   "source": [
    "new1.camera"
   ]
  },
  {
   "cell_type": "code",
   "execution_count": 67,
   "id": "9d09a7e8",
   "metadata": {},
   "outputs": [
    {
     "data": {
      "text/plain": [
       "'Snapdragon'"
      ]
     },
     "execution_count": 67,
     "metadata": {},
     "output_type": "execute_result"
    }
   ],
   "source": [
    "new1.processor"
   ]
  },
  {
   "cell_type": "code",
   "execution_count": 68,
   "id": "e0e7789b",
   "metadata": {},
   "outputs": [
    {
     "data": {
      "text/plain": [
       "'1TB'"
      ]
     },
     "execution_count": 68,
     "metadata": {},
     "output_type": "execute_result"
    }
   ],
   "source": [
    "new1.rom"
   ]
  },
  {
   "cell_type": "code",
   "execution_count": 69,
   "id": "54e47459",
   "metadata": {},
   "outputs": [
    {
     "data": {
      "text/plain": [
       "'dual'"
      ]
     },
     "execution_count": 69,
     "metadata": {},
     "output_type": "execute_result"
    }
   ],
   "source": [
    "new1.simslot"
   ]
  },
  {
   "cell_type": "code",
   "execution_count": 70,
   "id": "67a78585",
   "metadata": {},
   "outputs": [
    {
     "data": {
      "text/plain": [
       "'3302'"
      ]
     },
     "execution_count": 70,
     "metadata": {},
     "output_type": "execute_result"
    }
   ],
   "source": [
    "new1.battery"
   ]
  },
  {
   "cell_type": "code",
   "execution_count": 71,
   "id": "471e066a",
   "metadata": {},
   "outputs": [
    {
     "name": "stdout",
     "output_type": "stream",
     "text": [
      "Nokia is calling\n"
     ]
    }
   ],
   "source": [
    "new1.makecall()"
   ]
  },
  {
   "cell_type": "code",
   "execution_count": 72,
   "id": "f712a70e",
   "metadata": {},
   "outputs": [
    {
     "name": "stdout",
     "output_type": "stream",
     "text": [
      "Nokia is recieving call\n"
     ]
    }
   ],
   "source": [
    "new1.recievecall()"
   ]
  },
  {
   "cell_type": "code",
   "execution_count": 73,
   "id": "aaf5848a",
   "metadata": {},
   "outputs": [
    {
     "name": "stdout",
     "output_type": "stream",
     "text": [
      "Snack is running\n"
     ]
    }
   ],
   "source": [
    "new1.Game()"
   ]
  },
  {
   "cell_type": "code",
   "execution_count": 74,
   "id": "df3de29c",
   "metadata": {},
   "outputs": [],
   "source": [
    "new1.whichnm(4)"
   ]
  },
  {
   "cell_type": "code",
   "execution_count": 75,
   "id": "17dc10dd",
   "metadata": {},
   "outputs": [
    {
     "data": {
      "text/plain": [
       "4"
      ]
     },
     "execution_count": 75,
     "metadata": {},
     "output_type": "execute_result"
    }
   ],
   "source": [
    "new1.nm"
   ]
  },
  {
   "cell_type": "code",
   "execution_count": 76,
   "id": "e94ce351",
   "metadata": {},
   "outputs": [],
   "source": [
    "# Thk h bus fuel tank wala function karna h"
   ]
  },
  {
   "cell_type": "code",
   "execution_count": null,
   "id": "6d6431d9",
   "metadata": {},
   "outputs": [],
   "source": [
    "class object:\n",
    "    # Class level object\n",
    "    def __init__(self,name):\n",
    "        # Object level attributes"
   ]
  }
 ],
 "metadata": {
  "kernelspec": {
   "display_name": "Python 3 (ipykernel)",
   "language": "python",
   "name": "python3"
  },
  "language_info": {
   "codemirror_mode": {
    "name": "ipython",
    "version": 3
   },
   "file_extension": ".py",
   "mimetype": "text/x-python",
   "name": "python",
   "nbconvert_exporter": "python",
   "pygments_lexer": "ipython3",
   "version": "3.9.12"
  }
 },
 "nbformat": 4,
 "nbformat_minor": 5
}
