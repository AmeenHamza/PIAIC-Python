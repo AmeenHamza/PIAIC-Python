{
 "cells": [
  {
   "cell_type": "markdown",
   "id": "bacc5484",
   "metadata": {},
   "source": [
    "# MULTILEVEL INHERITENCE"
   ]
  },
  {
   "cell_type": "code",
   "execution_count": 2,
   "id": "33adf470",
   "metadata": {},
   "outputs": [],
   "source": [
    "class Father:\n",
    "    fathername = \"Abid Hussain\"\n",
    "class Son(Father):\n",
    "    def show(self):\n",
    "        print(\"Ameen Hamza son of \",self.fathername)\n",
    "class GrandSon(Son):\n",
    "    def all(self):\n",
    "        print(\"Ameen \",self.fathername)\n",
    "     \n",
    "fath = Father()\n",
    "s = Son()\n",
    "G = GrandSon()\n",
    "    "
   ]
  },
  {
   "cell_type": "code",
   "execution_count": 3,
   "id": "78962272",
   "metadata": {},
   "outputs": [
    {
     "name": "stdout",
     "output_type": "stream",
     "text": [
      "Ameen Hamza son of  Abid Hussain\n"
     ]
    }
   ],
   "source": [
    "s.show()"
   ]
  },
  {
   "cell_type": "code",
   "execution_count": 4,
   "id": "fd39f8de",
   "metadata": {},
   "outputs": [
    {
     "name": "stdout",
     "output_type": "stream",
     "text": [
      "Ameen  Abid Hussain\n"
     ]
    }
   ],
   "source": [
    "G.all()"
   ]
  },
  {
   "cell_type": "code",
   "execution_count": 5,
   "id": "d08dc544",
   "metadata": {},
   "outputs": [
    {
     "data": {
      "text/plain": [
       "'Abid Hussain'"
      ]
     },
     "execution_count": 5,
     "metadata": {},
     "output_type": "execute_result"
    }
   ],
   "source": [
    "fath.fathername"
   ]
  },
  {
   "cell_type": "code",
   "execution_count": 6,
   "id": "769c0167",
   "metadata": {},
   "outputs": [
    {
     "name": "stdout",
     "output_type": "stream",
     "text": [
      "Ameen Hamza son of  Abid Hussain\n"
     ]
    }
   ],
   "source": [
    "G.show()"
   ]
  },
  {
   "cell_type": "markdown",
   "id": "20c74d92",
   "metadata": {},
   "source": [
    "--> Another method"
   ]
  },
  {
   "cell_type": "code",
   "execution_count": 34,
   "id": "4d7acc1b",
   "metadata": {},
   "outputs": [],
   "source": [
    "class Employee:\n",
    "    def __init__(self,name,spec,room):\n",
    "        self.name = name\n",
    "        self.spec = spec\n",
    "        self.room = room\n",
    "        \n",
    "    def show(self):\n",
    "        print(f\"{self.name} is a employee of our company\")\n",
    "        \n",
    "# Another class\n",
    "\n",
    "class Player:\n",
    "    def __init__(self,game,mobile,name1):\n",
    "        self.game = game\n",
    "        self.mobile = mobile\n",
    "        self.name1 = name1\n",
    "        \n",
    "    def pshow(self):\n",
    "        print(f\"{self.name1} is plaiyng {self.game} in {self.mobile}\")\n",
    "        print(\"THis is ...\")\n",
    "        \n",
    "# Creating class for multiple inheritence\n",
    "\n",
    "class Minheritence(Player,Employee):\n",
    "    language  = \"Java\"\n",
    "    def languageshow(self):\n",
    "        print(self.language)\n",
    "\n",
    "\n",
    "\n",
    "        "
   ]
  },
  {
   "cell_type": "code",
   "execution_count": 35,
   "id": "0e276ac1",
   "metadata": {},
   "outputs": [],
   "source": [
    "Zubair = Player(\"Cricket\",\"C25s\",\"Zubair\")\n",
    "miti = Minheritence(\"Ameen\",\"Programmer\",31) # This is run according to MRO\n"
   ]
  },
  {
   "cell_type": "code",
   "execution_count": 36,
   "id": "d34f2cfa",
   "metadata": {},
   "outputs": [
    {
     "name": "stdout",
     "output_type": "stream",
     "text": [
      "Zubair is plaiyng Cricket in C25s\n",
      "THis is ...\n"
     ]
    }
   ],
   "source": [
    "Zubair.pshow()"
   ]
  },
  {
   "cell_type": "code",
   "execution_count": 38,
   "id": "fc60136e",
   "metadata": {},
   "outputs": [
    {
     "name": "stdout",
     "output_type": "stream",
     "text": [
      "31 is plaiyng Ameen in Programmer\n",
      "THis is ...\n"
     ]
    }
   ],
   "source": [
    "miti.pshow()"
   ]
  },
  {
   "cell_type": "code",
   "execution_count": 39,
   "id": "f37aafc0",
   "metadata": {},
   "outputs": [
    {
     "data": {
      "text/plain": [
       "'Programmer'"
      ]
     },
     "execution_count": 39,
     "metadata": {},
     "output_type": "execute_result"
    }
   ],
   "source": [
    "miti.mobile\n",
    "# This is not running because of MRO (Method Resolution order) THis is means left class first"
   ]
  },
  {
   "cell_type": "code",
   "execution_count": 40,
   "id": "bf9918ae",
   "metadata": {},
   "outputs": [
    {
     "name": "stdout",
     "output_type": "stream",
     "text": [
      "31 is plaiyng Ameen in Programmer\n",
      "THis is ...\n"
     ]
    }
   ],
   "source": [
    "miti.pshow()"
   ]
  },
  {
   "cell_type": "code",
   "execution_count": 41,
   "id": "8fd0e172",
   "metadata": {},
   "outputs": [
    {
     "name": "stdout",
     "output_type": "stream",
     "text": [
      "Java\n"
     ]
    }
   ],
   "source": [
    "miti.languageshow()"
   ]
  },
  {
   "cell_type": "code",
   "execution_count": 42,
   "id": "4ef08a78",
   "metadata": {},
   "outputs": [
    {
     "ename": "AttributeError",
     "evalue": "'Minheritence' object has no attribute 'name'",
     "output_type": "error",
     "traceback": [
      "\u001b[1;31m---------------------------------------------------------------------------\u001b[0m",
      "\u001b[1;31mAttributeError\u001b[0m                            Traceback (most recent call last)",
      "Input \u001b[1;32mIn [42]\u001b[0m, in \u001b[0;36m<cell line: 1>\u001b[1;34m()\u001b[0m\n\u001b[1;32m----> 1\u001b[0m \u001b[43mmiti\u001b[49m\u001b[38;5;241;43m.\u001b[39;49m\u001b[43mshow\u001b[49m\u001b[43m(\u001b[49m\u001b[43m)\u001b[49m\n",
      "Input \u001b[1;32mIn [34]\u001b[0m, in \u001b[0;36mEmployee.show\u001b[1;34m(self)\u001b[0m\n\u001b[0;32m      7\u001b[0m \u001b[38;5;28;01mdef\u001b[39;00m \u001b[38;5;21mshow\u001b[39m(\u001b[38;5;28mself\u001b[39m):\n\u001b[1;32m----> 8\u001b[0m     \u001b[38;5;28mprint\u001b[39m(\u001b[38;5;124mf\u001b[39m\u001b[38;5;124m\"\u001b[39m\u001b[38;5;132;01m{\u001b[39;00m\u001b[38;5;28mself\u001b[39m\u001b[38;5;241m.\u001b[39mname\u001b[38;5;132;01m}\u001b[39;00m\u001b[38;5;124m is a employee of our company\u001b[39m\u001b[38;5;124m\"\u001b[39m)\n",
      "\u001b[1;31mAttributeError\u001b[0m: 'Minheritence' object has no attribute 'name'"
     ]
    }
   ],
   "source": [
    "miti.show()"
   ]
  },
  {
   "cell_type": "markdown",
   "id": "b4737a55",
   "metadata": {},
   "source": [
    "Second vdieo"
   ]
  },
  {
   "cell_type": "code",
   "execution_count": 27,
   "id": "4631e71a",
   "metadata": {},
   "outputs": [],
   "source": [
    "class Dad:\n",
    "    basketball = 1\n",
    "    \n",
    "class Son(Dad):\n",
    "    dance = 6\n",
    "    basketball = 4 # Is ko basketball yehin miljaega isilye 4 dega\n",
    "    def isdance(self):\n",
    "        print(f\"Yes i dance {self.dance} no of times\")\n",
    "        \n",
    "class GrandSon(Son):\n",
    "    dance = 2\n",
    "    def isdance(self):\n",
    "        print(f\"Oh awesome {self.dance} no of times\")\n",
    "        \n",
    "   \n",
    "abba = Dad()\n",
    "beta = Son()\n",
    "barabeta = GrandSon()"
   ]
  },
  {
   "cell_type": "code",
   "execution_count": 28,
   "id": "a1eb8175",
   "metadata": {},
   "outputs": [
    {
     "data": {
      "text/plain": [
       "1"
      ]
     },
     "execution_count": 28,
     "metadata": {},
     "output_type": "execute_result"
    }
   ],
   "source": [
    "abba.basketball"
   ]
  },
  {
   "cell_type": "code",
   "execution_count": 29,
   "id": "e5b39ddf",
   "metadata": {},
   "outputs": [
    {
     "name": "stdout",
     "output_type": "stream",
     "text": [
      "Yes i dance 6 no of times\n"
     ]
    }
   ],
   "source": [
    "beta.isdance()"
   ]
  },
  {
   "cell_type": "code",
   "execution_count": 30,
   "id": "e7578bbc",
   "metadata": {},
   "outputs": [
    {
     "data": {
      "text/plain": [
       "4"
      ]
     },
     "execution_count": 30,
     "metadata": {},
     "output_type": "execute_result"
    }
   ],
   "source": [
    "beta.basketball"
   ]
  },
  {
   "cell_type": "code",
   "execution_count": 31,
   "id": "a1240437",
   "metadata": {},
   "outputs": [
    {
     "data": {
      "text/plain": [
       "4"
      ]
     },
     "execution_count": 31,
     "metadata": {},
     "output_type": "execute_result"
    }
   ],
   "source": [
    "barabeta.basketball"
   ]
  },
  {
   "cell_type": "code",
   "execution_count": 32,
   "id": "40ae7dee",
   "metadata": {},
   "outputs": [
    {
     "name": "stdout",
     "output_type": "stream",
     "text": [
      "Oh awesome 2 no of times\n"
     ]
    }
   ],
   "source": [
    "barabeta.isdance()"
   ]
  },
  {
   "cell_type": "code",
   "execution_count": 33,
   "id": "1a578e2a",
   "metadata": {},
   "outputs": [],
   "source": [
    "# Practice question"
   ]
  },
  {
   "cell_type": "code",
   "execution_count": 37,
   "id": "204e93c6",
   "metadata": {},
   "outputs": [],
   "source": [
    "class Electronic:\n",
    "    def __init__(self,device,price,spec,made):\n",
    "        self.device = device\n",
    "        self.price = price\n",
    "        self.spec = spec\n",
    "        self.made = made\n",
    "        \n",
    "class Gadeget:\n",
    "    def __init__(self,work,com,pocket=True):\n",
    "        self.work = work\n",
    "        self.com = com\n",
    "       \n",
    "class Phone(Electronic,Gadeget):\n",
    "    def __init__(self,made,camera,ram,battery):\n",
    "        self.made = made\n",
    "        self.camera = camera\n",
    "        self.ram = ram\n",
    "        self.battery = battery\n",
    "        \n",
    "electric = Electronic(\"Ammeter\",\"560rs\",\"count AMpere\",\"Toshiba\")\n",
    "gad = Gadeget(\"Light\",\"Random\")\n",
    "mobile = Phone(\"Vivo\",\"48mp\",\"8gb\",\"4400mah\")"
   ]
  },
  {
   "cell_type": "code",
   "execution_count": 38,
   "id": "c9b201d6",
   "metadata": {},
   "outputs": [
    {
     "data": {
      "text/plain": [
       "'Toshiba'"
      ]
     },
     "execution_count": 38,
     "metadata": {},
     "output_type": "execute_result"
    }
   ],
   "source": [
    "electric.made"
   ]
  },
  {
   "cell_type": "code",
   "execution_count": 39,
   "id": "b5fa5851",
   "metadata": {},
   "outputs": [
    {
     "data": {
      "text/plain": [
       "'count AMpere'"
      ]
     },
     "execution_count": 39,
     "metadata": {},
     "output_type": "execute_result"
    }
   ],
   "source": [
    "electric.spec"
   ]
  },
  {
   "cell_type": "code",
   "execution_count": 40,
   "id": "b446f30e",
   "metadata": {},
   "outputs": [
    {
     "data": {
      "text/plain": [
       "'560rs'"
      ]
     },
     "execution_count": 40,
     "metadata": {},
     "output_type": "execute_result"
    }
   ],
   "source": [
    "electric.price"
   ]
  },
  {
   "cell_type": "code",
   "execution_count": 41,
   "id": "300dc95e",
   "metadata": {},
   "outputs": [
    {
     "data": {
      "text/plain": [
       "'Ammeter'"
      ]
     },
     "execution_count": 41,
     "metadata": {},
     "output_type": "execute_result"
    }
   ],
   "source": [
    "electric.device"
   ]
  },
  {
   "cell_type": "code",
   "execution_count": 43,
   "id": "fb20a3af",
   "metadata": {},
   "outputs": [
    {
     "data": {
      "text/plain": [
       "'Random'"
      ]
     },
     "execution_count": 43,
     "metadata": {},
     "output_type": "execute_result"
    }
   ],
   "source": [
    "gad.com"
   ]
  },
  {
   "cell_type": "code",
   "execution_count": 44,
   "id": "7a555db7",
   "metadata": {},
   "outputs": [
    {
     "data": {
      "text/plain": [
       "'Light'"
      ]
     },
     "execution_count": 44,
     "metadata": {},
     "output_type": "execute_result"
    }
   ],
   "source": [
    "gad.work"
   ]
  },
  {
   "cell_type": "code",
   "execution_count": 45,
   "id": "4543aeb5",
   "metadata": {},
   "outputs": [
    {
     "data": {
      "text/plain": [
       "'4400mah'"
      ]
     },
     "execution_count": 45,
     "metadata": {},
     "output_type": "execute_result"
    }
   ],
   "source": [
    "mobile.battery"
   ]
  },
  {
   "cell_type": "code",
   "execution_count": 46,
   "id": "69a2fb7a",
   "metadata": {},
   "outputs": [
    {
     "data": {
      "text/plain": [
       "'48mp'"
      ]
     },
     "execution_count": 46,
     "metadata": {},
     "output_type": "execute_result"
    }
   ],
   "source": [
    "mobile.camera"
   ]
  },
  {
   "cell_type": "code",
   "execution_count": 47,
   "id": "bc93404b",
   "metadata": {},
   "outputs": [
    {
     "data": {
      "text/plain": [
       "'Vivo'"
      ]
     },
     "execution_count": 47,
     "metadata": {},
     "output_type": "execute_result"
    }
   ],
   "source": [
    "mobile.made"
   ]
  },
  {
   "cell_type": "code",
   "execution_count": 48,
   "id": "46e43451",
   "metadata": {},
   "outputs": [
    {
     "data": {
      "text/plain": [
       "'8gb'"
      ]
     },
     "execution_count": 48,
     "metadata": {},
     "output_type": "execute_result"
    }
   ],
   "source": [
    "mobile.ram"
   ]
  },
  {
   "cell_type": "code",
   "execution_count": 51,
   "id": "eff1da30",
   "metadata": {},
   "outputs": [
    {
     "ename": "AttributeError",
     "evalue": "'Phone' object has no attribute 'spec'",
     "output_type": "error",
     "traceback": [
      "\u001b[1;31m---------------------------------------------------------------------------\u001b[0m",
      "\u001b[1;31mAttributeError\u001b[0m                            Traceback (most recent call last)",
      "Input \u001b[1;32mIn [51]\u001b[0m, in \u001b[0;36m<cell line: 1>\u001b[1;34m()\u001b[0m\n\u001b[1;32m----> 1\u001b[0m \u001b[43mmobile\u001b[49m\u001b[38;5;241;43m.\u001b[39;49m\u001b[43mspec\u001b[49m\n",
      "\u001b[1;31mAttributeError\u001b[0m: 'Phone' object has no attribute 'spec'"
     ]
    }
   ],
   "source": [
    "mobile.spec"
   ]
  },
  {
   "cell_type": "code",
   "execution_count": 54,
   "id": "1b70abb3",
   "metadata": {},
   "outputs": [],
   "source": [
    "class Electronic:\n",
    "    def __init__(self,device,price,spec,made):\n",
    "        self.device = device\n",
    "        self.price = price\n",
    "        self.spec = spec\n",
    "        self.made = made\n",
    "        \n",
    "class Gadeget(Electronic):\n",
    "    def __init__(self,work,com,pocket=True):\n",
    "        self.work = work\n",
    "        self.com = com\n",
    "        \n",
    "    def printdet(self):\n",
    "        print(f\"This gadget is {self.com} is {self.work}\")\n",
    "       \n",
    "class Phone(Gadeget):\n",
    "    def __init__(self,made,camera,ram,battery):\n",
    "        self.made = made\n",
    "        self.camera = camera\n",
    "        self.ram = ram\n",
    "        self.battery = battery\n",
    "        \n",
    "electric = Electronic(\"Ammeter\",\"560rs\",\"count AMpere\",\"Toshiba\")\n",
    "gad = Gadeget(\"Light\",\"Random\")\n",
    "mobile = Phone(\"Vivo\",\"48mp\",\"8gb\",\"4400mah\")"
   ]
  },
  {
   "cell_type": "code",
   "execution_count": 56,
   "id": "2c05b764",
   "metadata": {},
   "outputs": [
    {
     "name": "stdout",
     "output_type": "stream",
     "text": [
      "This gadget is Random is Light\n"
     ]
    }
   ],
   "source": [
    "gad.printdet()"
   ]
  },
  {
   "cell_type": "code",
   "execution_count": 57,
   "id": "22879c0b",
   "metadata": {},
   "outputs": [
    {
     "name": "stdout",
     "output_type": "stream",
     "text": [
      "Init of A is working\n",
      "Init of b is working\n",
      "Init of A is working\n"
     ]
    }
   ],
   "source": [
    "# Super function to run the init of inherit class constructor\n",
    "class A:\n",
    "    def __init__(self):\n",
    "        print(\"Init of A is working\")\n",
    "     \n",
    "class B(A):\n",
    "    def __init__(self):\n",
    "        print(\"Init of b is working\")\n",
    "#         FOr again run consturctor of A\n",
    "        super().__init__()\n",
    "        \n",
    "# Overall result is the inherit class functions first then run the original class        \n",
    "        \n",
    "fora = A()\n",
    "forb = B()"
   ]
  },
  {
   "cell_type": "markdown",
   "id": "afdfe10c",
   "metadata": {},
   "source": [
    "Sir class Inheritence practice "
   ]
  },
  {
   "cell_type": "code",
   "execution_count": 60,
   "id": "c03eaf8b",
   "metadata": {},
   "outputs": [],
   "source": [
    "class A:\n",
    "    def __init__(self):\n",
    "        print(\"Init of A is working\")\n",
    "     \n",
    "    def feature1(self):\n",
    "        print(\"Feature of A is working\")\n",
    "        \n",
    "    def feature2(self):\n",
    "        print(\"Feature of A is working\")\n",
    "        \n",
    "    def show(self):\n",
    "        print(\"I am showing class A\")\n",
    "     \n",
    "class B:\n",
    "    def __init__(self):\n",
    "        print(\"Init of B is working\")\n",
    "     \n",
    "    def feature3(self):\n",
    "        print(\"Feature of b is working\")\n",
    "        \n",
    "    def feature4(self):\n",
    "        print(\"Feature of B is working\")\n",
    "        \n",
    "    def show(self):\n",
    "        print(\"I am showing class B\")    \n",
    "        \n",
    "        \n",
    "class C(A,B):\n",
    "    def __init__(self):\n",
    "        print(\"The init of C is working\")\n",
    "#         This is run according to MRO and call the constuctor of A\n",
    "        super().__init__()"
   ]
  },
  {
   "cell_type": "code",
   "execution_count": 61,
   "id": "8bdb2907",
   "metadata": {},
   "outputs": [
    {
     "name": "stdout",
     "output_type": "stream",
     "text": [
      "The init of C is working\n",
      "Init of A is working\n"
     ]
    }
   ],
   "source": [
    "forc = C()"
   ]
  },
  {
   "cell_type": "code",
   "execution_count": 62,
   "id": "97f8bd80",
   "metadata": {},
   "outputs": [
    {
     "name": "stdout",
     "output_type": "stream",
     "text": [
      "Feature of b is working\n"
     ]
    }
   ],
   "source": [
    "forc.feature3()"
   ]
  },
  {
   "cell_type": "code",
   "execution_count": 63,
   "id": "8bda661b",
   "metadata": {},
   "outputs": [
    {
     "name": "stdout",
     "output_type": "stream",
     "text": [
      "Feature of A is working\n"
     ]
    }
   ],
   "source": [
    "# The upper cell show MRO only work with constructor not with functions\n",
    "forc.feature1()"
   ]
  },
  {
   "cell_type": "code",
   "execution_count": 64,
   "id": "8b8ca5ab",
   "metadata": {},
   "outputs": [
    {
     "name": "stdout",
     "output_type": "stream",
     "text": [
      "I am showing class A\n"
     ]
    }
   ],
   "source": [
    "forc.show()"
   ]
  },
  {
   "cell_type": "code",
   "execution_count": 65,
   "id": "618980b0",
   "metadata": {},
   "outputs": [],
   "source": [
    "# But there is a problem mro support the overriding function \n",
    "# AS the upper cell when we call the show function which present in both of the classes but due to the mro forc call the A show"
   ]
  },
  {
   "cell_type": "code",
   "execution_count": 66,
   "id": "032decc6",
   "metadata": {},
   "outputs": [],
   "source": [
    "# We call function with my order through super()"
   ]
  },
  {
   "cell_type": "code",
   "execution_count": 68,
   "id": "1bb6099c",
   "metadata": {},
   "outputs": [
    {
     "name": "stdout",
     "output_type": "stream",
     "text": [
      "init of C\n",
      "in init of B\n",
      "I am showing class B\n",
      "Feature2 B is working\n",
      "I m in C\n"
     ]
    }
   ],
   "source": [
    "class A:    \n",
    "    def __init__(self):\n",
    "        print(\"In init of A\")\n",
    "   \n",
    "    def feature1(self):\n",
    "        print(\"Feature1 is working\")\n",
    "        \n",
    "    def feature2(self):\n",
    "        print(\"Feature2 is A working\")\n",
    "    def show(self):\n",
    "        print(\"I am showing class A\")\n",
    "class B():\n",
    "    def __init__(self):\n",
    "        print(\"in init of B\")\n",
    "       \n",
    "    \n",
    "    def feature2(self):\n",
    "        print(\"Feature2 B is working\")\n",
    "        \n",
    "    def feature4(self):\n",
    "        print(\"Feature4 is working\")\n",
    "\n",
    "    def show(self):\n",
    "        print(\"I am showing class B\")       \n",
    "        \n",
    "class C(B,A):\n",
    "    def __init__(self):\n",
    "        print(\"init of C\")\n",
    "        super().__init__()\n",
    "        super().show()\n",
    "        \n",
    "    def feature2(self):   # Here is a function feature2 but due to the super it calls the feature of B according to MRO\n",
    "        print(\"I m in C\")\n",
    "    \n",
    "    def feat(self):\n",
    "       \n",
    "        super().feature2()\n",
    "        \n",
    "c  = C()\n",
    "c.feat()\n",
    "c.feature2()"
   ]
  },
  {
   "cell_type": "markdown",
   "id": "1e142a66",
   "metadata": {},
   "source": [
    "# OPERATOR OVERLOADING"
   ]
  },
  {
   "cell_type": "code",
   "execution_count": 1,
   "id": "ae42ccc0",
   "metadata": {},
   "outputs": [],
   "source": [
    "# Is like the overriding the backend function like add the two object of classes"
   ]
  },
  {
   "cell_type": "code",
   "execution_count": 6,
   "id": "621b7e1f",
   "metadata": {},
   "outputs": [],
   "source": [
    "class Student:\n",
    "    def __init__(self,m1,m2):\n",
    "        self.m1 = m1\n",
    "        self.m2 = m2\n",
    "        \n",
    "    def __add__(self,other):\n",
    "        m1 = self.m1 + other.m1\n",
    "        m2 = self.m2 + other.m2\n",
    "        m3 = Student(m1,m2)\n",
    "        return m3\n",
    "    \n",
    "    def __gt__(self,other):\n",
    "        sum_1 = self.m1 + self.m2\n",
    "        sum_2 = other.m1 + other.m2\n",
    "        if sum_1 > sum_2:\n",
    "            return True\n",
    "        else:\n",
    "            return False\n",
    "        \n",
    "    def __sub__(self,other):\n",
    "        m1 = self.m1-other.m1\n",
    "        m2 = self.m2 - other.m2\n",
    "        m3 = Student(m1,m2)\n",
    "        return m3\n",
    "    \n",
    "    \n",
    "        "
   ]
  },
  {
   "cell_type": "code",
   "execution_count": 7,
   "id": "2028945a",
   "metadata": {},
   "outputs": [],
   "source": [
    "s1 = Student(12,44)\n",
    "s2 = Student(16,64)\n"
   ]
  },
  {
   "cell_type": "code",
   "execution_count": 10,
   "id": "86e717fc",
   "metadata": {},
   "outputs": [
    {
     "data": {
      "text/plain": [
       "28"
      ]
     },
     "execution_count": 10,
     "metadata": {},
     "output_type": "execute_result"
    }
   ],
   "source": [
    "s3 = s1 + s2\n",
    "s3.m1"
   ]
  },
  {
   "cell_type": "code",
   "execution_count": 11,
   "id": "6d045173",
   "metadata": {},
   "outputs": [
    {
     "data": {
      "text/plain": [
       "108"
      ]
     },
     "execution_count": 11,
     "metadata": {},
     "output_type": "execute_result"
    }
   ],
   "source": [
    "s3.m2"
   ]
  },
  {
   "cell_type": "code",
   "execution_count": 12,
   "id": "ade90e34",
   "metadata": {},
   "outputs": [
    {
     "data": {
      "text/plain": [
       "False"
      ]
     },
     "execution_count": 12,
     "metadata": {},
     "output_type": "execute_result"
    }
   ],
   "source": [
    "s1 >s2"
   ]
  },
  {
   "cell_type": "code",
   "execution_count": 13,
   "id": "15708dfe",
   "metadata": {},
   "outputs": [
    {
     "data": {
      "text/plain": [
       "True"
      ]
     },
     "execution_count": 13,
     "metadata": {},
     "output_type": "execute_result"
    }
   ],
   "source": [
    "s2 >s1"
   ]
  },
  {
   "cell_type": "code",
   "execution_count": 18,
   "id": "ff991e44",
   "metadata": {},
   "outputs": [],
   "source": [
    "s3 = s2-s1"
   ]
  },
  {
   "cell_type": "code",
   "execution_count": 42,
   "id": "e4022d0b",
   "metadata": {},
   "outputs": [
    {
     "data": {
      "text/plain": [
       "<__main__.Student at 0x2d015efa040>"
      ]
     },
     "execution_count": 42,
     "metadata": {},
     "output_type": "execute_result"
    }
   ],
   "source": [
    "s3 # FOr this reason we write a repr method"
   ]
  },
  {
   "cell_type": "code",
   "execution_count": null,
   "id": "64726b2e",
   "metadata": {},
   "outputs": [],
   "source": []
  },
  {
   "cell_type": "code",
   "execution_count": 20,
   "id": "633301d2",
   "metadata": {},
   "outputs": [
    {
     "data": {
      "text/plain": [
       "4"
      ]
     },
     "execution_count": 20,
     "metadata": {},
     "output_type": "execute_result"
    }
   ],
   "source": [
    "s3.m1"
   ]
  },
  {
   "cell_type": "code",
   "execution_count": 21,
   "id": "2963c604",
   "metadata": {},
   "outputs": [
    {
     "data": {
      "text/plain": [
       "20"
      ]
     },
     "execution_count": 21,
     "metadata": {},
     "output_type": "execute_result"
    }
   ],
   "source": [
    "s3.m2"
   ]
  },
  {
   "cell_type": "code",
   "execution_count": 104,
   "id": "4e302c55",
   "metadata": {},
   "outputs": [],
   "source": [
    "# Other example of method overloading\n",
    "class Employee:\n",
    "    def __init__(self,name,salary,role):\n",
    "        self.name = name\n",
    "        self.salary = salary\n",
    "        self.role = role\n",
    "        \n",
    "    def Printdetails(self):\n",
    "        return f\"The name of employee is {self.name} and salary is {self.salary} and the role is {self.role}\"\n",
    "        \n",
    "    def __add__(self,other):  # This is method overloading original method mein apni marzi se changing karna\n",
    "        return self.salary + other.salary\n",
    "    \n",
    "    def __truediv__(self,other):\n",
    "        return self.salary / other.salary\n",
    "    \n",
    "    def __str__(self):\n",
    "        return f\"The name of employee is {self.name} and salary is {self.salary} and the role is {self.role}\" \n",
    "    \n",
    "#     def __repr__(self):\n",
    "#         return f\"The name of employee is {self.name} and salary is {self.salary} and the role is {self.role}\"\n",
    "\n",
    "    def __repr__(self):\n",
    "        return f\"Employee('{self.name}',{self.salary},'{self.role}')\""
   ]
  },
  {
   "cell_type": "code",
   "execution_count": 105,
   "id": "cb240566",
   "metadata": {},
   "outputs": [
    {
     "name": "stdout",
     "output_type": "stream",
     "text": [
      "The name of employee is Ameen and salary is 298 and the role is Programmer\n"
     ]
    }
   ],
   "source": [
    "emp = Employee(\"Ameen\",298,\"Programmer\")\n",
    "# emp1 = Employee(\"Hamza\",28,\"Manager\")\n",
    "print(emp)"
   ]
  },
  {
   "cell_type": "code",
   "execution_count": 106,
   "id": "c327d4c2",
   "metadata": {},
   "outputs": [
    {
     "data": {
      "text/plain": [
       "326"
      ]
     },
     "execution_count": 106,
     "metadata": {},
     "output_type": "execute_result"
    }
   ],
   "source": [
    "emp + emp1"
   ]
  },
  {
   "cell_type": "code",
   "execution_count": 107,
   "id": "483cd364",
   "metadata": {},
   "outputs": [
    {
     "data": {
      "text/plain": [
       "10.642857142857142"
      ]
     },
     "execution_count": 107,
     "metadata": {},
     "output_type": "execute_result"
    }
   ],
   "source": [
    "emp / emp1"
   ]
  },
  {
   "cell_type": "code",
   "execution_count": 108,
   "id": "6b5bd854",
   "metadata": {},
   "outputs": [
    {
     "data": {
      "text/plain": [
       "'AmeenHamza'"
      ]
     },
     "execution_count": 108,
     "metadata": {},
     "output_type": "execute_result"
    }
   ],
   "source": [
    "emp.name + emp1.name # SET"
   ]
  },
  {
   "cell_type": "code",
   "execution_count": 109,
   "id": "a404bef5",
   "metadata": {},
   "outputs": [],
   "source": [
    "# Mapping operators to function Google per search karna h"
   ]
  },
  {
   "cell_type": "code",
   "execution_count": 110,
   "id": "51234881",
   "metadata": {},
   "outputs": [
    {
     "name": "stdout",
     "output_type": "stream",
     "text": [
      "The name of employee is Ameen and salary is 298 and the role is Programmer\n"
     ]
    }
   ],
   "source": [
    "print(emp) # This is the work of repr"
   ]
  },
  {
   "cell_type": "code",
   "execution_count": 111,
   "id": "e7c66a1d",
   "metadata": {},
   "outputs": [],
   "source": [
    "# agar repr method bana hua h or str bhi bana h to pehle str chalega jab tk repr ko call hi nhi kara"
   ]
  },
  {
   "cell_type": "code",
   "execution_count": 112,
   "id": "cc292a98",
   "metadata": {},
   "outputs": [
    {
     "name": "stdout",
     "output_type": "stream",
     "text": [
      "Employee('Ameen',298,'Programmer')\n"
     ]
    }
   ],
   "source": [
    "print(repr(emp))"
   ]
  },
  {
   "cell_type": "code",
   "execution_count": 113,
   "id": "51468b7f",
   "metadata": {},
   "outputs": [
    {
     "name": "stdout",
     "output_type": "stream",
     "text": [
      "The name of employee is Ameen and salary is 298 and the role is Programmer\n"
     ]
    }
   ],
   "source": [
    "print(str(emp))"
   ]
  },
  {
   "cell_type": "code",
   "execution_count": 114,
   "id": "c363cbbc",
   "metadata": {},
   "outputs": [
    {
     "name": "stdout",
     "output_type": "stream",
     "text": [
      "Enter the number 1 : 34\n",
      "Enter the number 2 : 23\n",
      "11\n"
     ]
    }
   ],
   "source": [
    "# Another practice\n",
    "class Numericoperators:\n",
    "    def __init__(self,num1):\n",
    "        self.num1 = num1\n",
    "         \n",
    "\n",
    "    def __add__(self,adding):\n",
    "        return self.num1 + adding.num1\n",
    "    \n",
    "    def __sub__(self,substracting):\n",
    "        if(self.num1 > substracting.num1):\n",
    "            return self.num1 - substracting.num1\n",
    "        elif(substracting.num1 > self.num1):\n",
    "            return substracting.num1 - self.num1\n",
    "    \n",
    "    def __truediv__(self,dividing):\n",
    "        return self.num1 / dividing.num1\n",
    "    \n",
    "    def __mul__(self,multi):\n",
    "        return self.num1 * multi.num1\n",
    "    \n",
    "    def __pow__(self,expo):\n",
    "        return self.num1 ** expo.num1\n",
    "\n",
    "number1 = int(input(\"Enter the number 1 : \"))\n",
    "number2 = int(input(\"Enter the number 2 : \"))\n",
    "\n",
    "num1 = Numericoperators(number1)\n",
    "num2 = Numericoperators(number2)\n",
    "\n",
    "print(num1 - num2)\n",
    "\n"
   ]
  },
  {
   "cell_type": "markdown",
   "id": "5d69b8ed",
   "metadata": {},
   "source": [
    "# ABSTRACTION"
   ]
  },
  {
   "cell_type": "code",
   "execution_count": 115,
   "id": "4599bb6c",
   "metadata": {},
   "outputs": [
    {
     "ename": "SyntaxError",
     "evalue": "invalid syntax (1805539695.py, line 1)",
     "output_type": "error",
     "traceback": [
      "\u001b[1;36m  Input \u001b[1;32mIn [115]\u001b[1;36m\u001b[0m\n\u001b[1;33m    ....\u001b[0m\n\u001b[1;37m        ^\u001b[0m\n\u001b[1;31mSyntaxError\u001b[0m\u001b[1;31m:\u001b[0m invalid syntax\n"
     ]
    }
   ],
   "source": [
    "...."
   ]
  },
  {
   "cell_type": "markdown",
   "id": "16eecdd1",
   "metadata": {},
   "source": [
    "# Class variables (static variables) and instance variables"
   ]
  },
  {
   "cell_type": "code",
   "execution_count": 123,
   "id": "420cef3e",
   "metadata": {},
   "outputs": [],
   "source": [
    "# Class variables or static variables can be updated with class name only\n",
    "class Employee:\n",
    "    no_of_leaves = 8\n",
    "    pass\n",
    "\n",
    "person = Employee()\n",
    "person.name = \"Ameen\"\n",
    "person.role = \"Programmer\"\n",
    "\n",
    "forclass = Employee()\n",
    "forclass.name = \"Ameen\"\n",
    "forclass.role = \"Programmer\""
   ]
  },
  {
   "cell_type": "code",
   "execution_count": 124,
   "id": "70a3b568",
   "metadata": {},
   "outputs": [
    {
     "data": {
      "text/plain": [
       "'Ameen'"
      ]
     },
     "execution_count": 124,
     "metadata": {},
     "output_type": "execute_result"
    }
   ],
   "source": [
    "person.name"
   ]
  },
  {
   "cell_type": "code",
   "execution_count": 125,
   "id": "7261d8ca",
   "metadata": {},
   "outputs": [],
   "source": [
    "person.no_of_leaves = 4 # This is instance variables"
   ]
  },
  {
   "cell_type": "code",
   "execution_count": 126,
   "id": "a773a1b3",
   "metadata": {},
   "outputs": [
    {
     "data": {
      "text/plain": [
       "4"
      ]
     },
     "execution_count": 126,
     "metadata": {},
     "output_type": "execute_result"
    }
   ],
   "source": [
    "person.no_of_leaves"
   ]
  },
  {
   "cell_type": "code",
   "execution_count": 128,
   "id": "dcd4fbc4",
   "metadata": {},
   "outputs": [
    {
     "data": {
      "text/plain": [
       "4"
      ]
     },
     "execution_count": 128,
     "metadata": {},
     "output_type": "execute_result"
    }
   ],
   "source": [
    "person.no_of_leaves"
   ]
  },
  {
   "cell_type": "code",
   "execution_count": 133,
   "id": "006b8b2a",
   "metadata": {},
   "outputs": [],
   "source": [
    "Employee.no_of_leaves = 5"
   ]
  },
  {
   "cell_type": "code",
   "execution_count": 135,
   "id": "23d55ca8",
   "metadata": {},
   "outputs": [
    {
     "data": {
      "text/plain": [
       "{'name': 'Ameen', 'role': 'Programmer'}"
      ]
     },
     "execution_count": 135,
     "metadata": {},
     "output_type": "execute_result"
    }
   ],
   "source": [
    "# forclass.no_of_leaves # This show that class variables only updated with Class name\n",
    "forclass.__dict__"
   ]
  },
  {
   "cell_type": "code",
   "execution_count": 129,
   "id": "139d639b",
   "metadata": {},
   "outputs": [
    {
     "data": {
      "text/plain": [
       "5"
      ]
     },
     "execution_count": 129,
     "metadata": {},
     "output_type": "execute_result"
    }
   ],
   "source": [
    "Employee.no_of_leaves"
   ]
  },
  {
   "cell_type": "code",
   "execution_count": 132,
   "id": "8f9a80eb",
   "metadata": {},
   "outputs": [
    {
     "data": {
      "text/plain": [
       "{'name': 'Ameen', 'role': 'Programmer'}"
      ]
     },
     "execution_count": 132,
     "metadata": {},
     "output_type": "execute_result"
    }
   ],
   "source": [
    "forclass.no_of_leaves # This show that class variables only updated with Class name\n",
    "forclass.__dict__"
   ]
  },
  {
   "cell_type": "markdown",
   "id": "3d1fa1cc",
   "metadata": {},
   "source": [
    "# STATIC && CLASS METHOD"
   ]
  },
  {
   "cell_type": "code",
   "execution_count": 19,
   "id": "b62ac9fc",
   "metadata": {},
   "outputs": [],
   "source": [
    "class Empoyee:\n",
    "    no_of_leaves = 8\n",
    "    def __init__(self,name,salary,role):\n",
    "        self.name = name\n",
    "        self.salary = salary\n",
    "        self.role = role\n",
    "        \n",
    "    def printdetials(self):\n",
    "        print(f\"{self.name} is a employee of our company with {self.salary} salary {self.role}\")\n",
    "        \n",
    "        \n",
    "#      ab agar mein no of leaves ko change karna chahta hyn to class k naam se change karna parega \n",
    "# lekin agar mein chahta hun k method k zarie no of leaves ko change karun because no of leaves class ki property h \n",
    "# islye class method banana parega\n",
    "\n",
    "    @classmethod\n",
    "    def change(c,leaves):\n",
    "        c.no_of_leaves = leaves # Jis cheez ko change karna h usko . ka baad likhenge\n",
    "        \n",
    "        \n",
    "    @classmethod\n",
    "    def from_str(c,string):\n",
    "#         parameter = string.split(\"-\") # This works as a list\n",
    "#         print(parameter)\n",
    "#         return c(parameter[0] ,parameter[1], parameter[2])\n",
    "        return c(*string.split(\"-\"))\n",
    "        \n",
    "        \n",
    "        \n",
    "harry = Empoyee(\"Ameen\",\"45000r\",\"Programmer\")\n",
    "ifhaam = Empoyee.from_str(\"Karan-450-alternative\")\n",
    "        "
   ]
  },
  {
   "cell_type": "code",
   "execution_count": 20,
   "id": "d96ec321",
   "metadata": {},
   "outputs": [
    {
     "data": {
      "text/plain": [
       "'450'"
      ]
     },
     "execution_count": 20,
     "metadata": {},
     "output_type": "execute_result"
    }
   ],
   "source": [
    "ifhaam.salary # This return a object"
   ]
  },
  {
   "cell_type": "code",
   "execution_count": 21,
   "id": "ba1f2492",
   "metadata": {},
   "outputs": [
    {
     "data": {
      "text/plain": [
       "'Karan'"
      ]
     },
     "execution_count": 21,
     "metadata": {},
     "output_type": "execute_result"
    }
   ],
   "source": [
    "ifhaam.name"
   ]
  },
  {
   "cell_type": "code",
   "execution_count": 14,
   "id": "c306289a",
   "metadata": {},
   "outputs": [],
   "source": [
    "harry.change(34)"
   ]
  },
  {
   "cell_type": "code",
   "execution_count": 10,
   "id": "504f4f62",
   "metadata": {},
   "outputs": [
    {
     "data": {
      "text/plain": [
       "34"
      ]
     },
     "execution_count": 10,
     "metadata": {},
     "output_type": "execute_result"
    }
   ],
   "source": [
    "harry.no_of_leaves"
   ]
  },
  {
   "cell_type": "code",
   "execution_count": 11,
   "id": "ef21537f",
   "metadata": {},
   "outputs": [
    {
     "data": {
      "text/plain": [
       "34"
      ]
     },
     "execution_count": 11,
     "metadata": {},
     "output_type": "execute_result"
    }
   ],
   "source": [
    "Empoyee.no_of_leaves"
   ]
  },
  {
   "cell_type": "code",
   "execution_count": 23,
   "id": "b7111668",
   "metadata": {},
   "outputs": [],
   "source": [
    "# Class method as alternative constructor\n",
    "# ................."
   ]
  },
  {
   "cell_type": "markdown",
   "id": "029d564b",
   "metadata": {},
   "source": [
    "# FUNCTION COPY"
   ]
  },
  {
   "cell_type": "code",
   "execution_count": 25,
   "id": "c4f738d2",
   "metadata": {},
   "outputs": [
    {
     "name": "stdout",
     "output_type": "stream",
     "text": [
      "This is for copy the function\n"
     ]
    }
   ],
   "source": [
    "# It's a simple \n",
    "def copy():\n",
    "    print(\"This is for copy the function\")\n",
    "    \n",
    "c = copy()"
   ]
  },
  {
   "cell_type": "code",
   "execution_count": 27,
   "id": "b2f7d2f0",
   "metadata": {},
   "outputs": [
    {
     "name": "stdout",
     "output_type": "stream",
     "text": [
      "None\n"
     ]
    }
   ],
   "source": [
    "print(c) # This is because the function copy does not return any value"
   ]
  },
  {
   "cell_type": "code",
   "execution_count": 28,
   "id": "e22cc108",
   "metadata": {},
   "outputs": [],
   "source": [
    "def copy():\n",
    "    return \"This is for copy the function\"\n",
    "\n",
    "well  = copy()\n"
   ]
  },
  {
   "cell_type": "code",
   "execution_count": 29,
   "id": "fa566b5a",
   "metadata": {},
   "outputs": [
    {
     "data": {
      "text/plain": [
       "'This is for copy the function'"
      ]
     },
     "execution_count": 29,
     "metadata": {},
     "output_type": "execute_result"
    }
   ],
   "source": [
    "well"
   ]
  },
  {
   "cell_type": "code",
   "execution_count": 30,
   "id": "1240beab",
   "metadata": {},
   "outputs": [
    {
     "name": "stdout",
     "output_type": "stream",
     "text": [
      "This is for copy the function\n"
     ]
    }
   ],
   "source": [
    "print(well)"
   ]
  },
  {
   "cell_type": "markdown",
   "id": "2c140ab3",
   "metadata": {},
   "source": [
    "# CLOSURES"
   ]
  },
  {
   "cell_type": "code",
   "execution_count": 32,
   "id": "6f5ebb94",
   "metadata": {},
   "outputs": [],
   "source": [
    "# Function inside a function is called closures\n",
    "def parent(msg):\n",
    "    def child():\n",
    "        print(\"Welcome\")\n",
    "        print(msg)\n",
    "        print(\"Please come in\")\n",
    "    return child() # Ham ne end mein return kardia child ko to pehle child execute hoga"
   ]
  },
  {
   "cell_type": "code",
   "execution_count": 33,
   "id": "8d63b638",
   "metadata": {},
   "outputs": [
    {
     "name": "stdout",
     "output_type": "stream",
     "text": [
      "Welcome\n",
      "Hello my dear\n",
      "Please come in\n"
     ]
    }
   ],
   "source": [
    "parent(\"Hello my dear\")"
   ]
  },
  {
   "cell_type": "code",
   "execution_count": 34,
   "id": "9fe34e71",
   "metadata": {},
   "outputs": [
    {
     "name": "stdout",
     "output_type": "stream",
     "text": [
      "Welcome\n",
      "HEllo everyone\n",
      "Please come in\n"
     ]
    }
   ],
   "source": [
    "parent(\"HEllo everyone\")"
   ]
  },
  {
   "cell_type": "code",
   "execution_count": 35,
   "id": "86a72709",
   "metadata": {},
   "outputs": [
    {
     "name": "stdout",
     "output_type": "stream",
     "text": [
      "Welcome\n",
      "<built-in function print>\n",
      "Please come in\n"
     ]
    }
   ],
   "source": [
    "parent(print)"
   ]
  },
  {
   "cell_type": "code",
   "execution_count": 36,
   "id": "1fc6ab2b",
   "metadata": {},
   "outputs": [],
   "source": [
    "# Now changing some things\n",
    "def parent(func):\n",
    "    def child():\n",
    "        print(\"Welcome\")\n",
    "        func(\"Pakistan\")\n",
    "        print(\"Please come in\")\n",
    "    return child()    "
   ]
  },
  {
   "cell_type": "code",
   "execution_count": 37,
   "id": "b9712ea3",
   "metadata": {},
   "outputs": [
    {
     "name": "stdout",
     "output_type": "stream",
     "text": [
      "Welcome\n",
      "Pakistan\n",
      "Please come in\n"
     ]
    }
   ],
   "source": [
    "parent(print)"
   ]
  },
  {
   "cell_type": "code",
   "execution_count": 57,
   "id": "61c751a1",
   "metadata": {},
   "outputs": [],
   "source": [
    "def city_name():\n",
    "    print(\"This is karachi\")\n",
    "def Country_name():\n",
    "    print(\"This is pakistan\")\n",
    "def Uni_name():\n",
    "    print(\"This is SSUET\")"
   ]
  },
  {
   "cell_type": "code",
   "execution_count": 58,
   "id": "be2adcfb",
   "metadata": {},
   "outputs": [
    {
     "name": "stdout",
     "output_type": "stream",
     "text": [
      "This is karachi\n"
     ]
    }
   ],
   "source": [
    "city_name()"
   ]
  },
  {
   "cell_type": "code",
   "execution_count": 59,
   "id": "8bec1e19",
   "metadata": {},
   "outputs": [],
   "source": [
    "def parent(func):    \n",
    "    def child():\n",
    "        print(\"Welcome\")\n",
    "        func()\n",
    "        print(\"Please come in\")\n",
    "    return child()"
   ]
  },
  {
   "cell_type": "code",
   "execution_count": 67,
   "id": "19982c49",
   "metadata": {},
   "outputs": [
    {
     "name": "stdout",
     "output_type": "stream",
     "text": [
      "Welcome\n",
      "This is SSUET\n",
      "Please come in\n"
     ]
    }
   ],
   "source": [
    "# parent(Uni_name)\n",
    "@parent      # This is the decorators\n",
    "def Uni_name():           \n",
    "    print(\"This is SSUET\")"
   ]
  },
  {
   "cell_type": "markdown",
   "id": "6a6c3725",
   "metadata": {},
   "source": [
    "# DECORATORS"
   ]
  },
  {
   "cell_type": "code",
   "execution_count": 68,
   "id": "f332d026",
   "metadata": {},
   "outputs": [],
   "source": [
    "def function():\n",
    "    print(\"FOr copying\")\n",
    "    \n",
    "func = function    "
   ]
  },
  {
   "cell_type": "code",
   "execution_count": 69,
   "id": "35d34e51",
   "metadata": {},
   "outputs": [
    {
     "name": "stdout",
     "output_type": "stream",
     "text": [
      "FOr copying\n"
     ]
    }
   ],
   "source": [
    "func()"
   ]
  },
  {
   "cell_type": "code",
   "execution_count": 70,
   "id": "283efafc",
   "metadata": {},
   "outputs": [],
   "source": [
    "del function"
   ]
  },
  {
   "cell_type": "code",
   "execution_count": 71,
   "id": "23d383fa",
   "metadata": {},
   "outputs": [
    {
     "name": "stdout",
     "output_type": "stream",
     "text": [
      "FOr copying\n"
     ]
    }
   ],
   "source": [
    "func()"
   ]
  },
  {
   "cell_type": "code",
   "execution_count": 65,
   "id": "81b57755",
   "metadata": {},
   "outputs": [
    {
     "ename": "NameError",
     "evalue": "name 'function' is not defined",
     "output_type": "error",
     "traceback": [
      "\u001b[1;31m---------------------------------------------------------------------------\u001b[0m",
      "\u001b[1;31mNameError\u001b[0m                                 Traceback (most recent call last)",
      "Input \u001b[1;32mIn [65]\u001b[0m, in \u001b[0;36m<cell line: 1>\u001b[1;34m()\u001b[0m\n\u001b[1;32m----> 1\u001b[0m \u001b[43mfunction\u001b[49m()\n",
      "\u001b[1;31mNameError\u001b[0m: name 'function' is not defined"
     ]
    }
   ],
   "source": [
    "function() # Ye delete hochuka h"
   ]
  },
  {
   "cell_type": "code",
   "execution_count": 23,
   "id": "b71f6c3a",
   "metadata": {},
   "outputs": [],
   "source": [
    "# Basically decorators is a save of time by repeating a function again and again write only a one function and then\n",
    "# Make a decorator of this function for using this line of codes in another function"
   ]
  },
  {
   "cell_type": "code",
   "execution_count": 24,
   "id": "ccbc9878",
   "metadata": {},
   "outputs": [
    {
     "ename": "SyntaxError",
     "evalue": "invalid syntax (56604291.py, line 1)",
     "output_type": "error",
     "traceback": [
      "\u001b[1;36m  Input \u001b[1;32mIn [24]\u001b[1;36m\u001b[0m\n\u001b[1;33m    .......\u001b[0m\n\u001b[1;37m       ^\u001b[0m\n\u001b[1;31mSyntaxError\u001b[0m\u001b[1;31m:\u001b[0m invalid syntax\n"
     ]
    }
   ],
   "source": [
    "......."
   ]
  },
  {
   "cell_type": "markdown",
   "id": "ddd12c98",
   "metadata": {},
   "source": [
    "# EXCEPTION HANDLING"
   ]
  },
  {
   "cell_type": "code",
   "execution_count": 22,
   "id": "8dfe9bb6",
   "metadata": {},
   "outputs": [
    {
     "name": "stdout",
     "output_type": "stream",
     "text": [
      "Enter a number 1 :3\n",
      "Enter a number 2 :str\n",
      "Please enter a integer\n"
     ]
    }
   ],
   "source": [
    "# jis code ko crash hone se bachana h usko try mein dalna h\n",
    "try:\n",
    "    a = int(input(\"Enter a number 1 :\"))\n",
    "    b = int(input(\"Enter a number 2 :\"))\n",
    "    c = a/b\n",
    "except ZeroDivisionError:\n",
    "    print(\"You can not divide a number by zero\")\n",
    "except ValueError:\n",
    "    print(\"Please enter a integer\")\n",
    "else:\n",
    "    print(c)\n",
    "    "
   ]
  },
  {
   "cell_type": "code",
   "execution_count": 25,
   "id": "99b19a21",
   "metadata": {},
   "outputs": [
    {
     "name": "stdout",
     "output_type": "stream",
     "text": [
      "Enter a number 1 :12\n",
      "Enter a number 2 :0\n",
      "Pakra gaya error\n",
      "Ye lazmi chalega\n"
     ]
    }
   ],
   "source": [
    "# Bar bar error lilhne se bachne k lye kuch to karna parega\n",
    "try:\n",
    "    a = int(input(\"Enter a number 1 :\"))\n",
    "    b = int(input(\"Enter a number 2 :\"))\n",
    "    c = a/b\n",
    "except :\n",
    "    print(\"Pakra gaya error\")\n",
    "else:\n",
    "    print(c)\n",
    "finally:\n",
    "    print(\"Ye lazmi chalega\")\n"
   ]
  },
  {
   "cell_type": "code",
   "execution_count": 27,
   "id": "89addb6a",
   "metadata": {},
   "outputs": [
    {
     "name": "stdout",
     "output_type": "stream",
     "text": [
      "Enter a number 1 :paksitan\n",
      "Ye error aya h :invalid literal for int() with base 10: 'paksitan'\n"
     ]
    }
   ],
   "source": [
    "# upper wale code mein ye nhi pata chalraha h k konsa ya kis type ka error h\n",
    "try:\n",
    "    a = int(input(\"Enter a number 1 :\"))\n",
    "    b = int(input(\"Enter a number 2 :\"))\n",
    "    c = a/b\n",
    "except Exception as e :\n",
    "    print(\"Ye error aya h :\"+str(e))\n",
    "else:\n",
    "    print(c)\n"
   ]
  },
  {
   "cell_type": "code",
   "execution_count": 28,
   "id": "4d615bed",
   "metadata": {},
   "outputs": [],
   "source": [
    "# Ab agar apna error banana h to uske liye raise() ka keyword use hoga\n",
    "# First we make a class of Error\n",
    "class StudentAgeExceptionError(Exception): # Idher hamne Exception ki class ko hi inherit karlia h is mein sare error ajainge\n",
    "    pass\n",
    "    "
   ]
  },
  {
   "cell_type": "code",
   "execution_count": 29,
   "id": "2b47a5c3",
   "metadata": {},
   "outputs": [],
   "source": [
    "class Student:\n",
    "    def __init__(self,name,age):\n",
    "        if (age>80 or age<18):\n",
    "            raise Exception(\"To be student you must have a age grater than 18 and less than 80\")\n",
    "        self.name = name\n",
    "        self.age = age"
   ]
  },
  {
   "cell_type": "code",
   "execution_count": 32,
   "id": "c7e702f6",
   "metadata": {},
   "outputs": [
    {
     "name": "stdout",
     "output_type": "stream",
     "text": [
      "Enter a name Ameen\n",
      "Enter a age 89\n",
      "To be student you must have a age grater than 18 and less than 80\n"
     ]
    }
   ],
   "source": [
    "name = input(\"Enter a name \")\n",
    "age = int(input(\"Enter a age \"))\n",
    "try:\n",
    "    st = Student(name,age)\n",
    "except Exception as e:\n",
    "    print(str(e))\n",
    "else:\n",
    "    print(\"You are allowed to enter in a exams\")\n"
   ]
  },
  {
   "cell_type": "code",
   "execution_count": 53,
   "id": "57485867",
   "metadata": {},
   "outputs": [],
   "source": [
    "class Group:\n",
    "    def __init__(self,name,gname):\n",
    "        if name==\"Ameen\" and gname==\"Class k Topper\":\n",
    "            raise Exception(\"You are not belong to this group\")\n",
    "        self.name = name\n",
    "        self.gname = gname\n",
    "            "
   ]
  },
  {
   "cell_type": "code",
   "execution_count": 54,
   "id": "94280798",
   "metadata": {},
   "outputs": [
    {
     "name": "stdout",
     "output_type": "stream",
     "text": [
      "Enter a nameAmeen\n",
      "Enter a group nameClass k Topper\n",
      "You are not belong to this group\n"
     ]
    }
   ],
   "source": [
    "name = input(\"Enter a name\")\n",
    "gname = input(\"Enter a group name\")\n",
    "try:\n",
    "    g = Group(name,gname)\n",
    "except Exception as e:\n",
    "    print(str(e))\n",
    "else:\n",
    "    print(\"You are belong to this group\")\n"
   ]
  },
  {
   "cell_type": "code",
   "execution_count": 63,
   "id": "18bfeead",
   "metadata": {},
   "outputs": [
    {
     "name": "stdout",
     "output_type": "stream",
     "text": [
      "Enter a student name :Saddam\n",
      "Enter a age of a student :18\n",
      "nameAcception The name must be of a student\n"
     ]
    }
   ],
   "source": [
    "class Student:\n",
    "    def __init__(self,name,age):\n",
    "        if (age>80 or age<18):\n",
    "            raise StudentAgeExceptionError(\"To be student you must have a age grater than 18 and less than 80\")\n",
    "        elif(name==\"Saddam\"):\n",
    "            raise nameAcception(\"The name must be of a student\")\n",
    "        self.name = name\n",
    "        self.age = age\n",
    "        \n",
    "class StudentAgeExceptionError(Exception): # Idher hamne Exception ki class ko hi inherit karlia h is mein sare error ajainge\n",
    "    pass\n",
    "\n",
    "class nameAcception(Exception):\n",
    "    pass\n",
    "\n",
    "try:\n",
    "    name = input(\"Enter a student name :\")\n",
    "    age = int(input(\"Enter a age of a student :\"))\n",
    "    st = Student(name,age)\n",
    "    \n",
    "# except StudentAgeExceptionError as e:\n",
    "#     print(\"StudentAgeExceptionError :\"+str(e))\n",
    "    \n",
    "except nameAcception as e:\n",
    "    print(\"nameAcception :\"+str(e))\n",
    "    \n",
    "else:\n",
    "    print(st.age)\n",
    "    print(st.name)"
   ]
  },
  {
   "cell_type": "markdown",
   "id": "3beaff2f",
   "metadata": {},
   "source": [
    "# DEALING WITH FILE SYSTEM IN PYTHON"
   ]
  },
  {
   "cell_type": "code",
   "execution_count": 84,
   "id": "80a40b1d",
   "metadata": {},
   "outputs": [
    {
     "name": "stdout",
     "output_type": "stream",
     "text": [
      "Assalam u Alaikum .\n",
      "My name is Ameen Hamza .\n",
      "My Father name is Abid Hussain Siddiqui .\n",
      "I currently studied Computer Science in program of Artificial Intelligence .\n",
      "So this file is for testing file IO .\n"
     ]
    }
   ],
   "source": [
    "f = open(\"file.txt\") # idher agar ham \"r\" na bhi dain to automatically ajata h\n",
    "data = f.read()\n",
    "print(data)\n",
    "f.close()"
   ]
  },
  {
   "cell_type": "code",
   "execution_count": 7,
   "id": "04457be4",
   "metadata": {},
   "outputs": [
    {
     "name": "stdout",
     "output_type": "stream",
     "text": [
      "Assalam u Alaikum .\n",
      "\n",
      "['My name is Ameen Hamza .\\n', 'My Father name is Abid Hussain Siddiqui .\\n', 'I currently studied Computer Science in program of Artificial Intelligence .\\n', 'So this file is for testing file IO .']\n"
     ]
    }
   ],
   "source": [
    "# For read the selected line\n",
    "f = open(\"file.txt\")\n",
    "data = f.readline() # This reads only one line\n",
    "print(data)\n",
    "data2 = f.readlines()\n",
    "print(data2)\n"
   ]
  },
  {
   "cell_type": "markdown",
   "id": "8ce1d616",
   "metadata": {},
   "source": [
    "## WRITING"
   ]
  },
  {
   "cell_type": "code",
   "execution_count": 3,
   "id": "eb60f618",
   "metadata": {},
   "outputs": [],
   "source": [
    "f = open(\"file2.txt\",\"w\")\n",
    "data = f.write(\"Assalam u Alaikum .My name is Ameen Hamza .\")\n",
    "f.close()"
   ]
  },
  {
   "cell_type": "code",
   "execution_count": 4,
   "id": "8ce5a1ec",
   "metadata": {},
   "outputs": [
    {
     "name": "stdout",
     "output_type": "stream",
     "text": [
      "['Assalam u Alaikum .\\n', 'My name is Ameen Hamza .\\n', 'My Father name is Abid Hussain Siddiqui .\\n', 'I currently studied Computer Science in program of Artificial Intelligence .\\n', 'So this file is for testing file IO .']\n"
     ]
    }
   ],
   "source": [
    "f = open(\"file.txt\")\n",
    "data = f.readlines() # This reads only one line\n",
    "print(data)\n",
    "f.close()"
   ]
  },
  {
   "cell_type": "code",
   "execution_count": 86,
   "id": "c4df233e",
   "metadata": {},
   "outputs": [
    {
     "name": "stdout",
     "output_type": "stream",
     "text": [
      "Assalam u Alaikum .\n",
      "My name is Ameen Hamza .\n",
      "My Father name is Abid Hussain Siddiqui .\n",
      "I currently studied Computer Science in program of Artificial Intelligence .\n",
      "So this file is for testing file IO .\n"
     ]
    }
   ],
   "source": [
    "f = open(\"file.txt\",\"r\")\n",
    "print(f.read())\n",
    "# f.seek(15)\n",
    "#   seek function jitne no dalen h wahin se shuru karega\n",
    "f.close()"
   ]
  },
  {
   "cell_type": "code",
   "execution_count": 87,
   "id": "2c8353c5",
   "metadata": {},
   "outputs": [],
   "source": [
    "# f.seek(30)\n",
    "# f.read()"
   ]
  },
  {
   "cell_type": "code",
   "execution_count": 6,
   "id": "d3174f99",
   "metadata": {},
   "outputs": [
    {
     "ename": "ValueError",
     "evalue": "I/O operation on closed file.",
     "output_type": "error",
     "traceback": [
      "\u001b[1;31m---------------------------------------------------------------------------\u001b[0m",
      "\u001b[1;31mValueError\u001b[0m                                Traceback (most recent call last)",
      "Input \u001b[1;32mIn [6]\u001b[0m, in \u001b[0;36m<cell line: 2>\u001b[1;34m()\u001b[0m\n\u001b[0;32m      1\u001b[0m \u001b[38;5;66;03m# This is make a dictionary of file data\u001b[39;00m\n\u001b[1;32m----> 2\u001b[0m \u001b[43mf\u001b[49m\u001b[38;5;241;43m.\u001b[39;49m\u001b[43mreadlines\u001b[49m\u001b[43m(\u001b[49m\u001b[43m)\u001b[49m\n",
      "\u001b[1;31mValueError\u001b[0m: I/O operation on closed file."
     ]
    }
   ],
   "source": [
    "# This is make a dictionary of file data\n",
    "f.readlines()"
   ]
  },
  {
   "cell_type": "code",
   "execution_count": 8,
   "id": "a115414b",
   "metadata": {},
   "outputs": [
    {
     "name": "stdout",
     "output_type": "stream",
     "text": [
      "Assalam u Alaikum .\n",
      "\n",
      "My name is Ameen Hamza .\n",
      "\n",
      "My Father name is Abid Hussain Siddiqui .\n",
      "\n",
      "I currently studied Computer Science in program of Artificial Intelligence .\n",
      "\n",
      "So this file is for testing file IO .\n"
     ]
    }
   ],
   "source": [
    "f = open(\"file.txt\",\"r\") # idher agar ham \"r\" na bhi dain to automatically ajata h\n",
    "lines = f.readlines()\n",
    "\n",
    "for line in lines:\n",
    "    print(line)     # This loops print a readlines function in different lines\n",
    "f.close()"
   ]
  },
  {
   "cell_type": "code",
   "execution_count": 11,
   "id": "dc79dcfb",
   "metadata": {},
   "outputs": [],
   "source": [
    "# Appending data in files\n",
    "f = open(\"file.txt\",\"a\") # idher agar ham \"r\" na bhi dain to automatically ajata h\n",
    "f.write(\"\\nThis is appending line\")\n",
    "f.close()"
   ]
  },
  {
   "cell_type": "code",
   "execution_count": 12,
   "id": "f00c3982",
   "metadata": {},
   "outputs": [
    {
     "name": "stdout",
     "output_type": "stream",
     "text": [
      "Assalam u Alaikum .\n",
      "My name is Ameen Hamza .\n",
      "My Father name is Abid Hussain Siddiqui .\n",
      "I currently studied Computer Science in program of Artificial Intelligence .\n",
      "So this file is for testing file IO .This is appending line\n",
      "This is appending line\n"
     ]
    }
   ],
   "source": [
    "f = open(\"file.txt\") # idher agar ham \"r\" na bhi dain to automatically ajata h\n",
    "data = f.read()\n",
    "print(data)\n",
    "f.close()"
   ]
  },
  {
   "cell_type": "markdown",
   "id": "f68015a3",
   "metadata": {},
   "source": [
    "# CONTEXT MANAGER"
   ]
  },
  {
   "cell_type": "code",
   "execution_count": 13,
   "id": "26677ff2",
   "metadata": {},
   "outputs": [
    {
     "name": "stdout",
     "output_type": "stream",
     "text": [
      "Assalam u Alaikum .\n",
      "My name is Ameen Hamza .\n",
      "My Father name is Abid Hussain Siddiqui .\n",
      "I currently studied Computer Science in program of Artificial Intelligence .\n",
      "So this file is for testing file IO .This is appending line\n",
      "This is appending line\n"
     ]
    }
   ],
   "source": [
    "# Context manager is for not write a close() function in last\n",
    "with open(\"file.txt\",\"r\") as f:\n",
    "    a = f.read()\n",
    "    print(a)"
   ]
  },
  {
   "cell_type": "code",
   "execution_count": 14,
   "id": "fb29888b",
   "metadata": {},
   "outputs": [],
   "source": [
    "with open(\"file2.txt\",\"w\") as f:\n",
    "    f.write(\"This is writing\")"
   ]
  },
  {
   "cell_type": "code",
   "execution_count": 19,
   "id": "0404d590",
   "metadata": {},
   "outputs": [],
   "source": [
    "lst = [\"Are you sure.\",\"Nice to meet you.\",\"It's cold weather outside.\"]"
   ]
  },
  {
   "cell_type": "code",
   "execution_count": 20,
   "id": "812b6e3d",
   "metadata": {},
   "outputs": [],
   "source": [
    "with open(\"lst.txt\",\"w\") as f:\n",
    "    f.write(\"THis is checking for reading from other file ... \")\n",
    "    f.writelines(lst)"
   ]
  },
  {
   "cell_type": "code",
   "execution_count": 23,
   "id": "5204d991",
   "metadata": {},
   "outputs": [
    {
     "name": "stdout",
     "output_type": "stream",
     "text": [
      "[\"THis is checking for reading from other file ... Are you sure.Nice to meet you.It's cold weather outside.\"]\n"
     ]
    }
   ],
   "source": [
    "with open(\"lst.txt\",\"r\") as f:\n",
    "    a=f.readlines() # readlines mein farq ye h k list create hojati h\n",
    "    print(a)"
   ]
  },
  {
   "cell_type": "code",
   "execution_count": 24,
   "id": "8ce20934",
   "metadata": {},
   "outputs": [],
   "source": [
    "# Create file like upper file with loop\n",
    "with open(\"new.txt\",\"w\") as f:\n",
    "    for line in lst:\n",
    "        f.write(line+\"\\n\")"
   ]
  },
  {
   "cell_type": "code",
   "execution_count": 27,
   "id": "c6bb1b4f",
   "metadata": {},
   "outputs": [
    {
     "name": "stdout",
     "output_type": "stream",
     "text": [
      "['A generator is a just function that returns an iterable object', ' which we can iterate over (one value at a time)', ' Moreover, a generator function has one main difference from a regular function', ' It has a yield statement instead of a return statement in a regular function', '\\nTo build an iterator in Python', ' you should do a lot of work', ' You have to implement a class with __iter__ and __next__ magic method, keep track of internal states and raise', ' StopIteration when there are no values to be returned', '\\nA generator is a very simple way to create an iterator ', 'Because a generator does all of these steps automatically', '']\n"
     ]
    }
   ],
   "source": [
    "# For opening file which presents anywhere\n",
    "with open(\"C:/Users/Moosa-Computers/Desktop/check.txt\",\"r\") as f:\n",
    "    lst_content = f.read().split(\".\")\n",
    "    print(lst_content)\n"
   ]
  },
  {
   "cell_type": "code",
   "execution_count": 33,
   "id": "c12a63a7",
   "metadata": {},
   "outputs": [],
   "source": [
    "with open(\"data.txt\",\"w\") as file:\n",
    "    for line in lst_content:\n",
    "        file.write(line.strip()+\"\\n\") # strip() function removes all the spaces "
   ]
  },
  {
   "cell_type": "code",
   "execution_count": 34,
   "id": "5459bcde",
   "metadata": {},
   "outputs": [
    {
     "name": "stdout",
     "output_type": "stream",
     "text": [
      "A generator is a just function that returns an iterable object\n",
      "which we can iterate over (one value at a time)\n",
      "Moreover, a generator function has one main difference from a regular function\n",
      "It has a yield statement instead of a return statement in a regular function\n",
      "To build an iterator in Python\n",
      "you should do a lot of work\n",
      "You have to implement a class with __iter__ and __next__ magic method, keep track of internal states and raise\n",
      "StopIteration when there are no values to be returned\n",
      "A generator is a very simple way to create an iterator\n",
      "Because a generator does all of these steps automatically\n",
      "\n",
      "\n"
     ]
    }
   ],
   "source": [
    "with open(\"data.txt\",\"r\") as f:\n",
    "    a = f.read()\n",
    "    print(a)"
   ]
  },
  {
   "cell_type": "markdown",
   "id": "ff9cbfe2",
   "metadata": {},
   "source": [
    "# For CSV Files"
   ]
  },
  {
   "cell_type": "code",
   "execution_count": 35,
   "id": "d2905d7c",
   "metadata": {},
   "outputs": [],
   "source": [
    "import csv"
   ]
  },
  {
   "cell_type": "code",
   "execution_count": 36,
   "id": "50038f05",
   "metadata": {},
   "outputs": [
    {
     "name": "stdout",
     "output_type": "stream",
     "text": [
      "['1', 'Eldon Base for stackable storage shelf, platinum', 'Muhammed MacIntyre', '3', '-213.25', '38.94', '35', 'Nunavut', 'Storage & Organization', '0.8']\n",
      "['2', '1.7 Cubic Foot Compact \"Cube\" Office Refrigerators', 'Barry French', '293', '457.81', '208.16', '68.02', 'Nunavut', 'Appliances', '0.58']\n",
      "['3', 'Cardinal Slant-D® Ring Binder, Heavy Gauge Vinyl', 'Barry French', '293', '46.71', '8.69', '2.99', 'Nunavut', 'Binders and Binder Accessories', '0.39']\n",
      "['4', 'R380', 'Clay Rozendal', '483', '1198.97', '195.99', '3.99', 'Nunavut', 'Telephones and Communication', '0.58']\n",
      "['5', 'Holmes HEPA Air Purifier', 'Carlos Soltero', '515', '30.94', '21.78', '5.94', 'Nunavut', 'Appliances', '0.5']\n",
      "['6', 'G.E. Longer-Life Indoor Recessed Floodlight Bulbs', 'Carlos Soltero', '515', '4.43', '6.64', '4.95', 'Nunavut', 'Office Furnishings', '0.37']\n",
      "['7', 'Angle-D Binders with Locking Rings, Label Holders', 'Carl Jackson', '613', '-54.04', '7.3', '7.72', 'Nunavut', 'Binders and Binder Accessories', '0.38']\n",
      "['8', 'SAFCO Mobile Desk Side File, Wire Frame', 'Carl Jackson', '613', '127.70', '42.76', '6.22', 'Nunavut', 'Storage & Organization', '']\n",
      "['9', 'SAFCO Commercial Wire Shelving, Black', 'Monica Federle', '643', '-695.26', '138.14', '35', 'Nunavut', 'Storage & Organization', '']\n",
      "['10', 'Xerox 198', 'Dorothy Badders', '678', '-226.36', '4.98', '8.33', 'Nunavut', 'Paper', '0.38']\n"
     ]
    }
   ],
   "source": [
    "with open(r'C:\\Users\\Moosa-Computers\\Downloads\\competitions.csv',\"r\") as f:\n",
    "    content = csv.reader(f)\n",
    "    for cont in content:\n",
    "        print(cont)\n",
    "        \n",
    "# One row ko ek dicrionary mein rakhdega"
   ]
  },
  {
   "cell_type": "code",
   "execution_count": 39,
   "id": "e3f1aa6e",
   "metadata": {},
   "outputs": [],
   "source": [
    "# for writing in csv file\n",
    "with open(\"competitions.csv\",\"a\") as f:\n",
    "    data_handler = csv.writer(f,delimiter=',')\n",
    "    data_handler.writerow([\"1999\", \"Gobstones\",\"Welch National\"])\n",
    "    data_handler.writerow([\"2002\", \"\"])\n",
    "    data_handler.writerows(['Year  ', 'Event', ' Winner'])"
   ]
  },
  {
   "cell_type": "code",
   "execution_count": null,
   "id": "0cfd9e9c",
   "metadata": {},
   "outputs": [],
   "source": [
    "# Json ............"
   ]
  }
 ],
 "metadata": {
  "kernelspec": {
   "display_name": "Python 3 (ipykernel)",
   "language": "python",
   "name": "python3"
  },
  "language_info": {
   "codemirror_mode": {
    "name": "ipython",
    "version": 3
   },
   "file_extension": ".py",
   "mimetype": "text/x-python",
   "name": "python",
   "nbconvert_exporter": "python",
   "pygments_lexer": "ipython3",
   "version": "3.9.12"
  }
 },
 "nbformat": 4,
 "nbformat_minor": 5
}
